{
 "cells": [
  {
   "cell_type": "markdown",
   "id": "db106a0ce89886c6",
   "metadata": {},
   "source": [
    "# Practice on Keras Functional API"
   ]
  },
  {
   "cell_type": "code",
   "execution_count": 1,
   "id": "eb2390991af87b21",
   "metadata": {
    "ExecuteTime": {
     "end_time": "2023-08-20T03:42:50.019765700Z",
     "start_time": "2023-08-20T03:42:47.270773300Z"
    }
   },
   "outputs": [
    {
     "name": "stderr",
     "output_type": "stream",
     "text": [
      "2023-08-19 23:42:47.591552: I tensorflow/core/platform/cpu_feature_guard.cc:182] This TensorFlow binary is optimized to use available CPU instructions in performance-critical operations.\n",
      "To enable the following instructions: AVX2 FMA, in other operations, rebuild TensorFlow with the appropriate compiler flags.\n",
      "2023-08-19 23:42:48.841337: W tensorflow/compiler/tf2tensorrt/utils/py_utils.cc:38] TF-TRT Warning: Could not find TensorRT\n"
     ]
    }
   ],
   "source": [
    "# imports\n",
    "import tensorflow as tf\n",
    "import numpy as np\n",
    "import matplotlib.pyplot as plt\n",
    "from tensorflow.keras import backend as K\n",
    "from tensorflow.keras.callbacks import EarlyStopping\n",
    "# for types hints\n",
    "from typing import Tuple, Callable, List\n",
    "from tensorflow import Tensor"
   ]
  },
  {
   "cell_type": "code",
   "execution_count": 2,
   "id": "0566659f",
   "metadata": {
    "ExecuteTime": {
     "end_time": "2023-08-20T03:42:50.635766600Z",
     "start_time": "2023-08-20T03:42:50.620766400Z"
    }
   },
   "outputs": [
    {
     "name": "stdout",
     "output_type": "stream",
     "text": [
      "Num GPUs Available:  1\n"
     ]
    },
    {
     "name": "stderr",
     "output_type": "stream",
     "text": [
      "2023-08-19 23:42:50.580176: I tensorflow/compiler/xla/stream_executor/cuda/cuda_gpu_executor.cc:981] could not open file to read NUMA node: /sys/bus/pci/devices/0000:03:00.0/numa_node\n",
      "Your kernel may have been built without NUMA support.\n",
      "2023-08-19 23:42:50.615817: I tensorflow/compiler/xla/stream_executor/cuda/cuda_gpu_executor.cc:981] could not open file to read NUMA node: /sys/bus/pci/devices/0000:03:00.0/numa_node\n",
      "Your kernel may have been built without NUMA support.\n",
      "2023-08-19 23:42:50.616060: I tensorflow/compiler/xla/stream_executor/cuda/cuda_gpu_executor.cc:981] could not open file to read NUMA node: /sys/bus/pci/devices/0000:03:00.0/numa_node\n",
      "Your kernel may have been built without NUMA support.\n"
     ]
    },
    {
     "data": {
      "text/plain": "[PhysicalDevice(name='/physical_device:GPU:0', device_type='GPU')]"
     },
     "execution_count": 2,
     "metadata": {},
     "output_type": "execute_result"
    }
   ],
   "source": [
    "# check for gpus\n",
    "print(\"Num GPUs Available: \", len(tf.config.experimental.list_physical_devices('GPU')))\n",
    "# list their names\n",
    "tf.config.experimental.list_physical_devices('GPU')"
   ]
  },
  {
   "cell_type": "code",
   "execution_count": 3,
   "id": "235572d8aa183bc7",
   "metadata": {
    "ExecuteTime": {
     "end_time": "2023-08-20T03:42:53.097796700Z",
     "start_time": "2023-08-20T03:42:53.091297400Z"
    }
   },
   "outputs": [],
   "source": [
    "# mnist dataset\n",
    "def load_and_preprocess_mnist() -> Tuple[Tuple[Tensor, Tensor], Tuple[Tensor, Tensor]]:\n",
    "    \"\"\"\n",
    "    Load the MNIST dataset, preprocess images, and perform one-hot encoding of labels.\n",
    "\n",
    "    :return: Tuple of training data (x_train, y_train) and testing data (x_test, y_test).\n",
    "    \"\"\"\n",
    "    # Load MNIST dataset\n",
    "    (x_train, y_train), (x_test, y_test) =  tf.keras.datasets.mnist.load_data()\n",
    "\n",
    "    # Reshape and normalize images\n",
    "    x_train = x_train.reshape(60000, 784).astype('float32') / 255\n",
    "    x_test = x_test.reshape(10000, 784).astype('float32') / 255\n",
    "\n",
    "    # One-hot encoding of labels\n",
    "    y_train = tf.keras.utils.to_categorical(y_train, 10)\n",
    "    y_test = tf.keras.utils.to_categorical(y_test, 10)\n",
    "\n",
    "    return (x_train, y_train), (x_test, y_test)"
   ]
  },
  {
   "cell_type": "code",
   "execution_count": 4,
   "id": "42ff4c5d4d8c22ec",
   "metadata": {
    "ExecuteTime": {
     "end_time": "2023-08-20T03:42:56.764675200Z",
     "start_time": "2023-08-20T03:42:56.228175400Z"
    }
   },
   "outputs": [],
   "source": [
    "\n",
    "(x_train, y_train), (x_test, y_test) = load_and_preprocess_mnist()\n"
   ]
  },
  {
   "cell_type": "code",
   "execution_count": 5,
   "id": "5a49bafd834711d3",
   "metadata": {
    "ExecuteTime": {
     "end_time": "2023-08-20T03:43:00.921219800Z",
     "start_time": "2023-08-20T03:42:58.680221200Z"
    }
   },
   "outputs": [
    {
     "name": "stderr",
     "output_type": "stream",
     "text": [
      "2023-08-19 23:42:58.692530: I tensorflow/compiler/xla/stream_executor/cuda/cuda_gpu_executor.cc:981] could not open file to read NUMA node: /sys/bus/pci/devices/0000:03:00.0/numa_node\n",
      "Your kernel may have been built without NUMA support.\n",
      "2023-08-19 23:42:58.692825: I tensorflow/compiler/xla/stream_executor/cuda/cuda_gpu_executor.cc:981] could not open file to read NUMA node: /sys/bus/pci/devices/0000:03:00.0/numa_node\n",
      "Your kernel may have been built without NUMA support.\n",
      "2023-08-19 23:42:58.693079: I tensorflow/compiler/xla/stream_executor/cuda/cuda_gpu_executor.cc:981] could not open file to read NUMA node: /sys/bus/pci/devices/0000:03:00.0/numa_node\n",
      "Your kernel may have been built without NUMA support.\n",
      "2023-08-19 23:43:00.183085: I tensorflow/compiler/xla/stream_executor/cuda/cuda_gpu_executor.cc:981] could not open file to read NUMA node: /sys/bus/pci/devices/0000:03:00.0/numa_node\n",
      "Your kernel may have been built without NUMA support.\n",
      "2023-08-19 23:43:00.183494: I tensorflow/compiler/xla/stream_executor/cuda/cuda_gpu_executor.cc:981] could not open file to read NUMA node: /sys/bus/pci/devices/0000:03:00.0/numa_node\n",
      "Your kernel may have been built without NUMA support.\n",
      "2023-08-19 23:43:00.183514: I tensorflow/core/common_runtime/gpu/gpu_device.cc:1726] Could not identify NUMA node of platform GPU id 0, defaulting to 0.  Your kernel may not have been built with NUMA support.\n",
      "2023-08-19 23:43:00.183791: I tensorflow/compiler/xla/stream_executor/cuda/cuda_gpu_executor.cc:981] could not open file to read NUMA node: /sys/bus/pci/devices/0000:03:00.0/numa_node\n",
      "Your kernel may have been built without NUMA support.\n",
      "2023-08-19 23:43:00.183831: I tensorflow/core/common_runtime/gpu/gpu_device.cc:1639] Created device /job:localhost/replica:0/task:0/device:GPU:0 with 9539 MB memory:  -> device: 0, name: NVIDIA GeForce RTX 3060, pci bus id: 0000:03:00.0, compute capability: 8.6\n"
     ]
    }
   ],
   "source": [
    "# building the model\n",
    "def build_model() -> tf.keras.Model:\n",
    "    \"\"\"\n",
    "    Build a simple MLP model for MNIST classification.\n",
    "    :return: A tf.keras Model with inputs and outputs defined.\n",
    "    \"\"\"\n",
    "    inputs = tf.keras.Input(shape=(784,), name='input')  # input layer\n",
    "    x = tf.keras.layers.Dense(64, activation='relu', name='hidden1')(inputs)  # hidden layer\n",
    "    x = tf.keras.layers.Dense(64, activation='relu', name='hidden2')(x)  # hidden layer\n",
    "    outputs = tf.keras.layers.Dense(10, activation='softmax', name='output')(x)  # output layer\n",
    "    \n",
    "    return tf.keras.Model(inputs=inputs, outputs=outputs)\n",
    "\n",
    "model_ce = build_model()\n",
    "model_fl = build_model()\n",
    "model_rl = build_model()"
   ]
  },
  {
   "cell_type": "code",
   "execution_count": 6,
   "id": "74658d8b5c82aac1",
   "metadata": {
    "ExecuteTime": {
     "end_time": "2023-08-20T03:43:08.657281900Z",
     "start_time": "2023-08-20T03:43:04.481781300Z"
    }
   },
   "outputs": [
    {
     "name": "stdout",
     "output_type": "stream",
     "text": [
      "Epoch 1/100\n"
     ]
    },
    {
     "name": "stderr",
     "output_type": "stream",
     "text": [
      "2023-08-19 23:43:07.433119: I tensorflow/compiler/xla/stream_executor/cuda/cuda_blas.cc:606] TensorFloat-32 will be used for the matrix multiplication. This will only be logged once.\n",
      "2023-08-19 23:43:07.436598: I tensorflow/compiler/xla/service/service.cc:168] XLA service 0x7f60fa02ae20 initialized for platform CUDA (this does not guarantee that XLA will be used). Devices:\n",
      "2023-08-19 23:43:07.436632: I tensorflow/compiler/xla/service/service.cc:176]   StreamExecutor device (0): NVIDIA GeForce RTX 3060, Compute Capability 8.6\n",
      "2023-08-19 23:43:07.664263: I tensorflow/compiler/xla/stream_executor/cuda/cuda_dnn.cc:432] Loaded cuDNN version 8600\n",
      "2023-08-19 23:43:07.739508: I ./tensorflow/compiler/jit/device_compiler.h:186] Compiled cluster using XLA!  This line is logged at most once for the lifetime of the process.\n"
     ]
    },
    {
     "ename": "KeyboardInterrupt",
     "evalue": "",
     "output_type": "error",
     "traceback": [
      "\u001B[0;31m---------------------------------------------------------------------------\u001B[0m",
      "\u001B[0;31mKeyboardInterrupt\u001B[0m                         Traceback (most recent call last)",
      "Cell \u001B[0;32mIn[6], line 8\u001B[0m\n\u001B[1;32m      6\u001B[0m \u001B[38;5;66;03m# training the model\u001B[39;00m\n\u001B[1;32m      7\u001B[0m early_stopping_callback \u001B[38;5;241m=\u001B[39m EarlyStopping(monitor\u001B[38;5;241m=\u001B[39m\u001B[38;5;124m'\u001B[39m\u001B[38;5;124mval_loss\u001B[39m\u001B[38;5;124m'\u001B[39m, patience\u001B[38;5;241m=\u001B[39m\u001B[38;5;241m6\u001B[39m, restore_best_weights\u001B[38;5;241m=\u001B[39m\u001B[38;5;28;01mTrue\u001B[39;00m)\n\u001B[0;32m----> 8\u001B[0m \u001B[43mmodel_ce\u001B[49m\u001B[38;5;241;43m.\u001B[39;49m\u001B[43mfit\u001B[49m\u001B[43m(\u001B[49m\u001B[43mx_train\u001B[49m\u001B[43m,\u001B[49m\u001B[43m \u001B[49m\u001B[43my_train\u001B[49m\u001B[43m,\u001B[49m\u001B[43m \u001B[49m\u001B[43mbatch_size\u001B[49m\u001B[38;5;241;43m=\u001B[39;49m\u001B[38;5;241;43m64\u001B[39;49m\u001B[43m,\u001B[49m\u001B[43m \u001B[49m\u001B[43mepochs\u001B[49m\u001B[38;5;241;43m=\u001B[39;49m\u001B[38;5;241;43m100\u001B[39;49m\u001B[43m,\u001B[49m\u001B[43m \u001B[49m\u001B[43mvalidation_split\u001B[49m\u001B[38;5;241;43m=\u001B[39;49m\u001B[38;5;241;43m0.2\u001B[39;49m\u001B[43m,\u001B[49m\u001B[43m \u001B[49m\u001B[43mcallbacks\u001B[49m\u001B[38;5;241;43m=\u001B[39;49m\u001B[43m[\u001B[49m\u001B[43mearly_stopping_callback\u001B[49m\u001B[43m]\u001B[49m\u001B[43m)\u001B[49m\n\u001B[1;32m      9\u001B[0m \u001B[38;5;66;03m# evaluating the model\u001B[39;00m\n\u001B[1;32m     10\u001B[0m test_scores \u001B[38;5;241m=\u001B[39m model_ce\u001B[38;5;241m.\u001B[39mevaluate(x_test, y_test, verbose\u001B[38;5;241m=\u001B[39m\u001B[38;5;241m2\u001B[39m)\n",
      "File \u001B[0;32m~/anaconda3/envs/tf/lib/python3.9/site-packages/keras/src/utils/traceback_utils.py:65\u001B[0m, in \u001B[0;36mfilter_traceback.<locals>.error_handler\u001B[0;34m(*args, **kwargs)\u001B[0m\n\u001B[1;32m     63\u001B[0m filtered_tb \u001B[38;5;241m=\u001B[39m \u001B[38;5;28;01mNone\u001B[39;00m\n\u001B[1;32m     64\u001B[0m \u001B[38;5;28;01mtry\u001B[39;00m:\n\u001B[0;32m---> 65\u001B[0m     \u001B[38;5;28;01mreturn\u001B[39;00m \u001B[43mfn\u001B[49m\u001B[43m(\u001B[49m\u001B[38;5;241;43m*\u001B[39;49m\u001B[43margs\u001B[49m\u001B[43m,\u001B[49m\u001B[43m \u001B[49m\u001B[38;5;241;43m*\u001B[39;49m\u001B[38;5;241;43m*\u001B[39;49m\u001B[43mkwargs\u001B[49m\u001B[43m)\u001B[49m\n\u001B[1;32m     66\u001B[0m \u001B[38;5;28;01mexcept\u001B[39;00m \u001B[38;5;167;01mException\u001B[39;00m \u001B[38;5;28;01mas\u001B[39;00m e:\n\u001B[1;32m     67\u001B[0m     filtered_tb \u001B[38;5;241m=\u001B[39m _process_traceback_frames(e\u001B[38;5;241m.\u001B[39m__traceback__)\n",
      "File \u001B[0;32m~/anaconda3/envs/tf/lib/python3.9/site-packages/keras/src/engine/training.py:1742\u001B[0m, in \u001B[0;36mModel.fit\u001B[0;34m(self, x, y, batch_size, epochs, verbose, callbacks, validation_split, validation_data, shuffle, class_weight, sample_weight, initial_epoch, steps_per_epoch, validation_steps, validation_batch_size, validation_freq, max_queue_size, workers, use_multiprocessing)\u001B[0m\n\u001B[1;32m   1734\u001B[0m \u001B[38;5;28;01mwith\u001B[39;00m tf\u001B[38;5;241m.\u001B[39mprofiler\u001B[38;5;241m.\u001B[39mexperimental\u001B[38;5;241m.\u001B[39mTrace(\n\u001B[1;32m   1735\u001B[0m     \u001B[38;5;124m\"\u001B[39m\u001B[38;5;124mtrain\u001B[39m\u001B[38;5;124m\"\u001B[39m,\n\u001B[1;32m   1736\u001B[0m     epoch_num\u001B[38;5;241m=\u001B[39mepoch,\n\u001B[0;32m   (...)\u001B[0m\n\u001B[1;32m   1739\u001B[0m     _r\u001B[38;5;241m=\u001B[39m\u001B[38;5;241m1\u001B[39m,\n\u001B[1;32m   1740\u001B[0m ):\n\u001B[1;32m   1741\u001B[0m     callbacks\u001B[38;5;241m.\u001B[39mon_train_batch_begin(step)\n\u001B[0;32m-> 1742\u001B[0m     tmp_logs \u001B[38;5;241m=\u001B[39m \u001B[38;5;28;43mself\u001B[39;49m\u001B[38;5;241;43m.\u001B[39;49m\u001B[43mtrain_function\u001B[49m\u001B[43m(\u001B[49m\u001B[43miterator\u001B[49m\u001B[43m)\u001B[49m\n\u001B[1;32m   1743\u001B[0m     \u001B[38;5;28;01mif\u001B[39;00m data_handler\u001B[38;5;241m.\u001B[39mshould_sync:\n\u001B[1;32m   1744\u001B[0m         context\u001B[38;5;241m.\u001B[39masync_wait()\n",
      "File \u001B[0;32m~/anaconda3/envs/tf/lib/python3.9/site-packages/tensorflow/python/util/traceback_utils.py:150\u001B[0m, in \u001B[0;36mfilter_traceback.<locals>.error_handler\u001B[0;34m(*args, **kwargs)\u001B[0m\n\u001B[1;32m    148\u001B[0m filtered_tb \u001B[38;5;241m=\u001B[39m \u001B[38;5;28;01mNone\u001B[39;00m\n\u001B[1;32m    149\u001B[0m \u001B[38;5;28;01mtry\u001B[39;00m:\n\u001B[0;32m--> 150\u001B[0m   \u001B[38;5;28;01mreturn\u001B[39;00m \u001B[43mfn\u001B[49m\u001B[43m(\u001B[49m\u001B[38;5;241;43m*\u001B[39;49m\u001B[43margs\u001B[49m\u001B[43m,\u001B[49m\u001B[43m \u001B[49m\u001B[38;5;241;43m*\u001B[39;49m\u001B[38;5;241;43m*\u001B[39;49m\u001B[43mkwargs\u001B[49m\u001B[43m)\u001B[49m\n\u001B[1;32m    151\u001B[0m \u001B[38;5;28;01mexcept\u001B[39;00m \u001B[38;5;167;01mException\u001B[39;00m \u001B[38;5;28;01mas\u001B[39;00m e:\n\u001B[1;32m    152\u001B[0m   filtered_tb \u001B[38;5;241m=\u001B[39m _process_traceback_frames(e\u001B[38;5;241m.\u001B[39m__traceback__)\n",
      "File \u001B[0;32m~/anaconda3/envs/tf/lib/python3.9/site-packages/tensorflow/python/eager/polymorphic_function/polymorphic_function.py:825\u001B[0m, in \u001B[0;36mFunction.__call__\u001B[0;34m(self, *args, **kwds)\u001B[0m\n\u001B[1;32m    822\u001B[0m compiler \u001B[38;5;241m=\u001B[39m \u001B[38;5;124m\"\u001B[39m\u001B[38;5;124mxla\u001B[39m\u001B[38;5;124m\"\u001B[39m \u001B[38;5;28;01mif\u001B[39;00m \u001B[38;5;28mself\u001B[39m\u001B[38;5;241m.\u001B[39m_jit_compile \u001B[38;5;28;01melse\u001B[39;00m \u001B[38;5;124m\"\u001B[39m\u001B[38;5;124mnonXla\u001B[39m\u001B[38;5;124m\"\u001B[39m\n\u001B[1;32m    824\u001B[0m \u001B[38;5;28;01mwith\u001B[39;00m OptionalXlaContext(\u001B[38;5;28mself\u001B[39m\u001B[38;5;241m.\u001B[39m_jit_compile):\n\u001B[0;32m--> 825\u001B[0m   result \u001B[38;5;241m=\u001B[39m \u001B[38;5;28;43mself\u001B[39;49m\u001B[38;5;241;43m.\u001B[39;49m\u001B[43m_call\u001B[49m\u001B[43m(\u001B[49m\u001B[38;5;241;43m*\u001B[39;49m\u001B[43margs\u001B[49m\u001B[43m,\u001B[49m\u001B[43m \u001B[49m\u001B[38;5;241;43m*\u001B[39;49m\u001B[38;5;241;43m*\u001B[39;49m\u001B[43mkwds\u001B[49m\u001B[43m)\u001B[49m\n\u001B[1;32m    827\u001B[0m new_tracing_count \u001B[38;5;241m=\u001B[39m \u001B[38;5;28mself\u001B[39m\u001B[38;5;241m.\u001B[39mexperimental_get_tracing_count()\n\u001B[1;32m    828\u001B[0m without_tracing \u001B[38;5;241m=\u001B[39m (tracing_count \u001B[38;5;241m==\u001B[39m new_tracing_count)\n",
      "File \u001B[0;32m~/anaconda3/envs/tf/lib/python3.9/site-packages/tensorflow/python/eager/polymorphic_function/polymorphic_function.py:890\u001B[0m, in \u001B[0;36mFunction._call\u001B[0;34m(self, *args, **kwds)\u001B[0m\n\u001B[1;32m    886\u001B[0m     \u001B[38;5;28;01mpass\u001B[39;00m  \u001B[38;5;66;03m# Fall through to cond-based initialization.\u001B[39;00m\n\u001B[1;32m    887\u001B[0m   \u001B[38;5;28;01melse\u001B[39;00m:\n\u001B[1;32m    888\u001B[0m     \u001B[38;5;66;03m# Lifting succeeded, so variables are initialized and we can run the\u001B[39;00m\n\u001B[1;32m    889\u001B[0m     \u001B[38;5;66;03m# no_variable_creation function.\u001B[39;00m\n\u001B[0;32m--> 890\u001B[0m     \u001B[38;5;28;01mreturn\u001B[39;00m \u001B[38;5;28;43mself\u001B[39;49m\u001B[38;5;241;43m.\u001B[39;49m\u001B[43m_no_variable_creation_fn\u001B[49m\u001B[43m(\u001B[49m\u001B[38;5;241;43m*\u001B[39;49m\u001B[43margs\u001B[49m\u001B[43m,\u001B[49m\u001B[43m \u001B[49m\u001B[38;5;241;43m*\u001B[39;49m\u001B[38;5;241;43m*\u001B[39;49m\u001B[43mkwds\u001B[49m\u001B[43m)\u001B[49m\n\u001B[1;32m    891\u001B[0m \u001B[38;5;28;01melse\u001B[39;00m:\n\u001B[1;32m    892\u001B[0m   _, _, filtered_flat_args \u001B[38;5;241m=\u001B[39m (\n\u001B[1;32m    893\u001B[0m       \u001B[38;5;28mself\u001B[39m\u001B[38;5;241m.\u001B[39m_variable_creation_fn\u001B[38;5;241m.\u001B[39m_function_spec  \u001B[38;5;66;03m# pylint: disable=protected-access\u001B[39;00m\n\u001B[1;32m    894\u001B[0m       \u001B[38;5;241m.\u001B[39mcanonicalize_function_inputs(\n\u001B[1;32m    895\u001B[0m           args, kwds))\n",
      "File \u001B[0;32m~/anaconda3/envs/tf/lib/python3.9/site-packages/tensorflow/python/eager/polymorphic_function/tracing_compiler.py:148\u001B[0m, in \u001B[0;36mTracingCompiler.__call__\u001B[0;34m(self, *args, **kwargs)\u001B[0m\n\u001B[1;32m    145\u001B[0m \u001B[38;5;28;01mwith\u001B[39;00m \u001B[38;5;28mself\u001B[39m\u001B[38;5;241m.\u001B[39m_lock:\n\u001B[1;32m    146\u001B[0m   (concrete_function,\n\u001B[1;32m    147\u001B[0m    filtered_flat_args) \u001B[38;5;241m=\u001B[39m \u001B[38;5;28mself\u001B[39m\u001B[38;5;241m.\u001B[39m_maybe_define_function(args, kwargs)\n\u001B[0;32m--> 148\u001B[0m \u001B[38;5;28;01mreturn\u001B[39;00m \u001B[43mconcrete_function\u001B[49m\u001B[38;5;241;43m.\u001B[39;49m\u001B[43m_call_flat\u001B[49m\u001B[43m(\u001B[49m\n\u001B[1;32m    149\u001B[0m \u001B[43m    \u001B[49m\u001B[43mfiltered_flat_args\u001B[49m\u001B[43m,\u001B[49m\u001B[43m \u001B[49m\u001B[43mcaptured_inputs\u001B[49m\u001B[38;5;241;43m=\u001B[39;49m\u001B[43mconcrete_function\u001B[49m\u001B[38;5;241;43m.\u001B[39;49m\u001B[43mcaptured_inputs\u001B[49m\u001B[43m)\u001B[49m\n",
      "File \u001B[0;32m~/anaconda3/envs/tf/lib/python3.9/site-packages/tensorflow/python/eager/polymorphic_function/monomorphic_function.py:1349\u001B[0m, in \u001B[0;36mConcreteFunction._call_flat\u001B[0;34m(self, args, captured_inputs)\u001B[0m\n\u001B[1;32m   1345\u001B[0m possible_gradient_type \u001B[38;5;241m=\u001B[39m gradients_util\u001B[38;5;241m.\u001B[39mPossibleTapeGradientTypes(args)\n\u001B[1;32m   1346\u001B[0m \u001B[38;5;28;01mif\u001B[39;00m (possible_gradient_type \u001B[38;5;241m==\u001B[39m gradients_util\u001B[38;5;241m.\u001B[39mPOSSIBLE_GRADIENT_TYPES_NONE\n\u001B[1;32m   1347\u001B[0m     \u001B[38;5;129;01mand\u001B[39;00m executing_eagerly):\n\u001B[1;32m   1348\u001B[0m   \u001B[38;5;66;03m# No tape is watching; skip to running the function.\u001B[39;00m\n\u001B[0;32m-> 1349\u001B[0m   \u001B[38;5;28;01mreturn\u001B[39;00m \u001B[38;5;28mself\u001B[39m\u001B[38;5;241m.\u001B[39m_build_call_outputs(\u001B[38;5;28;43mself\u001B[39;49m\u001B[38;5;241;43m.\u001B[39;49m\u001B[43m_inference_function\u001B[49m\u001B[43m(\u001B[49m\u001B[38;5;241;43m*\u001B[39;49m\u001B[43margs\u001B[49m\u001B[43m)\u001B[49m)\n\u001B[1;32m   1350\u001B[0m forward_backward \u001B[38;5;241m=\u001B[39m \u001B[38;5;28mself\u001B[39m\u001B[38;5;241m.\u001B[39m_select_forward_and_backward_functions(\n\u001B[1;32m   1351\u001B[0m     args,\n\u001B[1;32m   1352\u001B[0m     possible_gradient_type,\n\u001B[1;32m   1353\u001B[0m     executing_eagerly)\n\u001B[1;32m   1354\u001B[0m forward_function, args_with_tangents \u001B[38;5;241m=\u001B[39m forward_backward\u001B[38;5;241m.\u001B[39mforward()\n",
      "File \u001B[0;32m~/anaconda3/envs/tf/lib/python3.9/site-packages/tensorflow/python/eager/polymorphic_function/atomic_function.py:196\u001B[0m, in \u001B[0;36mAtomicFunction.__call__\u001B[0;34m(self, *args)\u001B[0m\n\u001B[1;32m    194\u001B[0m \u001B[38;5;28;01mwith\u001B[39;00m record\u001B[38;5;241m.\u001B[39mstop_recording():\n\u001B[1;32m    195\u001B[0m   \u001B[38;5;28;01mif\u001B[39;00m \u001B[38;5;28mself\u001B[39m\u001B[38;5;241m.\u001B[39m_bound_context\u001B[38;5;241m.\u001B[39mexecuting_eagerly():\n\u001B[0;32m--> 196\u001B[0m     outputs \u001B[38;5;241m=\u001B[39m \u001B[38;5;28;43mself\u001B[39;49m\u001B[38;5;241;43m.\u001B[39;49m\u001B[43m_bound_context\u001B[49m\u001B[38;5;241;43m.\u001B[39;49m\u001B[43mcall_function\u001B[49m\u001B[43m(\u001B[49m\n\u001B[1;32m    197\u001B[0m \u001B[43m        \u001B[49m\u001B[38;5;28;43mself\u001B[39;49m\u001B[38;5;241;43m.\u001B[39;49m\u001B[43mname\u001B[49m\u001B[43m,\u001B[49m\n\u001B[1;32m    198\u001B[0m \u001B[43m        \u001B[49m\u001B[38;5;28;43mlist\u001B[39;49m\u001B[43m(\u001B[49m\u001B[43margs\u001B[49m\u001B[43m)\u001B[49m\u001B[43m,\u001B[49m\n\u001B[1;32m    199\u001B[0m \u001B[43m        \u001B[49m\u001B[38;5;28;43mlen\u001B[39;49m\u001B[43m(\u001B[49m\u001B[38;5;28;43mself\u001B[39;49m\u001B[38;5;241;43m.\u001B[39;49m\u001B[43mfunction_type\u001B[49m\u001B[38;5;241;43m.\u001B[39;49m\u001B[43mflat_outputs\u001B[49m\u001B[43m)\u001B[49m\u001B[43m,\u001B[49m\n\u001B[1;32m    200\u001B[0m \u001B[43m    \u001B[49m\u001B[43m)\u001B[49m\n\u001B[1;32m    201\u001B[0m   \u001B[38;5;28;01melse\u001B[39;00m:\n\u001B[1;32m    202\u001B[0m     outputs \u001B[38;5;241m=\u001B[39m make_call_op_in_graph(\u001B[38;5;28mself\u001B[39m, \u001B[38;5;28mlist\u001B[39m(args))\n",
      "File \u001B[0;32m~/anaconda3/envs/tf/lib/python3.9/site-packages/tensorflow/python/eager/context.py:1457\u001B[0m, in \u001B[0;36mContext.call_function\u001B[0;34m(self, name, tensor_inputs, num_outputs)\u001B[0m\n\u001B[1;32m   1455\u001B[0m cancellation_context \u001B[38;5;241m=\u001B[39m cancellation\u001B[38;5;241m.\u001B[39mcontext()\n\u001B[1;32m   1456\u001B[0m \u001B[38;5;28;01mif\u001B[39;00m cancellation_context \u001B[38;5;129;01mis\u001B[39;00m \u001B[38;5;28;01mNone\u001B[39;00m:\n\u001B[0;32m-> 1457\u001B[0m   outputs \u001B[38;5;241m=\u001B[39m \u001B[43mexecute\u001B[49m\u001B[38;5;241;43m.\u001B[39;49m\u001B[43mexecute\u001B[49m\u001B[43m(\u001B[49m\n\u001B[1;32m   1458\u001B[0m \u001B[43m      \u001B[49m\u001B[43mname\u001B[49m\u001B[38;5;241;43m.\u001B[39;49m\u001B[43mdecode\u001B[49m\u001B[43m(\u001B[49m\u001B[38;5;124;43m\"\u001B[39;49m\u001B[38;5;124;43mutf-8\u001B[39;49m\u001B[38;5;124;43m\"\u001B[39;49m\u001B[43m)\u001B[49m\u001B[43m,\u001B[49m\n\u001B[1;32m   1459\u001B[0m \u001B[43m      \u001B[49m\u001B[43mnum_outputs\u001B[49m\u001B[38;5;241;43m=\u001B[39;49m\u001B[43mnum_outputs\u001B[49m\u001B[43m,\u001B[49m\n\u001B[1;32m   1460\u001B[0m \u001B[43m      \u001B[49m\u001B[43minputs\u001B[49m\u001B[38;5;241;43m=\u001B[39;49m\u001B[43mtensor_inputs\u001B[49m\u001B[43m,\u001B[49m\n\u001B[1;32m   1461\u001B[0m \u001B[43m      \u001B[49m\u001B[43mattrs\u001B[49m\u001B[38;5;241;43m=\u001B[39;49m\u001B[43mattrs\u001B[49m\u001B[43m,\u001B[49m\n\u001B[1;32m   1462\u001B[0m \u001B[43m      \u001B[49m\u001B[43mctx\u001B[49m\u001B[38;5;241;43m=\u001B[39;49m\u001B[38;5;28;43mself\u001B[39;49m\u001B[43m,\u001B[49m\n\u001B[1;32m   1463\u001B[0m \u001B[43m  \u001B[49m\u001B[43m)\u001B[49m\n\u001B[1;32m   1464\u001B[0m \u001B[38;5;28;01melse\u001B[39;00m:\n\u001B[1;32m   1465\u001B[0m   outputs \u001B[38;5;241m=\u001B[39m execute\u001B[38;5;241m.\u001B[39mexecute_with_cancellation(\n\u001B[1;32m   1466\u001B[0m       name\u001B[38;5;241m.\u001B[39mdecode(\u001B[38;5;124m\"\u001B[39m\u001B[38;5;124mutf-8\u001B[39m\u001B[38;5;124m\"\u001B[39m),\n\u001B[1;32m   1467\u001B[0m       num_outputs\u001B[38;5;241m=\u001B[39mnum_outputs,\n\u001B[0;32m   (...)\u001B[0m\n\u001B[1;32m   1471\u001B[0m       cancellation_manager\u001B[38;5;241m=\u001B[39mcancellation_context,\n\u001B[1;32m   1472\u001B[0m   )\n",
      "File \u001B[0;32m~/anaconda3/envs/tf/lib/python3.9/site-packages/tensorflow/python/eager/execute.py:53\u001B[0m, in \u001B[0;36mquick_execute\u001B[0;34m(op_name, num_outputs, inputs, attrs, ctx, name)\u001B[0m\n\u001B[1;32m     51\u001B[0m \u001B[38;5;28;01mtry\u001B[39;00m:\n\u001B[1;32m     52\u001B[0m   ctx\u001B[38;5;241m.\u001B[39mensure_initialized()\n\u001B[0;32m---> 53\u001B[0m   tensors \u001B[38;5;241m=\u001B[39m \u001B[43mpywrap_tfe\u001B[49m\u001B[38;5;241;43m.\u001B[39;49m\u001B[43mTFE_Py_Execute\u001B[49m\u001B[43m(\u001B[49m\u001B[43mctx\u001B[49m\u001B[38;5;241;43m.\u001B[39;49m\u001B[43m_handle\u001B[49m\u001B[43m,\u001B[49m\u001B[43m \u001B[49m\u001B[43mdevice_name\u001B[49m\u001B[43m,\u001B[49m\u001B[43m \u001B[49m\u001B[43mop_name\u001B[49m\u001B[43m,\u001B[49m\n\u001B[1;32m     54\u001B[0m \u001B[43m                                      \u001B[49m\u001B[43minputs\u001B[49m\u001B[43m,\u001B[49m\u001B[43m \u001B[49m\u001B[43mattrs\u001B[49m\u001B[43m,\u001B[49m\u001B[43m \u001B[49m\u001B[43mnum_outputs\u001B[49m\u001B[43m)\u001B[49m\n\u001B[1;32m     55\u001B[0m \u001B[38;5;28;01mexcept\u001B[39;00m core\u001B[38;5;241m.\u001B[39m_NotOkStatusException \u001B[38;5;28;01mas\u001B[39;00m e:\n\u001B[1;32m     56\u001B[0m   \u001B[38;5;28;01mif\u001B[39;00m name \u001B[38;5;129;01mis\u001B[39;00m \u001B[38;5;129;01mnot\u001B[39;00m \u001B[38;5;28;01mNone\u001B[39;00m:\n",
      "\u001B[0;31mKeyboardInterrupt\u001B[0m: "
     ]
    }
   ],
   "source": [
    "optimizer = tf.keras.optimizers.SGD(learning_rate=1e-3)\n",
    "ce_loss = tf.keras.losses.CategoricalCrossentropy()\n",
    "metrics = [tf.keras.metrics.CategoricalAccuracy()]\n",
    "# compiling the model\n",
    "model_ce.compile(optimizer=optimizer, loss=ce_loss, metrics=metrics)\n",
    "# training the model\n",
    "early_stopping_callback = EarlyStopping(monitor='val_loss', patience=6, restore_best_weights=True)\n",
    "model_ce.fit(x_train, y_train, batch_size=64, epochs=100, validation_split=0.2, callbacks=[early_stopping_callback])\n",
    "# evaluating the model\n",
    "test_scores = model_ce.evaluate(x_test, y_test, verbose=2)\n",
    "print('Test loss:', test_scores[0])\n",
    "print('Test accuracy:', test_scores[1]*100)\n",
    "\n",
    "# saving the model\n",
    "path = './weights/mnist_ce_model.keras'\n",
    "model_ce.save(path)"
   ]
  },
  {
   "cell_type": "code",
   "execution_count": 11,
   "id": "ff849813ffddfd76",
   "metadata": {
    "ExecuteTime": {
     "end_time": "2023-08-20T00:02:55.381586700Z",
     "start_time": "2023-08-19T23:55:54.068891600Z"
    }
   },
   "outputs": [
    {
     "name": "stdout",
     "output_type": "stream",
     "text": [
      "Epoch 1/100\n",
      "750/750 [==============================] - 5s 6ms/step - loss: 0.4741 - categorical_accuracy: 0.2564 - val_loss: 0.4620 - val_categorical_accuracy: 0.1521\n",
      "Epoch 2/100\n",
      "750/750 [==============================] - 4s 5ms/step - loss: 0.4521 - categorical_accuracy: 0.1897 - val_loss: 0.4419 - val_categorical_accuracy: 0.2189\n",
      "Epoch 3/100\n",
      "750/750 [==============================] - 4s 5ms/step - loss: 0.4331 - categorical_accuracy: 0.2427 - val_loss: 0.4233 - val_categorical_accuracy: 0.2576\n",
      "Epoch 4/100\n",
      "750/750 [==============================] - 4s 6ms/step - loss: 0.4149 - categorical_accuracy: 0.2841 - val_loss: 0.4049 - val_categorical_accuracy: 0.3047\n",
      "Epoch 5/100\n",
      "750/750 [==============================] - 4s 6ms/step - loss: 0.3965 - categorical_accuracy: 0.3312 - val_loss: 0.3859 - val_categorical_accuracy: 0.3588\n",
      "Epoch 6/100\n",
      "750/750 [==============================] - 4s 6ms/step - loss: 0.3772 - categorical_accuracy: 0.3842 - val_loss: 0.3659 - val_categorical_accuracy: 0.4175\n",
      "Epoch 7/100\n",
      "750/750 [==============================] - 4s 5ms/step - loss: 0.3569 - categorical_accuracy: 0.4383 - val_loss: 0.3447 - val_categorical_accuracy: 0.4725\n",
      "Epoch 8/100\n",
      "750/750 [==============================] - 4s 6ms/step - loss: 0.3355 - categorical_accuracy: 0.4889 - val_loss: 0.3224 - val_categorical_accuracy: 0.5290\n",
      "Epoch 9/100\n",
      "750/750 [==============================] - 4s 6ms/step - loss: 0.3132 - categorical_accuracy: 0.5393 - val_loss: 0.2991 - val_categorical_accuracy: 0.5765\n",
      "Epoch 10/100\n",
      "750/750 [==============================] - 4s 5ms/step - loss: 0.2903 - categorical_accuracy: 0.5830 - val_loss: 0.2755 - val_categorical_accuracy: 0.6160\n",
      "Epoch 11/100\n",
      "750/750 [==============================] - 5s 6ms/step - loss: 0.2674 - categorical_accuracy: 0.6194 - val_loss: 0.2520 - val_categorical_accuracy: 0.6520\n",
      "Epoch 12/100\n",
      "750/750 [==============================] - 4s 6ms/step - loss: 0.2449 - categorical_accuracy: 0.6546 - val_loss: 0.2293 - val_categorical_accuracy: 0.6894\n",
      "Epoch 13/100\n",
      "750/750 [==============================] - 4s 6ms/step - loss: 0.2235 - categorical_accuracy: 0.6875 - val_loss: 0.2079 - val_categorical_accuracy: 0.7196\n",
      "Epoch 14/100\n",
      "750/750 [==============================] - 4s 6ms/step - loss: 0.2037 - categorical_accuracy: 0.7149 - val_loss: 0.1885 - val_categorical_accuracy: 0.7472\n",
      "Epoch 15/100\n",
      "750/750 [==============================] - 4s 5ms/step - loss: 0.1860 - categorical_accuracy: 0.7385 - val_loss: 0.1714 - val_categorical_accuracy: 0.7666\n",
      "Epoch 16/100\n",
      "750/750 [==============================] - 4s 6ms/step - loss: 0.1704 - categorical_accuracy: 0.7558 - val_loss: 0.1566 - val_categorical_accuracy: 0.7828\n",
      "Epoch 17/100\n",
      "750/750 [==============================] - 4s 5ms/step - loss: 0.1570 - categorical_accuracy: 0.7700 - val_loss: 0.1439 - val_categorical_accuracy: 0.7955\n",
      "Epoch 18/100\n",
      "750/750 [==============================] - 4s 6ms/step - loss: 0.1455 - categorical_accuracy: 0.7812 - val_loss: 0.1331 - val_categorical_accuracy: 0.8058\n",
      "Epoch 19/100\n",
      "750/750 [==============================] - 4s 6ms/step - loss: 0.1357 - categorical_accuracy: 0.7897 - val_loss: 0.1239 - val_categorical_accuracy: 0.8145\n",
      "Epoch 20/100\n",
      "750/750 [==============================] - 4s 5ms/step - loss: 0.1272 - categorical_accuracy: 0.7979 - val_loss: 0.1160 - val_categorical_accuracy: 0.8206\n",
      "Epoch 21/100\n",
      "750/750 [==============================] - 4s 5ms/step - loss: 0.1200 - categorical_accuracy: 0.8047 - val_loss: 0.1093 - val_categorical_accuracy: 0.8264\n",
      "Epoch 22/100\n",
      "750/750 [==============================] - 4s 5ms/step - loss: 0.1137 - categorical_accuracy: 0.8112 - val_loss: 0.1036 - val_categorical_accuracy: 0.8313\n",
      "Epoch 23/100\n",
      "750/750 [==============================] - 4s 6ms/step - loss: 0.1082 - categorical_accuracy: 0.8158 - val_loss: 0.0985 - val_categorical_accuracy: 0.8363\n",
      "Epoch 24/100\n",
      "750/750 [==============================] - 4s 6ms/step - loss: 0.1035 - categorical_accuracy: 0.8215 - val_loss: 0.0942 - val_categorical_accuracy: 0.8410\n",
      "Epoch 25/100\n",
      "750/750 [==============================] - 4s 6ms/step - loss: 0.0992 - categorical_accuracy: 0.8259 - val_loss: 0.0903 - val_categorical_accuracy: 0.8448\n",
      "Epoch 26/100\n",
      "750/750 [==============================] - 4s 6ms/step - loss: 0.0955 - categorical_accuracy: 0.8295 - val_loss: 0.0869 - val_categorical_accuracy: 0.8494\n",
      "Epoch 27/100\n",
      "750/750 [==============================] - 4s 6ms/step - loss: 0.0922 - categorical_accuracy: 0.8330 - val_loss: 0.0839 - val_categorical_accuracy: 0.8507\n",
      "Epoch 28/100\n",
      "750/750 [==============================] - 4s 6ms/step - loss: 0.0892 - categorical_accuracy: 0.8363 - val_loss: 0.0812 - val_categorical_accuracy: 0.8546\n",
      "Epoch 29/100\n",
      "750/750 [==============================] - 4s 5ms/step - loss: 0.0865 - categorical_accuracy: 0.8395 - val_loss: 0.0788 - val_categorical_accuracy: 0.8577\n",
      "Epoch 30/100\n",
      "750/750 [==============================] - 4s 6ms/step - loss: 0.0841 - categorical_accuracy: 0.8428 - val_loss: 0.0767 - val_categorical_accuracy: 0.8600\n",
      "Epoch 31/100\n",
      "750/750 [==============================] - 4s 6ms/step - loss: 0.0819 - categorical_accuracy: 0.8455 - val_loss: 0.0747 - val_categorical_accuracy: 0.8610\n",
      "Epoch 32/100\n",
      "750/750 [==============================] - 4s 6ms/step - loss: 0.0799 - categorical_accuracy: 0.8482 - val_loss: 0.0729 - val_categorical_accuracy: 0.8617\n",
      "Epoch 33/100\n",
      "750/750 [==============================] - 4s 6ms/step - loss: 0.0781 - categorical_accuracy: 0.8501 - val_loss: 0.0713 - val_categorical_accuracy: 0.8629\n",
      "Epoch 34/100\n",
      "750/750 [==============================] - 4s 6ms/step - loss: 0.0764 - categorical_accuracy: 0.8525 - val_loss: 0.0698 - val_categorical_accuracy: 0.8653\n",
      "Epoch 35/100\n",
      "750/750 [==============================] - 4s 6ms/step - loss: 0.0748 - categorical_accuracy: 0.8547 - val_loss: 0.0684 - val_categorical_accuracy: 0.8678\n",
      "Epoch 36/100\n",
      "750/750 [==============================] - 4s 5ms/step - loss: 0.0734 - categorical_accuracy: 0.8565 - val_loss: 0.0671 - val_categorical_accuracy: 0.8691\n",
      "Epoch 37/100\n",
      "750/750 [==============================] - 4s 5ms/step - loss: 0.0721 - categorical_accuracy: 0.8586 - val_loss: 0.0660 - val_categorical_accuracy: 0.8699\n",
      "Epoch 38/100\n",
      "750/750 [==============================] - 4s 6ms/step - loss: 0.0709 - categorical_accuracy: 0.8601 - val_loss: 0.0649 - val_categorical_accuracy: 0.8714\n",
      "Epoch 39/100\n",
      "750/750 [==============================] - 4s 6ms/step - loss: 0.0697 - categorical_accuracy: 0.8617 - val_loss: 0.0639 - val_categorical_accuracy: 0.8727\n",
      "Epoch 40/100\n",
      "750/750 [==============================] - 4s 6ms/step - loss: 0.0686 - categorical_accuracy: 0.8637 - val_loss: 0.0629 - val_categorical_accuracy: 0.8734\n",
      "Epoch 41/100\n",
      "750/750 [==============================] - 5s 6ms/step - loss: 0.0676 - categorical_accuracy: 0.8646 - val_loss: 0.0620 - val_categorical_accuracy: 0.8746\n",
      "Epoch 42/100\n",
      "750/750 [==============================] - 4s 5ms/step - loss: 0.0667 - categorical_accuracy: 0.8658 - val_loss: 0.0612 - val_categorical_accuracy: 0.8758\n",
      "Epoch 43/100\n",
      "750/750 [==============================] - 4s 5ms/step - loss: 0.0658 - categorical_accuracy: 0.8669 - val_loss: 0.0604 - val_categorical_accuracy: 0.8778\n",
      "Epoch 44/100\n",
      "750/750 [==============================] - 4s 5ms/step - loss: 0.0649 - categorical_accuracy: 0.8679 - val_loss: 0.0597 - val_categorical_accuracy: 0.8788\n",
      "Epoch 45/100\n",
      "750/750 [==============================] - 4s 6ms/step - loss: 0.0641 - categorical_accuracy: 0.8689 - val_loss: 0.0590 - val_categorical_accuracy: 0.8804\n",
      "Epoch 46/100\n",
      "750/750 [==============================] - 4s 6ms/step - loss: 0.0634 - categorical_accuracy: 0.8700 - val_loss: 0.0583 - val_categorical_accuracy: 0.8812\n",
      "Epoch 47/100\n",
      "750/750 [==============================] - 4s 6ms/step - loss: 0.0627 - categorical_accuracy: 0.8708 - val_loss: 0.0577 - val_categorical_accuracy: 0.8817\n",
      "Epoch 48/100\n",
      "750/750 [==============================] - 4s 6ms/step - loss: 0.0620 - categorical_accuracy: 0.8720 - val_loss: 0.0571 - val_categorical_accuracy: 0.8833\n",
      "Epoch 49/100\n",
      "750/750 [==============================] - 4s 6ms/step - loss: 0.0613 - categorical_accuracy: 0.8726 - val_loss: 0.0565 - val_categorical_accuracy: 0.8842\n",
      "Epoch 50/100\n",
      "750/750 [==============================] - 4s 5ms/step - loss: 0.0607 - categorical_accuracy: 0.8736 - val_loss: 0.0560 - val_categorical_accuracy: 0.8852\n",
      "Epoch 51/100\n",
      "750/750 [==============================] - 4s 5ms/step - loss: 0.0601 - categorical_accuracy: 0.8745 - val_loss: 0.0555 - val_categorical_accuracy: 0.8860\n",
      "Epoch 52/100\n",
      "750/750 [==============================] - 4s 5ms/step - loss: 0.0595 - categorical_accuracy: 0.8755 - val_loss: 0.0550 - val_categorical_accuracy: 0.8864\n",
      "Epoch 53/100\n",
      "750/750 [==============================] - 4s 5ms/step - loss: 0.0590 - categorical_accuracy: 0.8766 - val_loss: 0.0545 - val_categorical_accuracy: 0.8878\n",
      "Epoch 54/100\n",
      "750/750 [==============================] - 4s 6ms/step - loss: 0.0585 - categorical_accuracy: 0.8772 - val_loss: 0.0541 - val_categorical_accuracy: 0.8883\n",
      "Epoch 55/100\n",
      "750/750 [==============================] - 4s 5ms/step - loss: 0.0580 - categorical_accuracy: 0.8780 - val_loss: 0.0536 - val_categorical_accuracy: 0.8891\n",
      "Epoch 56/100\n",
      "750/750 [==============================] - 4s 6ms/step - loss: 0.0575 - categorical_accuracy: 0.8788 - val_loss: 0.0532 - val_categorical_accuracy: 0.8900\n",
      "Epoch 57/100\n",
      "750/750 [==============================] - 4s 5ms/step - loss: 0.0570 - categorical_accuracy: 0.8796 - val_loss: 0.0528 - val_categorical_accuracy: 0.8904\n",
      "Epoch 58/100\n",
      "750/750 [==============================] - 4s 5ms/step - loss: 0.0566 - categorical_accuracy: 0.8804 - val_loss: 0.0524 - val_categorical_accuracy: 0.8915\n",
      "Epoch 59/100\n",
      "750/750 [==============================] - 4s 5ms/step - loss: 0.0562 - categorical_accuracy: 0.8812 - val_loss: 0.0520 - val_categorical_accuracy: 0.8917\n",
      "Epoch 60/100\n",
      "750/750 [==============================] - 4s 6ms/step - loss: 0.0557 - categorical_accuracy: 0.8818 - val_loss: 0.0517 - val_categorical_accuracy: 0.8922\n",
      "Epoch 61/100\n",
      "750/750 [==============================] - 4s 6ms/step - loss: 0.0553 - categorical_accuracy: 0.8827 - val_loss: 0.0514 - val_categorical_accuracy: 0.8928\n",
      "Epoch 62/100\n",
      "750/750 [==============================] - 4s 6ms/step - loss: 0.0549 - categorical_accuracy: 0.8834 - val_loss: 0.0510 - val_categorical_accuracy: 0.8928\n",
      "Epoch 63/100\n",
      "750/750 [==============================] - 4s 6ms/step - loss: 0.0546 - categorical_accuracy: 0.8841 - val_loss: 0.0507 - val_categorical_accuracy: 0.8939\n",
      "Epoch 64/100\n",
      "750/750 [==============================] - 4s 6ms/step - loss: 0.0542 - categorical_accuracy: 0.8849 - val_loss: 0.0504 - val_categorical_accuracy: 0.8942\n",
      "Epoch 65/100\n",
      "750/750 [==============================] - 4s 5ms/step - loss: 0.0538 - categorical_accuracy: 0.8855 - val_loss: 0.0501 - val_categorical_accuracy: 0.8943\n",
      "Epoch 66/100\n",
      "750/750 [==============================] - 4s 6ms/step - loss: 0.0535 - categorical_accuracy: 0.8860 - val_loss: 0.0498 - val_categorical_accuracy: 0.8948\n",
      "Epoch 67/100\n",
      "750/750 [==============================] - 4s 6ms/step - loss: 0.0532 - categorical_accuracy: 0.8869 - val_loss: 0.0495 - val_categorical_accuracy: 0.8953\n",
      "Epoch 68/100\n",
      "750/750 [==============================] - 4s 5ms/step - loss: 0.0528 - categorical_accuracy: 0.8871 - val_loss: 0.0492 - val_categorical_accuracy: 0.8966\n",
      "Epoch 69/100\n",
      "750/750 [==============================] - 4s 5ms/step - loss: 0.0525 - categorical_accuracy: 0.8876 - val_loss: 0.0489 - val_categorical_accuracy: 0.8961\n",
      "Epoch 70/100\n",
      "750/750 [==============================] - 4s 6ms/step - loss: 0.0522 - categorical_accuracy: 0.8882 - val_loss: 0.0487 - val_categorical_accuracy: 0.8973\n",
      "Epoch 71/100\n",
      "750/750 [==============================] - 4s 5ms/step - loss: 0.0519 - categorical_accuracy: 0.8890 - val_loss: 0.0484 - val_categorical_accuracy: 0.8974\n",
      "Epoch 72/100\n",
      "750/750 [==============================] - 4s 6ms/step - loss: 0.0516 - categorical_accuracy: 0.8894 - val_loss: 0.0482 - val_categorical_accuracy: 0.8980\n",
      "Epoch 73/100\n",
      "750/750 [==============================] - 4s 6ms/step - loss: 0.0513 - categorical_accuracy: 0.8900 - val_loss: 0.0479 - val_categorical_accuracy: 0.8982\n",
      "Epoch 74/100\n",
      "750/750 [==============================] - 4s 5ms/step - loss: 0.0511 - categorical_accuracy: 0.8901 - val_loss: 0.0477 - val_categorical_accuracy: 0.8988\n",
      "Epoch 75/100\n",
      "750/750 [==============================] - 4s 6ms/step - loss: 0.0508 - categorical_accuracy: 0.8906 - val_loss: 0.0475 - val_categorical_accuracy: 0.8997\n",
      "Epoch 76/100\n",
      "750/750 [==============================] - 4s 6ms/step - loss: 0.0505 - categorical_accuracy: 0.8912 - val_loss: 0.0472 - val_categorical_accuracy: 0.9006\n",
      "Epoch 77/100\n",
      "750/750 [==============================] - 4s 5ms/step - loss: 0.0503 - categorical_accuracy: 0.8916 - val_loss: 0.0470 - val_categorical_accuracy: 0.9006\n",
      "Epoch 78/100\n",
      "750/750 [==============================] - 4s 6ms/step - loss: 0.0500 - categorical_accuracy: 0.8922 - val_loss: 0.0468 - val_categorical_accuracy: 0.9016\n",
      "Epoch 79/100\n",
      "750/750 [==============================] - 4s 6ms/step - loss: 0.0498 - categorical_accuracy: 0.8925 - val_loss: 0.0466 - val_categorical_accuracy: 0.9017\n",
      "Epoch 80/100\n",
      "750/750 [==============================] - 4s 6ms/step - loss: 0.0495 - categorical_accuracy: 0.8931 - val_loss: 0.0464 - val_categorical_accuracy: 0.9018\n",
      "Epoch 81/100\n",
      "750/750 [==============================] - 4s 6ms/step - loss: 0.0493 - categorical_accuracy: 0.8934 - val_loss: 0.0462 - val_categorical_accuracy: 0.9016\n",
      "Epoch 82/100\n",
      "750/750 [==============================] - 4s 6ms/step - loss: 0.0490 - categorical_accuracy: 0.8940 - val_loss: 0.0460 - val_categorical_accuracy: 0.9020\n",
      "Epoch 83/100\n",
      "750/750 [==============================] - 4s 6ms/step - loss: 0.0488 - categorical_accuracy: 0.8941 - val_loss: 0.0458 - val_categorical_accuracy: 0.9022\n",
      "Epoch 84/100\n",
      "750/750 [==============================] - 4s 5ms/step - loss: 0.0486 - categorical_accuracy: 0.8949 - val_loss: 0.0456 - val_categorical_accuracy: 0.9025\n",
      "Epoch 85/100\n",
      "750/750 [==============================] - 4s 6ms/step - loss: 0.0484 - categorical_accuracy: 0.8950 - val_loss: 0.0454 - val_categorical_accuracy: 0.9027\n",
      "Epoch 86/100\n",
      "750/750 [==============================] - 4s 5ms/step - loss: 0.0482 - categorical_accuracy: 0.8956 - val_loss: 0.0452 - val_categorical_accuracy: 0.9031\n",
      "Epoch 87/100\n",
      "750/750 [==============================] - 4s 6ms/step - loss: 0.0480 - categorical_accuracy: 0.8954 - val_loss: 0.0450 - val_categorical_accuracy: 0.9031\n",
      "Epoch 88/100\n",
      "750/750 [==============================] - 4s 6ms/step - loss: 0.0478 - categorical_accuracy: 0.8961 - val_loss: 0.0449 - val_categorical_accuracy: 0.9035\n",
      "Epoch 89/100\n",
      "750/750 [==============================] - 4s 5ms/step - loss: 0.0476 - categorical_accuracy: 0.8967 - val_loss: 0.0447 - val_categorical_accuracy: 0.9038\n",
      "Epoch 90/100\n",
      "750/750 [==============================] - 4s 5ms/step - loss: 0.0474 - categorical_accuracy: 0.8969 - val_loss: 0.0445 - val_categorical_accuracy: 0.9040\n",
      "Epoch 91/100\n",
      "750/750 [==============================] - 4s 5ms/step - loss: 0.0472 - categorical_accuracy: 0.8972 - val_loss: 0.0444 - val_categorical_accuracy: 0.9042\n",
      "Epoch 92/100\n",
      "750/750 [==============================] - 4s 6ms/step - loss: 0.0470 - categorical_accuracy: 0.8974 - val_loss: 0.0442 - val_categorical_accuracy: 0.9047\n",
      "Epoch 93/100\n",
      "750/750 [==============================] - 4s 5ms/step - loss: 0.0468 - categorical_accuracy: 0.8979 - val_loss: 0.0440 - val_categorical_accuracy: 0.9051\n",
      "Epoch 94/100\n",
      "750/750 [==============================] - 4s 6ms/step - loss: 0.0466 - categorical_accuracy: 0.8984 - val_loss: 0.0439 - val_categorical_accuracy: 0.9053\n",
      "Epoch 95/100\n",
      "750/750 [==============================] - 4s 5ms/step - loss: 0.0464 - categorical_accuracy: 0.8986 - val_loss: 0.0437 - val_categorical_accuracy: 0.9049\n",
      "Epoch 96/100\n",
      "750/750 [==============================] - 4s 5ms/step - loss: 0.0462 - categorical_accuracy: 0.8988 - val_loss: 0.0436 - val_categorical_accuracy: 0.9059\n",
      "Epoch 97/100\n",
      "750/750 [==============================] - 4s 5ms/step - loss: 0.0461 - categorical_accuracy: 0.8991 - val_loss: 0.0434 - val_categorical_accuracy: 0.9062\n",
      "Epoch 98/100\n",
      "750/750 [==============================] - 4s 5ms/step - loss: 0.0459 - categorical_accuracy: 0.8989 - val_loss: 0.0433 - val_categorical_accuracy: 0.9059\n",
      "Epoch 99/100\n",
      "750/750 [==============================] - 4s 5ms/step - loss: 0.0457 - categorical_accuracy: 0.8997 - val_loss: 0.0431 - val_categorical_accuracy: 0.9058\n",
      "Epoch 100/100\n",
      "750/750 [==============================] - 4s 5ms/step - loss: 0.0455 - categorical_accuracy: 0.8998 - val_loss: 0.0430 - val_categorical_accuracy: 0.9062\n",
      "313/313 - 1s - loss: 0.0426 - categorical_accuracy: 0.9047 - 903ms/epoch - 3ms/step\n",
      "Test loss: 0.042617958039045334\n",
      "Test accuracy: 90.4699981212616\n"
     ]
    }
   ],
   "source": [
    "focal_loss = tf.keras.losses.CategoricalFocalCrossentropy()\n",
    "# compiling the model\n",
    "optimizer = tf.keras.optimizers.SGD(learning_rate=1e-3)\n",
    "model_fl.compile(optimizer=optimizer, loss=focal_loss, metrics=metrics)\n",
    "# training the model\n",
    "model_fl.fit(x_train, y_train, batch_size=64, epochs=100, validation_split=0.2, callbacks=[early_stopping_callback])\n",
    "# evaluating the model\n",
    "test_scores = model_fl.evaluate(x_test, y_test, verbose=2)\n",
    "print('Test loss:', test_scores[0])\n",
    "print('Test accuracy:', test_scores[1]*100)\n",
    "# saving the model\n",
    "path = './weights/mnist_focal_model.keras'\n",
    "model_fl.save(path)"
   ]
  },
  {
   "cell_type": "code",
   "execution_count": 10,
   "outputs": [],
   "source": [
    "# defining reciprocal loss function\n",
    "# RL(p_t) = 1/p_t * -p * log(p_t)\n",
    "    # TODO: plot the function\n",
    "def reciprocal_loss(y_true, y_pred, reduction=tf.keras.losses.Reduction.AUTO):\n",
    "    \"\"\"\n",
    "    reciprocal loss for multi-class classification, tf.keras style.\n",
    "    RL(p_t) = - 1/p_t * log(p_t), where p_t is the probability associated with the true class.\n",
    "\n",
    "    :param y_true: Ground truth labels, shape of [batch_size, num_classes].\n",
    "    :param y_pred: Predicted class probabilities, shape of [batch_size, num_classes].\n",
    "    :param reduction: Reduction method to apply to the loss (default tf.keras.losses.Reduction.NONE).\n",
    "    :return: A scalar representing the mean reciprocal loss over the batch.\n",
    "    NOTE: written assuming GPU support to make use of fast Tensor operations.\n",
    "    \"\"\"\n",
    "    # Create a Categorical Cross-Entropy loss instance\n",
    "    cce = tf.keras.losses.CategoricalCrossentropy(\n",
    "        reduction=tf.keras.losses.Reduction.NONE # Keep unreduced loss tensor\n",
    "    )\n",
    "    # printing y_pred\n",
    "    print(f'y_pred before clipping: {y_pred}')\n",
    "    cross_entropy = cce(y_true, y_pred) # batch_sizex1\n",
    "    print(f'cross entropy before clipping: {cross_entropy}')\n",
    "    # adding clipping to avoid log(0)\n",
    "    _y_pred = K.clip(y_pred, 1e-2, 1.0)\n",
    "\n",
    "    print(f'_y_pred after clipping: {_y_pred}')\n",
    "    # _y_pred = y_pred\n",
    "    cross_entropy = cce(y_true, _y_pred) # batch_sizex1\n",
    "    print(f'cross entropy after clipping: {cross_entropy}')\n",
    "    # find the probability associated with the true class\n",
    "    _y_true = K.argmax(y_true, axis=1)\n",
    "    # get the predicted probability of the true class\n",
    "    _y_pred = K.sum(_y_pred * y_true, axis=1)\n",
    "    # print(f'y_true: {_y_true}')\n",
    "    # print(f'y_pred: {_y_pred}')\n",
    "    # print(f'cross entropy: {cross_entropy}')\n",
    "    # reciprocal loss by dividing the cross entropy by the predicted probability of the true class\n",
    "    _reciprocal_loss = cross_entropy / _y_pred # reciprocal loss\n",
    "    \n",
    "    if reduction == tf.keras.losses.Reduction.AUTO:\n",
    "        return K.mean(_reciprocal_loss)\n",
    "    elif reduction == tf.keras.losses.Reduction.SUM:\n",
    "        return K.sum(_reciprocal_loss)\n",
    "    else: # No reduction\n",
    "        return _reciprocal_loss\n",
    "\n"
   ],
   "metadata": {
    "collapsed": false,
    "ExecuteTime": {
     "end_time": "2023-08-20T03:44:16.348158500Z",
     "start_time": "2023-08-20T03:44:16.240672400Z"
    }
   },
   "id": "7bae486a7b165964"
  },
  {
   "cell_type": "code",
   "execution_count": 11,
   "outputs": [
    {
     "name": "stdout",
     "output_type": "stream",
     "text": [
      "cross entropy: [0.05129329 2.30258509]\n",
      "y_pred before clipping: [[0.05 0.95 0.  ]\n",
      " [0.1  0.8  0.1 ]]\n",
      "cross entropy before clipping: [0.05129329 2.30258509]\n",
      "_y_pred after clipping: [[0.05 0.95 0.01]\n",
      " [0.1  0.8  0.1 ]]\n",
      "cross entropy after clipping: [0.06124363 2.30258509]\n",
      "rational loss: [ 0.06446697 23.02585093]\n"
     ]
    }
   ],
   "source": [
    "# test reciprocal loss\n",
    "y_true = np.array([[0, 1, 0], [0, 0, 1]])\n",
    "y_pred = np.array([[0.05, 0.95, 0], [0.1, 0.8, 0.1]])\n",
    "# cross entropy value \n",
    "cce = tf.keras.losses.CategoricalCrossentropy(reduction=tf.keras.losses.Reduction.NONE)\n",
    "print(f'cross entropy: {cce(y_true, y_pred)}')\n",
    "print(f'reciprocal loss: {reciprocal_loss(y_true, y_pred, reduction=tf.keras.losses.Reduction.NONE)}')\n",
    "\n",
    "# with auto\n",
    "# cce = tf.keras.losses.CategoricalCrossentropy()\n",
    "# print(f'cross entropy: {cce(y_true, y_pred)}')\n",
    "# print(f'reciprocal loss: {reciprocal_loss(y_true, y_pred)}')\n",
    "\n"
   ],
   "metadata": {
    "collapsed": false,
    "ExecuteTime": {
     "end_time": "2023-08-20T03:44:18.750621Z",
     "start_time": "2023-08-20T03:44:18.681621Z"
    }
   },
   "id": "9788dd4a15e89501"
  },
  {
   "cell_type": "code",
   "execution_count": 14,
   "outputs": [
    {
     "name": "stdout",
     "output_type": "stream",
     "text": [
      "y_pred values without clipping: [[0.05 0.95 0.  ]\n",
      " [0.1  0.8  0.1 ]]\n",
      "cross entropy values without clipping: [0.05129329 2.30258509]\n",
      "y_pred values with clipping: [[0.05 0.95 0.01]\n",
      " [0.1  0.8  0.1 ]]\n",
      "cross entropy values with clipping: [0.06124363 2.30258509]\n"
     ]
    }
   ],
   "source": [
    "# test with tf.keras.losses.CategoricalCrossentropy\n",
    "y_true = np.array([[0, 1, 0], [0, 0, 1]]) # test targets \n",
    "y_pred = np.array([[0.05, 0.95, 0], [0.1, 0.8, 0.1]]) # test predictions\n",
    "# cross entropy objects\n",
    "cce = tf.keras.losses.CategoricalCrossentropy(reduction=tf.keras.losses.Reduction.NONE) \n",
    "# cross entropy value without clipping\n",
    "print(f'y_pred values without clipping: {y_pred}')\n",
    "print(f'cross entropy values without clipping: {cce(y_true, y_pred)}')\n",
    "# clipping\n",
    "y_pred_clip = K.clip(y_pred, 1e-2, 1.0)\n",
    "# cross entropy value with clipping\n",
    "print(f'y_pred values with clipping: {y_pred_clip}')\n",
    "print(f'cross entropy values with clipping: {cce(y_true, y_pred_clip)}')\n"
   ],
   "metadata": {
    "collapsed": false,
    "ExecuteTime": {
     "end_time": "2023-08-20T22:39:32.463641200Z",
     "start_time": "2023-08-20T22:39:32.373349Z"
    }
   },
   "id": "5da387dae253600d"
  },
  {
   "cell_type": "code",
   "execution_count": null,
   "outputs": [],
   "source": [
    "# def generate_data() -> Tuple[np.ndarray, np.ndarray]:\n",
    "#     \"\"\"\n",
    "#     Generates synthetic y_true and y_pred data.\n",
    "#     :return: y_true and y_pred arrays.\n",
    "#     \"\"\"\n",
    "#     num_samples = 100\n",
    "#     num_classes = 3\n",
    "#     y_true = np.eye(num_classes)[np.random.choice(num_classes, num_samples)]\n",
    "#     y_pred = np.random.rand(num_samples, num_classes)\n",
    "#     y_pred /= y_pred.sum(axis=1, keepdims=True)\n",
    "#     return y_true, y_pred\n",
    "# \n",
    "# def plot_reciprocal_loss() -> None:\n",
    "#     \"\"\"\n",
    "#     Plots the reciprocal loss for the generated data.\n",
    "#     \"\"\"\n",
    "#     y_true, y_pred = generate_data()\n",
    "#     reciprocal_loss_fixed = reciprocal_loss()\n",
    "#     losses: List[float] = [reciprocal_loss_fixed(y_t.reshape(1, -1), y_p.reshape(1, -1)).numpy() for y_t, y_p in zip(y_true, y_pred)]\n",
    "#     plt.plot(losses)\n",
    "#     plt.title(\"reciprocal loss for Multi-Class Classification\")\n",
    "#     plt.xlabel(\"Sample\")\n",
    "#     plt.ylabel(\"Loss\")\n",
    "#     plt.show()\n",
    "# \n",
    "# plot_reciprocal_loss()"
   ],
   "metadata": {
    "collapsed": false,
    "ExecuteTime": {
     "start_time": "2023-08-19T23:45:48.457500700Z"
    }
   },
   "id": "4adf9a66ec56fb48"
  },
  {
   "cell_type": "code",
   "execution_count": 23,
   "outputs": [
    {
     "name": "stdout",
     "output_type": "stream",
     "text": [
      "Epoch 1/100\n",
      "750/750 [==============================] - 6s 7ms/step - loss: 16.6794 - categorical_accuracy: 0.5020 - val_loss: 10.8696 - val_categorical_accuracy: 0.6659\n",
      "Epoch 2/100\n",
      "750/750 [==============================] - 5s 7ms/step - loss: 8.5468 - categorical_accuracy: 0.7109 - val_loss: 6.5331 - val_categorical_accuracy: 0.7752\n",
      "Epoch 3/100\n",
      "750/750 [==============================] - 5s 7ms/step - loss: 5.9381 - categorical_accuracy: 0.7729 - val_loss: 4.9975 - val_categorical_accuracy: 0.8163\n",
      "Epoch 4/100\n",
      "750/750 [==============================] - 5s 6ms/step - loss: 4.8606 - categorical_accuracy: 0.8039 - val_loss: 4.2614 - val_categorical_accuracy: 0.8341\n",
      "Epoch 5/100\n",
      "750/750 [==============================] - 5s 6ms/step - loss: 4.2687 - categorical_accuracy: 0.8251 - val_loss: 3.8196 - val_categorical_accuracy: 0.8469\n",
      "Epoch 6/100\n",
      "750/750 [==============================] - 4s 6ms/step - loss: 3.8786 - categorical_accuracy: 0.8388 - val_loss: 3.5407 - val_categorical_accuracy: 0.8590\n",
      "Epoch 7/100\n",
      "750/750 [==============================] - 5s 6ms/step - loss: 3.5835 - categorical_accuracy: 0.8505 - val_loss: 3.3068 - val_categorical_accuracy: 0.8675\n",
      "Epoch 8/100\n",
      "750/750 [==============================] - 5s 6ms/step - loss: 3.3572 - categorical_accuracy: 0.8585 - val_loss: 3.1574 - val_categorical_accuracy: 0.8726\n",
      "Epoch 9/100\n",
      "750/750 [==============================] - 5s 6ms/step - loss: 3.1725 - categorical_accuracy: 0.8647 - val_loss: 2.9964 - val_categorical_accuracy: 0.8772\n",
      "Epoch 10/100\n",
      "750/750 [==============================] - 5s 7ms/step - loss: 3.0256 - categorical_accuracy: 0.8699 - val_loss: 2.8940 - val_categorical_accuracy: 0.8823\n",
      "Epoch 11/100\n",
      "750/750 [==============================] - 4s 6ms/step - loss: 2.8969 - categorical_accuracy: 0.8750 - val_loss: 2.7923 - val_categorical_accuracy: 0.8859\n",
      "Epoch 12/100\n",
      "750/750 [==============================] - 4s 6ms/step - loss: 2.7858 - categorical_accuracy: 0.8789 - val_loss: 2.7358 - val_categorical_accuracy: 0.8896\n",
      "Epoch 13/100\n",
      "750/750 [==============================] - 4s 6ms/step - loss: 2.6958 - categorical_accuracy: 0.8832 - val_loss: 2.6602 - val_categorical_accuracy: 0.8918\n",
      "Epoch 14/100\n",
      "750/750 [==============================] - 4s 6ms/step - loss: 2.6090 - categorical_accuracy: 0.8854 - val_loss: 2.6144 - val_categorical_accuracy: 0.8959\n",
      "Epoch 15/100\n",
      "750/750 [==============================] - 4s 6ms/step - loss: 2.5368 - categorical_accuracy: 0.8882 - val_loss: 2.5387 - val_categorical_accuracy: 0.8979\n",
      "Epoch 16/100\n",
      "750/750 [==============================] - 4s 6ms/step - loss: 2.4694 - categorical_accuracy: 0.8909 - val_loss: 2.5024 - val_categorical_accuracy: 0.9013\n",
      "Epoch 17/100\n",
      "750/750 [==============================] - 4s 6ms/step - loss: 2.4096 - categorical_accuracy: 0.8930 - val_loss: 2.4760 - val_categorical_accuracy: 0.9030\n",
      "Epoch 18/100\n",
      "750/750 [==============================] - 4s 6ms/step - loss: 2.3538 - categorical_accuracy: 0.8947 - val_loss: 2.4322 - val_categorical_accuracy: 0.9028\n",
      "Epoch 19/100\n",
      "750/750 [==============================] - 4s 6ms/step - loss: 2.3022 - categorical_accuracy: 0.8964 - val_loss: 2.3840 - val_categorical_accuracy: 0.9057\n",
      "Epoch 20/100\n",
      "750/750 [==============================] - 4s 6ms/step - loss: 2.2551 - categorical_accuracy: 0.8982 - val_loss: 2.3933 - val_categorical_accuracy: 0.9062\n",
      "Epoch 21/100\n",
      "750/750 [==============================] - 4s 6ms/step - loss: 2.2101 - categorical_accuracy: 0.8993 - val_loss: 2.3629 - val_categorical_accuracy: 0.9064\n",
      "Epoch 22/100\n",
      "750/750 [==============================] - 4s 6ms/step - loss: 2.1702 - categorical_accuracy: 0.9006 - val_loss: 2.3159 - val_categorical_accuracy: 0.9082\n",
      "Epoch 23/100\n",
      "750/750 [==============================] - 5s 6ms/step - loss: 2.1280 - categorical_accuracy: 0.9024 - val_loss: 2.3220 - val_categorical_accuracy: 0.9097\n",
      "Epoch 24/100\n",
      "750/750 [==============================] - 4s 6ms/step - loss: 2.0946 - categorical_accuracy: 0.9035 - val_loss: 2.2808 - val_categorical_accuracy: 0.9079\n",
      "Epoch 25/100\n",
      "750/750 [==============================] - 4s 6ms/step - loss: 2.0597 - categorical_accuracy: 0.9042 - val_loss: 2.2684 - val_categorical_accuracy: 0.9112\n",
      "Epoch 26/100\n",
      "750/750 [==============================] - 4s 6ms/step - loss: 2.0267 - categorical_accuracy: 0.9061 - val_loss: 2.2548 - val_categorical_accuracy: 0.9108\n",
      "Epoch 27/100\n",
      "750/750 [==============================] - 4s 6ms/step - loss: 1.9960 - categorical_accuracy: 0.9068 - val_loss: 2.2391 - val_categorical_accuracy: 0.9118\n",
      "Epoch 28/100\n",
      "750/750 [==============================] - 4s 6ms/step - loss: 1.9646 - categorical_accuracy: 0.9075 - val_loss: 2.2213 - val_categorical_accuracy: 0.9146\n",
      "Epoch 29/100\n",
      "750/750 [==============================] - 4s 6ms/step - loss: 1.9354 - categorical_accuracy: 0.9090 - val_loss: 2.2220 - val_categorical_accuracy: 0.9148\n",
      "Epoch 30/100\n",
      "750/750 [==============================] - 4s 6ms/step - loss: 1.9094 - categorical_accuracy: 0.9093 - val_loss: 2.2203 - val_categorical_accuracy: 0.9161\n",
      "Epoch 31/100\n",
      "750/750 [==============================] - 4s 6ms/step - loss: 1.8815 - categorical_accuracy: 0.9110 - val_loss: 2.2012 - val_categorical_accuracy: 0.9175\n",
      "Epoch 32/100\n",
      "750/750 [==============================] - 4s 6ms/step - loss: 1.8567 - categorical_accuracy: 0.9121 - val_loss: 2.2143 - val_categorical_accuracy: 0.9162\n",
      "Epoch 33/100\n",
      "750/750 [==============================] - 4s 6ms/step - loss: 1.8338 - categorical_accuracy: 0.9125 - val_loss: 2.1465 - val_categorical_accuracy: 0.9184\n",
      "Epoch 34/100\n",
      "750/750 [==============================] - 4s 6ms/step - loss: 1.8070 - categorical_accuracy: 0.9137 - val_loss: 2.1901 - val_categorical_accuracy: 0.9149\n",
      "Epoch 35/100\n",
      "750/750 [==============================] - 4s 6ms/step - loss: 1.7874 - categorical_accuracy: 0.9130 - val_loss: 2.1656 - val_categorical_accuracy: 0.9183\n",
      "Epoch 36/100\n",
      "750/750 [==============================] - 4s 6ms/step - loss: 1.7664 - categorical_accuracy: 0.9142 - val_loss: 2.1578 - val_categorical_accuracy: 0.9212\n",
      "Epoch 37/100\n",
      "750/750 [==============================] - 4s 6ms/step - loss: 1.7426 - categorical_accuracy: 0.9155 - val_loss: 2.1770 - val_categorical_accuracy: 0.9197\n",
      "Epoch 38/100\n",
      "750/750 [==============================] - 4s 6ms/step - loss: 1.7219 - categorical_accuracy: 0.9156 - val_loss: 2.1570 - val_categorical_accuracy: 0.9215\n",
      "Epoch 39/100\n",
      "750/750 [==============================] - 5s 6ms/step - loss: 1.7016 - categorical_accuracy: 0.9161 - val_loss: 2.1471 - val_categorical_accuracy: 0.9209\n",
      "313/313 - 1s - loss: 2.0010 - categorical_accuracy: 0.9141 - 1s/epoch - 4ms/step\n",
      "Test loss: 2.001006841659546\n",
      "Test accuracy: 91.40999913215637\n"
     ]
    }
   ],
   "source": [
    "# build th emodel\n",
    "model_rl = build_model()\n",
    "# compiling the model\n",
    "model_rl.compile(optimizer= tf.keras.optimizers.SGD(learning_rate=1e-4), loss=reciprocal_loss, metrics=metrics)\n",
    "# training the model\n",
    "history = model_rl.fit(x_train, y_train, batch_size=64, epochs=100, validation_split=0.2, callbacks=[early_stopping_callback])\n",
    "# evaluating the model\n",
    "test_scores = model_rl.evaluate(x_test, y_test, verbose=2)\n",
    "print('Test loss:', test_scores[0])\n",
    "print('Test accuracy:', test_scores[1]*100)\n",
    "# saving the model\n",
    "path = './weights/mnist_rational_model.keras'\n",
    "model_rl.save(path)"
   ],
   "metadata": {
    "collapsed": false,
    "ExecuteTime": {
     "end_time": "2023-08-20T00:08:37.086488600Z",
     "start_time": "2023-08-20T00:05:36.723405900Z"
    }
   },
   "id": "aec9095ab75fd0f9"
  },
  {
   "cell_type": "code",
   "execution_count": 49,
   "outputs": [],
   "source": [
    "# rebuilding the models\n",
    "model_ce = build_model()\n",
    "model_fl = build_model()\n",
    "model_rl = build_model()\n"
   ],
   "metadata": {
    "collapsed": false,
    "ExecuteTime": {
     "end_time": "2023-08-20T00:41:34.243331800Z",
     "start_time": "2023-08-20T00:41:33.999288600Z"
    }
   },
   "id": "b1927c89be550de2"
  },
  {
   "cell_type": "code",
   "execution_count": 45,
   "outputs": [],
   "source": [
    "# imbalance \n",
    "def create_imbalanced_data(x, y, imbalance_rate=0.5):\n",
    "    \"\"\"\n",
    "    Create an imbalanced dataset based on a given probability distribution.\n",
    "    The probability for class d is given by: P(d) = 0.5^d / 2*(1 - 0.5^10)\n",
    "\n",
    "    :param x: Features, shape of [total_samples, feature_dim].\n",
    "    :param y: One-hot encoded labels, shape of [total_samples, num_classes].\n",
    "    :param imbalance_rate: Base rate for the exponential decay of class frequency (default 0.5).\n",
    "    :return: Tuple of imbalanced features and labels, shapes of [selected_samples, feature_dim] and [selected_samples, num_classes].\n",
    "    \"\"\"\n",
    "    total_samples = len(y)\n",
    "    a = imbalance_rate\n",
    "    normalization_factor = 2 * (1 - a**10)\n",
    "\n",
    "    indices_by_class = [np.where(y[:, d] == 1)[0] for d in range(10)]\n",
    "    selected_indices = []\n",
    "\n",
    "    for d in range(10):\n",
    "        probability_d = (a**d) / normalization_factor\n",
    "        frequency = int(total_samples * probability_d)\n",
    "        np.random.shuffle(indices_by_class[d]) # Shuffle to ensure random selection\n",
    "        selected_indices.extend(indices_by_class[d][:frequency])\n",
    "\n",
    "    return x[selected_indices], y[selected_indices]\n",
    "\n",
    "\n",
    "x_train_imbalanced, y_train_imbalanced = create_imbalanced_data(x_train, y_train)\n"
   ],
   "metadata": {
    "collapsed": false,
    "ExecuteTime": {
     "end_time": "2023-08-20T00:39:09.704473Z",
     "start_time": "2023-08-20T00:39:09.648475800Z"
    }
   },
   "id": "d79014705cfeb477"
  },
  {
   "cell_type": "code",
   "execution_count": 56,
   "outputs": [],
   "source": [
    "# compiling the model\n",
    "model_ce.compile(optimizer=tf.keras.optimizers.SGD(), loss=tf.keras.losses.CategoricalCrossentropy(), metrics=metrics)\n",
    "model_fl.compile(optimizer=tf.keras.optimizers.SGD(), loss=tf.keras.losses.CategoricalFocalCrossentropy(), metrics=metrics)\n",
    "model_rl.compile(optimizer=tf.keras.optimizers.SGD(learning_rate=3e-4), loss=reciprocal_loss, metrics=metrics)"
   ],
   "metadata": {
    "collapsed": false,
    "ExecuteTime": {
     "end_time": "2023-08-20T00:44:10.199182700Z",
     "start_time": "2023-08-20T00:44:10.070707600Z"
    }
   },
   "id": "91a82809c3ee57e3"
  },
  {
   "cell_type": "code",
   "execution_count": 57,
   "outputs": [
    {
     "name": "stdout",
     "output_type": "stream",
     "text": [
      "Training on imbalanced data:\n",
      "Cross Entropy:\n",
      "Epoch 1/100\n",
      "326/326 [==============================] - 3s 9ms/step - loss: 0.3517 - categorical_accuracy: 0.8817 - val_loss: 5.0706 - val_categorical_accuracy: 0.2576\n",
      "Epoch 2/100\n",
      "326/326 [==============================] - 3s 8ms/step - loss: 0.1418 - categorical_accuracy: 0.9622 - val_loss: 5.7580 - val_categorical_accuracy: 0.2618\n",
      "Epoch 3/100\n",
      "326/326 [==============================] - 3s 8ms/step - loss: 0.1142 - categorical_accuracy: 0.9669 - val_loss: 6.1194 - val_categorical_accuracy: 0.2693\n",
      "Epoch 4/100\n",
      "326/326 [==============================] - 3s 8ms/step - loss: 0.1013 - categorical_accuracy: 0.9699 - val_loss: 6.3808 - val_categorical_accuracy: 0.2735\n",
      "Epoch 5/100\n",
      "326/326 [==============================] - 3s 8ms/step - loss: 0.0934 - categorical_accuracy: 0.9714 - val_loss: 6.5419 - val_categorical_accuracy: 0.2762\n",
      "Epoch 6/100\n",
      "326/326 [==============================] - 3s 8ms/step - loss: 0.0877 - categorical_accuracy: 0.9726 - val_loss: 6.7224 - val_categorical_accuracy: 0.2735\n",
      "Epoch 7/100\n",
      "326/326 [==============================] - 3s 9ms/step - loss: 0.0832 - categorical_accuracy: 0.9735 - val_loss: 6.8733 - val_categorical_accuracy: 0.2764\n",
      "Focal Loss:\n",
      "Epoch 1/100\n",
      "326/326 [==============================] - 3s 8ms/step - loss: 0.1619 - categorical_accuracy: 0.6696 - val_loss: 0.7344 - val_categorical_accuracy: 0.1109\n",
      "Epoch 2/100\n",
      "326/326 [==============================] - 3s 8ms/step - loss: 0.0444 - categorical_accuracy: 0.9121 - val_loss: 0.8634 - val_categorical_accuracy: 0.2319\n",
      "Epoch 3/100\n",
      "326/326 [==============================] - 3s 8ms/step - loss: 0.0271 - categorical_accuracy: 0.9387 - val_loss: 0.9474 - val_categorical_accuracy: 0.2451\n",
      "Epoch 4/100\n",
      "326/326 [==============================] - 2s 7ms/step - loss: 0.0212 - categorical_accuracy: 0.9469 - val_loss: 1.0072 - val_categorical_accuracy: 0.2516\n",
      "Epoch 5/100\n",
      "326/326 [==============================] - 2s 7ms/step - loss: 0.0182 - categorical_accuracy: 0.9522 - val_loss: 1.0496 - val_categorical_accuracy: 0.2547\n",
      "Epoch 6/100\n",
      "326/326 [==============================] - 2s 7ms/step - loss: 0.0163 - categorical_accuracy: 0.9548 - val_loss: 1.0863 - val_categorical_accuracy: 0.2566\n",
      "Epoch 7/100\n",
      "326/326 [==============================] - 2s 7ms/step - loss: 0.0150 - categorical_accuracy: 0.9586 - val_loss: 1.1106 - val_categorical_accuracy: 0.2599\n",
      "Rational Loss:\n",
      "Epoch 1/100\n",
      "326/326 [==============================] - 3s 9ms/step - loss: 2.4347 - categorical_accuracy: 0.7742 - val_loss: 269.7808 - val_categorical_accuracy: 0.2255\n",
      "Epoch 2/100\n",
      "326/326 [==============================] - 3s 8ms/step - loss: 1.3143 - categorical_accuracy: 0.9321 - val_loss: 682.9225 - val_categorical_accuracy: 0.2445\n",
      "Epoch 3/100\n",
      "326/326 [==============================] - 3s 8ms/step - loss: 1.0277 - categorical_accuracy: 0.9403 - val_loss: 1268.2360 - val_categorical_accuracy: 0.2463\n",
      "Epoch 4/100\n",
      "326/326 [==============================] - 3s 8ms/step - loss: 0.8848 - categorical_accuracy: 0.9461 - val_loss: 2012.9971 - val_categorical_accuracy: 0.2418\n",
      "Epoch 5/100\n",
      "326/326 [==============================] - 3s 8ms/step - loss: 0.7965 - categorical_accuracy: 0.9500 - val_loss: 3036.8259 - val_categorical_accuracy: 0.2528\n",
      "Epoch 6/100\n",
      "326/326 [==============================] - 3s 8ms/step - loss: 0.7373 - categorical_accuracy: 0.9522 - val_loss: 4136.1313 - val_categorical_accuracy: 0.2545\n",
      "Epoch 7/100\n",
      "326/326 [==============================] - 3s 8ms/step - loss: 0.6893 - categorical_accuracy: 0.9548 - val_loss: 5515.6675 - val_categorical_accuracy: 0.2516\n"
     ]
    },
    {
     "data": {
      "text/plain": "<keras.src.callbacks.History at 0x7fc93b5bd970>"
     },
     "execution_count": 57,
     "metadata": {},
     "output_type": "execute_result"
    }
   ],
   "source": [
    "print(\"Training on imbalanced data:\")\n",
    "early_stopping_callback = EarlyStopping(monitor='val_loss', patience=6, restore_best_weights=True)\n",
    "print(\"Cross Entropy:\")\n",
    "model_ce.fit(x_train_imbalanced, y_train_imbalanced, epochs=100, batch_size=64, validation_split=0.2, callbacks=[early_stopping_callback])\n",
    "print(\"Focal Loss:\")\n",
    "model_fl.fit(x_train_imbalanced, y_train_imbalanced, epochs=100, batch_size=64, validation_split=0.2, callbacks=[early_stopping_callback])\n",
    "print(\"reciprocal loss:\")\n",
    "model_rl.fit(x_train_imbalanced, y_train_imbalanced, epochs=100, batch_size=64, validation_split=0.2, callbacks=[early_stopping_callback])"
   ],
   "metadata": {
    "collapsed": false,
    "ExecuteTime": {
     "end_time": "2023-08-20T00:45:08.709091900Z",
     "start_time": "2023-08-20T00:44:11.761277Z"
    }
   },
   "id": "a3f93d839fc2252a"
  },
  {
   "cell_type": "code",
   "execution_count": 58,
   "outputs": [
    {
     "name": "stdout",
     "output_type": "stream",
     "text": [
      "test on balanced set:\n",
      "313/313 [==============================] - 2s 6ms/step - loss: 4.2895 - categorical_accuracy: 0.3974\n",
      "313/313 [==============================] - 1s 4ms/step - loss: 0.6096 - categorical_accuracy: 0.3333\n",
      "313/313 [==============================] - 2s 5ms/step - loss: 268.0774 - categorical_accuracy: 0.3792\n",
      "ce: test loss 4.289544582366943, test accuracy 39.739999175071716\n",
      "fl: test loss 0.6095591187477112, test accuracy 33.3299994468689\n",
      "rl: test loss 268.0774230957031, test accuracy 37.92000114917755\n",
      "test on imbalanced data:\n",
      "138/138 [==============================] - 1s 6ms/step - loss: 1.1458 - categorical_accuracy: 0.8269\n",
      "138/138 [==============================] - 1s 4ms/step - loss: 0.1973 - categorical_accuracy: 0.7245\n",
      "138/138 [==============================] - 1s 5ms/step - loss: 63.0856 - categorical_accuracy: 0.7922\n",
      "ce: test loss 1.1457653045654297, test accuracy 82.69098997116089\n",
      "fl: test loss 0.19733037054538727, test accuracy 72.45153784751892\n",
      "rl: test loss 63.08560562133789, test accuracy 79.22462821006775\n"
     ]
    }
   ],
   "source": [
    "# Balanced data\n",
    "print(\"test on balanced set:\")\n",
    "ce_res = model_ce.evaluate(x_test, y_test)\n",
    "fl_res = model_fl.evaluate(x_test, y_test)\n",
    "rl_res = model_rl.evaluate(x_test, y_test)\n",
    "print(f'ce: test loss {ce_res[0]}, test accuracy {ce_res[1]*100}')\n",
    "print(f'fl: test loss {fl_res[0]}, test accuracy {fl_res[1]*100}')\n",
    "print(f'rl: test loss {rl_res[0]}, test accuracy {rl_res[1]*100}')\n",
    "# Imbalanced data\n",
    "print(\"test on imbalanced data:\")\n",
    "x_test_imbalanced, y_test_imbalanced = create_imbalanced_data(x_test, y_test)\n",
    "ce_ires = model_ce.evaluate(x_test_imbalanced, y_test_imbalanced)\n",
    "fl_ires = model_fl.evaluate(x_test_imbalanced, y_test_imbalanced)\n",
    "rl_ires = model_rl.evaluate(x_test_imbalanced, y_test_imbalanced)\n",
    "print(f'ce: test loss {ce_ires[0]}, test accuracy {ce_ires[1]*100}')\n",
    "print(f'fl: test loss {fl_ires[0]}, test accuracy {fl_ires[1]*100}')\n",
    "print(f'rl: test loss {rl_ires[0]}, test accuracy {rl_ires[1]*100}')"
   ],
   "metadata": {
    "collapsed": false,
    "ExecuteTime": {
     "end_time": "2023-08-20T00:48:05.640792800Z",
     "start_time": "2023-08-20T00:47:58.278116100Z"
    }
   },
   "id": "2607f1d33ef6bef2"
  },
  {
   "cell_type": "code",
   "execution_count": 59,
   "outputs": [],
   "source": [
    "def accuracy_by_bins(model, x, y):\n",
    "    \"\"\"\n",
    "    Calculate and print the accuracy of the given model for specific bins of classes.\n",
    "    The bins are defined as: 0-1, 2-7, 8-9.\n",
    "\n",
    "    :param model: Trained tf.keras model to evaluate.\n",
    "    :param x: Input features, shape of [num_samples, feature_dim].\n",
    "    :param y: One-hot encoded labels, shape of [num_samples, num_classes].\n",
    "    \"\"\"\n",
    "    predictions = model.predict(x).argmax(axis=-1)\n",
    "    true_labels = y.argmax(axis=-1)\n",
    "    bins = [(0, 1), (2, 7), (8, 9)]\n",
    "    for bin_start, bin_end in bins:\n",
    "        mask = (true_labels >= bin_start) & (true_labels <= bin_end) \n",
    "        bin_accuracy = np.mean(predictions[mask] == true_labels[mask])\n",
    "        print(f\"Accuracy for bin {bin_start}-{bin_end}: {bin_accuracy*100}\")"
   ],
   "metadata": {
    "collapsed": false,
    "ExecuteTime": {
     "end_time": "2023-08-20T00:48:08.998055200Z",
     "start_time": "2023-08-20T00:48:08.991055300Z"
    }
   },
   "id": "59193dfb9c4b22be"
  },
  {
   "cell_type": "code",
   "execution_count": 60,
   "outputs": [
    {
     "name": "stdout",
     "output_type": "stream",
     "text": [
      "Accuracy by bins for balanced data:\n",
      "Cross Entropy:\n",
      "313/313 [==============================] - 1s 3ms/step\n",
      "Accuracy for bin 0-1: 99.14893617021276\n",
      "Accuracy for bin 2-7: 31.80277871907828\n",
      "Accuracy for bin 8-9: 0.0\n",
      "Focal Loss:\n",
      "313/313 [==============================] - 1s 2ms/step\n",
      "Accuracy for bin 0-1: 96.31205673758865\n",
      "Accuracy for bin 2-7: 21.9586580820061\n",
      "Accuracy for bin 8-9: 0.0\n",
      "Rational Loss:\n",
      "313/313 [==============================] - 1s 2ms/step\n",
      "Accuracy for bin 0-1: 96.92671394799054\n",
      "Accuracy for bin 2-7: 29.515418502202646\n",
      "Accuracy for bin 8-9: 0.0\n"
     ]
    }
   ],
   "source": [
    "print(\"Accuracy by bins for balanced data:\")\n",
    "print(\"Cross Entropy:\")\n",
    "accuracy_by_bins(model_ce, x_test, y_test)\n",
    "print(\"Focal Loss:\")\n",
    "accuracy_by_bins(model_fl, x_test, y_test)\n",
    "print(\"reciprocal loss:\")\n",
    "accuracy_by_bins(model_rl, x_test, y_test)"
   ],
   "metadata": {
    "collapsed": false,
    "ExecuteTime": {
     "end_time": "2023-08-20T00:48:14.319935Z",
     "start_time": "2023-08-20T00:48:11.062935800Z"
    }
   },
   "id": "bb961f85c777e2ef"
  },
  {
   "cell_type": "code",
   "execution_count": 61,
   "outputs": [
    {
     "name": "stdout",
     "output_type": "stream",
     "text": [
      "Accuracy by bins for imbalanced data:\n",
      "Cross Entropy:\n",
      "138/138 [==============================] - 1s 4ms/step\n",
      "Accuracy for bin 0-1: 99.14893617021276\n",
      "Accuracy for bin 2-7: 68.19803746654772\n",
      "Accuracy for bin 8-9: 0.0\n",
      "Focal Loss:\n",
      "138/138 [==============================] - 0s 3ms/step\n",
      "Accuracy for bin 0-1: 96.31205673758865\n",
      "Accuracy for bin 2-7: 50.847457627118644\n",
      "Accuracy for bin 8-9: 0.0\n",
      "Rational Loss:\n",
      "138/138 [==============================] - 0s 2ms/step\n",
      "Accuracy for bin 0-1: 96.92671394799054\n",
      "Accuracy for bin 2-7: 63.514719000892065\n",
      "Accuracy for bin 8-9: 0.0\n"
     ]
    }
   ],
   "source": [
    "print(\"Accuracy by bins for imbalanced data:\")\n",
    "print(\"Cross Entropy:\")\n",
    "accuracy_by_bins(model_ce, x_test_imbalanced, y_test_imbalanced)\n",
    "print(\"Focal Loss:\")\n",
    "accuracy_by_bins(model_fl, x_test_imbalanced, y_test_imbalanced)\n",
    "print(\"reciprocal loss:\")\n",
    "accuracy_by_bins(model_rl, x_test_imbalanced, y_test_imbalanced)"
   ],
   "metadata": {
    "collapsed": false,
    "ExecuteTime": {
     "end_time": "2023-08-20T00:48:20.535296200Z",
     "start_time": "2023-08-20T00:48:18.822689Z"
    }
   },
   "id": "74121e5c14413a27"
  },
  {
   "cell_type": "code",
   "execution_count": 19,
   "outputs": [
    {
     "data": {
      "image/png": "[encoded data removed]",
      "text/plain": "<IPython.core.display.Image object>"
     },
     "execution_count": 19,
     "metadata": {},
     "output_type": "execute_result"
    }
   ],
   "source": [
    "# plotting the model_rl\n",
    "tf.keras.utils.plot_model(model_rl, \"model_rl.png\", show_shapes=True)"
   ],
   "metadata": {
    "collapsed": false,
    "ExecuteTime": {
     "end_time": "2023-08-20T00:04:16.928641600Z",
     "start_time": "2023-08-20T00:04:15.587454400Z"
    }
   },
   "id": "60845c65b47ad889"
  }
 ],
 "metadata": {
  "kernelspec": {
   "display_name": "Python 3 (ipykernel)",
   "language": "python",
   "name": "python3"
  },
  "language_info": {
   "codemirror_mode": {
    "name": "ipython",
    "version": 3
   },
   "file_extension": ".py",
   "mimetype": "text/x-python",
   "name": "python",
   "nbconvert_exporter": "python",
   "pygments_lexer": "ipython3",
   "version": "3.9.12"
  }
 },
 "nbformat": 4,
 "nbformat_minor": 5
}
