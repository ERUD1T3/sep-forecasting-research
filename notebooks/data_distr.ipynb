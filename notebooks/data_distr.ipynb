{
 "cells": [
  {
   "cell_type": "code",
   "execution_count": 7,
   "id": "d01a34c0f1241db8",
   "metadata": {
    "ExecuteTime": {
     "end_time": "2024-09-06T18:25:13.422070Z",
     "start_time": "2024-09-06T18:25:13.344048Z"
    }
   },
   "outputs": [],
   "source": [
    "from modules.shared.globals import *\n",
    "from modules.training.cme_modeling import ModelBuilder\n",
    "from modules.training.ts_modeling import (\n",
    "    build_dataset,\n",
    "    stratified_split,\n",
    "    set_seed)\n",
    "\n",
    "mb = ModelBuilder()"
   ]
  },
  {
   "cell_type": "code",
   "execution_count": null,
   "id": "8949573bfe0d7291",
   "metadata": {
    "ExecuteTime": {
     "end_time": "2024-09-06T18:25:20.459506Z",
     "start_time": "2024-09-06T18:25:15.580055Z"
    }
   },
   "outputs": [],
   "source": [
    "seed = SEEDS[0]\n",
    "inputs_to_use = INPUTS_TO_USE[0]\n",
    "add_slope = ADD_SLOPE[0]\n",
    "cme_speed_threshold = CME_SPEED_THRESHOLD[0]\n",
    "outputs_to_use = OUTPUTS_TO_USE\n",
    "\n",
    "set_seed(seed)\n",
    "\n",
    "# set the root directory\n",
    "# root_dir_laptop = 'C:/Users/the_3/Documents/github/keras-functional-api/data/electron_cme_data_split_v7'\n",
    "root_dir = 'D:/College/Fall2023/sep-forecasting-research/data/electron_cme_data_split_v7'\n",
    "# build the dataset\n",
    "X_train, y_train = build_dataset(\n",
    "    root_dir + '/training',\n",
    "    inputs_to_use=inputs_to_use,\n",
    "    add_slope=add_slope,\n",
    "    outputs_to_use=outputs_to_use,\n",
    "    cme_speed_threshold=cme_speed_threshold,\n",
    "    shuffle_data=True)\n",
    "\n",
    "X_test, y_test = build_dataset(\n",
    "    root_dir + '/testing',\n",
    "    inputs_to_use=inputs_to_use,\n",
    "    add_slope=add_slope,\n",
    "    outputs_to_use=outputs_to_use,\n",
    "    cme_speed_threshold=cme_speed_threshold)\n",
    "\n",
    "X_subtrain, y_subtrain, X_val, y_val = stratified_split(X_train, y_train, seed=seed, debug=True)\n",
    "\n",
    "# print all cme_files shapes\n",
    "print(f'X_train.shape: {X_train.shape}')\n",
    "print(f'y_train.shape: {y_train.shape}')\n",
    "print(f'X_subtrain.shape: {X_subtrain.shape}')\n",
    "print(f'y_subtrain.shape: {y_subtrain.shape}')\n",
    "print(f'X_test.shape: {X_test.shape}')\n",
    "print(f'y_test.shape: {y_test.shape}')\n",
    "print(f'X_val.shape: {X_val.shape}')\n",
    "print(f'y_val.shape: {y_val.shape}')\n",
    "\n"
   ]
  },
  {
   "cell_type": "code",
   "execution_count": 5,
   "id": "897005d297748a41",
   "metadata": {
    "ExecuteTime": {
     "end_time": "2024-09-06T17:04:37.850238Z",
     "start_time": "2024-09-06T17:04:37.827738Z"
    }
   },
   "outputs": [],
   "source": [
    "from modules.training.ts_modeling import stratified_4fold_split\n"
   ]
  },
  {
   "cell_type": "code",
   "execution_count": null,
   "id": "b3bb3aaf00e3204d",
   "metadata": {
    "ExecuteTime": {
     "end_time": "2024-09-06T17:05:13.651529Z",
     "start_time": "2024-09-06T17:05:09.689529Z"
    }
   },
   "outputs": [],
   "source": [
    "for i, (X_subtrain, y_subtrain, X_val, y_val) in enumerate(stratified_4fold_split(X_train, y_train, seed=seed, debug=True)):\n",
    "    print(f'Fold {i + 1}:')\n",
    "    print(f'X_subtrain.shape: {X_subtrain.shape}')\n",
    "    print(f'y_subtrain.shape: {y_subtrain.shape}')\n",
    "    print(f'X_val.shape: {X_val.shape}')\n",
    "    print(f'y_val.shape: {y_val.shape}')"
   ]
  },
  {
   "cell_type": "code",
   "execution_count": 14,
   "id": "caf2a9f9e4d8f27e",
   "metadata": {
    "ExecuteTime": {
     "end_time": "2024-09-03T18:59:50.152768Z",
     "start_time": "2024-09-03T18:59:50.127836Z"
    }
   },
   "outputs": [],
   "source": [
    "from scipy.spatial.distance import jensenshannon\n",
    "import numpy as np\n",
    "from typing import Dict, Union\n",
    "\n",
    "\n",
    "def calculate_js_divergence(X1: np.ndarray, X2: np.ndarray) -> Dict[str, float]:\n",
    "    \"\"\"\n",
    "    Calculate the Jensen-Shannon (JS) divergence for each feature between two datasets.\n",
    "\n",
    "    Args:\n",
    "        X1 (np.ndarray): The first dataset (e.g., training data) with shape (n_samples, n_features).\n",
    "        X2 (np.ndarray): The second dataset (e.g., test data) with shape (n_samples, n_features).\n",
    "\n",
    "    Returns:\n",
    "        Dict[str, float]: A dictionary where the keys are feature names (or indices) \n",
    "                          and the values are the corresponding JS divergence values.\n",
    "    \"\"\"\n",
    "    js_divergences = {}\n",
    "    n_features = X1.shape[1]  # Number of features\n",
    "\n",
    "    # Iterate over each feature index\n",
    "    for i in range(n_features):\n",
    "        # Create a histogram for the feature in each dataset\n",
    "        p = np.histogram(X1[:, i], bins=100, density=True)[0]\n",
    "        q = np.histogram(X2[:, i], bins=100, density=True)[0]\n",
    "\n",
    "        # Calculate the JS divergence between the two histograms\n",
    "        js_div = jensenshannon(p, q)\n",
    "\n",
    "        # Store the JS divergence in the dictionary with the feature index as the key\n",
    "        js_divergences[f'Feature_{i}'] = js_div\n",
    "\n",
    "    return js_divergences\n",
    "\n",
    "\n",
    "import matplotlib.pyplot as plt\n",
    "\n",
    "\n",
    "def calculate_js_divergence_labels(y1: Union[np.ndarray, list], y2: Union[np.ndarray, list], bin_width: float = 0.1,\n",
    "                                   plot: bool = False) -> float:\n",
    "    \"\"\"\n",
    "    Calculate the Jensen-Shannon (JS) divergence between the label distributions of two regression datasets.\n",
    "    Optionally, plot the histograms of the label distributions.\n",
    "\n",
    "    Args:\n",
    "        y1 (Union[np.ndarray, list]): The labels for the first dataset (e.g., training labels).\n",
    "        y2 (Union[np.ndarray, list]): The labels for the second dataset (e.g., test labels).\n",
    "        plot (bool): If True, plot the histograms of the label distributions. Default is False.\n",
    "\n",
    "    Returns:\n",
    "        float: The JS divergence between the label distributions.\n",
    "    \"\"\"\n",
    "    # Define the bin edges for the histograms with width 0.1 between -2.5 and 2.5\n",
    "    bins = np.arange(-2.5, 2.5 + bin_width, bin_width)\n",
    "\n",
    "    # Calculate histograms for the labels with the same bins for both datasets\n",
    "    p = np.histogram(y1, bins=bins, density=True)[0]\n",
    "    q = np.histogram(y2, bins=bins, density=True)[0]\n",
    "\n",
    "    # Calculate the JS divergence between the two label distributions\n",
    "    js_div = jensenshannon(p, q)\n",
    "\n",
    "    # Plot the histograms if requested\n",
    "    if plot:\n",
    "        plt.figure(figsize=(10, 6))\n",
    "\n",
    "        # Plot the histogram for the first dataset\n",
    "        plt.hist(y1, bins=bins, density=True, alpha=0.5, color='blue', label='Dataset 1 (y1)')\n",
    "\n",
    "        # Plot the histogram for the second dataset\n",
    "        plt.hist(y2, bins=bins, density=True, alpha=0.5, color='orange', label='Dataset 2 (y2)')\n",
    "\n",
    "        # Adding labels and title\n",
    "        plt.xlabel('Label Value')\n",
    "        plt.ylabel('Density')\n",
    "        plt.title('Label Distribution Comparison')\n",
    "        plt.legend(loc='upper right')\n",
    "\n",
    "        # Show the plot\n",
    "        plt.show()\n",
    "\n",
    "    return js_div"
   ]
  },
  {
   "cell_type": "code",
   "execution_count": null,
   "id": "edee55cebc14ae2b",
   "metadata": {
    "ExecuteTime": {
     "end_time": "2024-09-03T19:01:11.481447Z",
     "start_time": "2024-09-03T19:01:08.388279Z"
    }
   },
   "outputs": [],
   "source": [
    "# Calculate JS divergence for features\n",
    "js_train_test = calculate_js_divergence(X_train, X_test)\n",
    "js_subtrain_test = calculate_js_divergence(X_subtrain, X_test)\n",
    "js_val_test = calculate_js_divergence(X_val, X_test)\n",
    "\n",
    "# Calculate JS divergence for labels\n",
    "js_labels_train_test = calculate_js_divergence_labels(y_train, y_test, bin_width=0.01, plot=True)\n",
    "js_labels_subtrain_test = calculate_js_divergence_labels(y_subtrain, y_test, bin_width=0.01, plot=True)\n",
    "js_labels_val_test = calculate_js_divergence_labels(y_val, y_test, bin_width=0.01, plot=True)\n",
    "\n",
    "# Print all JS divergences for features\n",
    "print(f'Seed: {seed}, Inputs: {inputs_to_use}, Add Slope: {add_slope}, CME Speed Threshold: {cme_speed_threshold}')\n",
    "print('JS Divergence between X_train and X_test:')\n",
    "for feature, js_div in js_train_test.items():\n",
    "    print(f'Feature: {feature}, JS Divergence: {js_div:.4f}')\n",
    "\n",
    "print('JS Divergence between X_subtrain and X_test:')\n",
    "for feature, js_div in js_subtrain_test.items():\n",
    "    print(f'Feature: {feature}, JS Divergence: {js_div:.4f}')\n",
    "\n",
    "print('JS Divergence between X_val and X_test:')\n",
    "for feature, js_div in js_val_test.items():\n",
    "    print(f'Feature: {feature}, JS Divergence: {js_div:.4f}')\n",
    "\n",
    "# Print average JS divergences for features\n",
    "avg_js_train_test = np.mean(list(js_train_test.values()))\n",
    "avg_js_subtrain_test = np.mean(list(js_subtrain_test.values()))\n",
    "avg_js_val_test = np.mean(list(js_val_test.values()))\n",
    "print(f'Average JS Divergence between X_train and X_test: {avg_js_train_test:.4f}')\n",
    "print(f'Average JS Divergence between X_subtrain and X_test: {avg_js_subtrain_test:.4f}')\n",
    "print(f'Average JS Divergence between X_val and X_test: {avg_js_val_test:.4f}')\n",
    "\n",
    "# Print JS divergences for labels\n",
    "print(f'JS Divergence between y_train and y_test: {js_labels_train_test:.4f}')\n",
    "print(f'JS Divergence between y_subtrain and y_test: {js_labels_subtrain_test:.4f}')\n",
    "print(f'JS Divergence between y_val and y_test: {js_labels_val_test:.4f}')"
   ]
  },
  {
   "cell_type": "markdown",
   "id": "3c9391ee4bed8e01",
   "metadata": {},
   "source": [
    "### Summary: Jensen-Shannon (JS) Divergence\n",
    "\n",
    "- **JS Divergence**: Measures the similarity between two probability distributions.\n",
    "- **Range**: 0 (identical) to 1 (completely dissimilar).\n",
    "- **Good Value**: JS close to 0 indicates similar distributions.\n",
    "- **Bad Value**: JS close to 1 indicates significant differences.\n",
    "\n",
    "### Results for Your Dataset\n",
    "\n",
    "- **y_train vs. y_test**: JS = 0.0861\n",
    "- **y_subtrain vs. y_test**: JS = 0.0867\n",
    "- **y_val vs. y_test**: JS = 0.0943\n",
    "\n",
    "These relatively low JS values suggest that the label distributions in your training, subtraining, validation, and test sets are quite similar. While the divergences are not negligible, they are still well within a range that generally indicates good distributional alignment. This implies that your model should be able to generalize well across these datasets, with minimal risk of performance degradation due to distributional differences."
   ]
  },
  {
   "cell_type": "code",
   "execution_count": 16,
   "id": "35b3facf230cfdee",
   "metadata": {
    "ExecuteTime": {
     "end_time": "2024-09-03T19:05:32.965364Z",
     "start_time": "2024-09-03T19:05:32.942382Z"
    }
   },
   "outputs": [],
   "source": [
    "def calculate_js_divergence_labels_subset(y1: Union[np.ndarray, list], y2: Union[np.ndarray, list],\n",
    "                                          bin_width: float = 0.1, lower_b: float = -2.5,\n",
    "                                          higher_b: float = 2.5, plot: bool = False) -> float:\n",
    "    \"\"\"\n",
    "    Calculate the Jensen-Shannon (JS) divergence between the label distributions of two regression datasets\n",
    "    within a specified subset range. Optionally, plot the histograms of the label distributions.\n",
    "\n",
    "    Args:\n",
    "        y1 (Union[np.ndarray, list]): The labels for the first dataset (e.g., training labels).\n",
    "        y2 (Union[np.ndarray, list]): The labels for the second dataset (e.g., test labels).\n",
    "        bin_width (float): The width of the bins for the histograms. Default is 0.1.\n",
    "        lower_b (float): The lower bound of the subset range to consider. Default is -2.5.\n",
    "        higher_b (float): The upper bound of the subset range to consider. Default is 2.5.\n",
    "        plot (bool): If True, plot the histograms of the label distributions. Default is False.\n",
    "\n",
    "    Returns:\n",
    "        float: The JS divergence between the label distributions within the specified range.\n",
    "    \"\"\"\n",
    "    # Filter the data to consider only the subset within the specified range\n",
    "    y1_subset = np.array([y for y in y1 if lower_b <= y <= higher_b])\n",
    "    y2_subset = np.array([y for y in y2 if lower_b <= y <= higher_b])\n",
    "\n",
    "    # Define the bin edges for the histograms with the specified bin width within the given range\n",
    "    bins = np.arange(lower_b, higher_b + bin_width, bin_width)\n",
    "\n",
    "    # Calculate histograms for the labels with the same bins for both datasets\n",
    "    p = np.histogram(y1_subset, bins=bins, density=True)[0]\n",
    "    q = np.histogram(y2_subset, bins=bins, density=True)[0]\n",
    "\n",
    "    # Calculate the JS divergence between the two label distributions\n",
    "    js_div = jensenshannon(p, q)\n",
    "\n",
    "    # Plot the histograms if requested\n",
    "    if plot:\n",
    "        plt.figure(figsize=(10, 6))\n",
    "\n",
    "        # Plot the histogram for the first dataset\n",
    "        plt.hist(y1_subset, bins=bins, density=True, alpha=0.5, color='blue', label='Dataset 1 (y1)')\n",
    "\n",
    "        # Plot the histogram for the second dataset\n",
    "        plt.hist(y2_subset, bins=bins, density=True, alpha=0.5, color='orange', label='Dataset 2 (y2)')\n",
    "\n",
    "        # Adding labels and title\n",
    "        plt.xlabel('Label Value')\n",
    "        plt.ylabel('Density')\n",
    "        plt.title(f'Label Distribution Comparison (Subset between {lower_b} and {higher_b})')\n",
    "        plt.legend(loc='upper right')\n",
    "\n",
    "        # Show the plot\n",
    "        plt.show()\n",
    "\n",
    "    return js_div"
   ]
  },
  {
   "cell_type": "code",
   "execution_count": null,
   "id": "8ab2a1d4218f9aa9",
   "metadata": {
    "ExecuteTime": {
     "end_time": "2024-09-03T19:07:43.601356Z",
     "start_time": "2024-09-03T19:07:42.076776Z"
    }
   },
   "outputs": [],
   "source": [
    "lower_bound = 0.5\n",
    "upper_bound = 2.5\n",
    "\n",
    "# Calculate JS divergence for labels within the subset range\n",
    "js_labels_train_test_subset = calculate_js_divergence_labels_subset(y_train, y_test, lower_b=lower_bound,\n",
    "                                                                    higher_b=upper_bound, bin_width=0.01, plot=True)\n",
    "js_labels_subtrain_test_subset = calculate_js_divergence_labels_subset(y_subtrain, y_test, lower_b=lower_bound,\n",
    "                                                                       higher_b=upper_bound, bin_width=0.01, plot=True)\n",
    "js_labels_val_test_subset = calculate_js_divergence_labels_subset(y_val, y_test, lower_b=lower_bound,\n",
    "                                                                  higher_b=upper_bound, bin_width=0.01, plot=True)\n",
    "\n",
    "# Print JS divergences for labels within the subset range\n",
    "print(\n",
    "    f'JS Divergence between y_train and y_test (Subset between {lower_bound} and {upper_bound}): {js_labels_train_test_subset:.4f}')\n",
    "print(\n",
    "    f'JS Divergence between y_subtrain and y_test (Subset between {lower_bound} and {upper_bound}): {js_labels_subtrain_test_subset:.4f}')\n",
    "print(\n",
    "    f'JS Divergence between y_val and y_test (Subset between {lower_bound} and {upper_bound}): {js_labels_val_test_subset:.4f}')"
   ]
  },
  {
   "cell_type": "code",
   "execution_count": null,
   "id": "f2fc577161bda100",
   "metadata": {
    "ExecuteTime": {
     "end_time": "2024-09-03T20:15:53.525423Z",
     "start_time": "2024-09-03T20:15:52.883204Z"
    }
   },
   "outputs": [],
   "source": [
    "lower_bound = 0.5\n",
    "upper_bound = 2.5\n",
    "\n",
    "# Calculate JS divergence for labels within the subset range\n",
    "# js_labels_train_test_subset = calculate_js_divergence_labels_subset(y_train, y_test, lower_b=lower_bound,\n",
    "#                                                                     higher_b=upper_bound, bin_width=0.01, plot=True)\n",
    "# js_labels_subtrain_test_subset = calculate_js_divergence_labels_subset(y_subtrain, y_test, lower_b=lower_bound,\n",
    "#                                                                        higher_b=upper_bound, bin_width=0.01, plot=True)\n",
    "js_labels_val_test_subset = calculate_js_divergence_labels_subset(y_val, y_train, lower_b=lower_bound,\n",
    "                                                                  higher_b=upper_bound, bin_width=0.1, plot=True)\n",
    "\n",
    "\n",
    "# Print JS divergences for labels within the subset range\n",
    "# print(\n",
    "#     f'JS Divergence between y_train and y_test (Subset between {lower_bound} and {upper_bound}): {js_labels_train_test_subset:.4f}')\n",
    "# print(\n",
    "#     f'JS Divergence between y_subtrain and y_test (Subset between {lower_bound} and {upper_bound}): {js_labels_subtrain_test_subset:.4f}')\n",
    "print(\n",
    "    f'JS Divergence between y_val and y_train (Subset between {lower_bound} and {upper_bound}): {js_labels_val_test_subset:.4f}')"
   ]
  },
  {
   "cell_type": "code",
   "execution_count": null,
   "id": "4fe51c607115fb0d",
   "metadata": {
    "ExecuteTime": {
     "end_time": "2024-09-03T20:13:45.169928Z",
     "start_time": "2024-09-03T20:13:41.237200Z"
    }
   },
   "outputs": [],
   "source": [
    "lower_bound = -2.5\n",
    "upper_bound = 2.5\n",
    "\n",
    "# Calculate JS divergence for labels within the subset range\n",
    "# js_labels_train_test_subset = calculate_js_divergence_labels_subset(y_train, y_test, lower_b=lower_bound,\n",
    "#                                                                     higher_b=upper_bound, bin_width=0.01, plot=True)\n",
    "# js_labels_subtrain_test_subset = calculate_js_divergence_labels_subset(y_subtrain, y_test, lower_b=lower_bound,\n",
    "#                                                                        higher_b=upper_bound, bin_width=0.01, plot=True)\n",
    "js_labels_val_test_subset = calculate_js_divergence_labels_subset(y_val, y_train, lower_b=lower_bound,\n",
    "                                                                  higher_b=upper_bound, bin_width=0.01, plot=True)\n",
    "\n",
    "\n",
    "# Print JS divergences for labels within the subset range\n",
    "# print(\n",
    "#     f'JS Divergence between y_train and y_test (Subset between {lower_bound} and {upper_bound}): {js_labels_train_test_subset:.4f}')\n",
    "# print(\n",
    "#     f'JS Divergence between y_subtrain and y_test (Subset between {lower_bound} and {upper_bound}): {js_labels_subtrain_test_subset:.4f}')\n",
    "print(\n",
    "    f'JS Divergence between y_val and y_train (Subset between {lower_bound} and {upper_bound}): {js_labels_val_test_subset:.4f}')"
   ]
  },
  {
   "cell_type": "markdown",
   "id": "52c89180813fb450",
   "metadata": {},
   "source": [
    "### Analysis of JS Divergence for the Subset between 0.5 and 2.5\n",
    "\n",
    "- **JS Divergence between `y_train` and `y_test` (Subset 0.5 to 2.5): 0.4015**\n",
    "- **JS Divergence between `y_subtrain` and `y_test` (Subset 0.5 to 2.5): 0.3993**\n",
    "- **JS Divergence between `y_val` and `y_test` (Subset 0.5 to 2.5): 0.5027**\n",
    "\n",
    "### Interpretation:\n",
    "\n",
    "- **Higher JS Divergence**:\n",
    "  - These JS divergence values are notably higher than those observed for the full dataset range. Specifically, the divergence values range from approximately 0.4 to 0.5.\n",
    "  - **0.4015** and **0.3993** indicate a moderate difference between the training, subtraining, and test label distributions.\n",
    "  - **0.5027** is quite high, particularly for the validation set compared to the test set, suggesting a more significant difference in this subset range.\n",
    "\n",
    "### Implications:\n",
    "\n",
    "- **Potential Distributional Shift**: The higher JS divergence in this specific range (0.5 to 2.5) suggests that there is a notable difference in how the labels are distributed in this region between your training, subtraining, validation, and test sets. This could indicate a distributional shift, particularly in the validation set, that may affect model performance in this range.\n",
    "- **Impact on Model Performance**:\n",
    "  - If this range (0.5 to 2.5) is particularly important for your prediction task, the model might struggle to generalize well in this interval due to the distributional differences.\n",
    "  - The validation set having the highest divergence (**0.5027**) compared to the test set could lead to validation performance not accurately reflecting the test performance.\n",
    "\n",
    "#"
   ]
  },
  {
   "cell_type": "code",
   "execution_count": null,
   "id": "bfa76d39adb4d362",
   "metadata": {
    "ExecuteTime": {
     "end_time": "2024-09-03T19:10:36.203444Z",
     "start_time": "2024-09-03T19:10:34.410445Z"
    }
   },
   "outputs": [],
   "source": [
    "lower_bound = -2.5\n",
    "higher_bound = -0.5\n",
    "\n",
    "# Calculate JS divergence for labels within the subset range\n",
    "js_labels_train_test_subset = calculate_js_divergence_labels_subset(y_train, y_test, lower_b=lower_bound,\n",
    "                                                                    higher_b=higher_bound, bin_width=0.01, plot=True)\n",
    "js_labels_subtrain_test_subset = calculate_js_divergence_labels_subset(y_subtrain, y_test, lower_b=lower_bound,\n",
    "                                                                       higher_b=higher_bound, bin_width=0.01, plot=True)\n",
    "js_labels_val_test_subset = calculate_js_divergence_labels_subset(y_val, y_test, lower_b=lower_bound,\n",
    "                                                                    higher_b=higher_bound, bin_width=0.01, plot=True)\n",
    "\n",
    "# Print JS divergences for labels within the subset range\n",
    "print(\n",
    "    f'JS Divergence between y_train and y_test (Subset between {lower_bound} and {higher_bound}): {js_labels_train_test_subset:.4f}')\n",
    "print(\n",
    "    f'JS Divergence between y_subtrain and y_test (Subset between {lower_bound} and {higher_bound}): {js_labels_subtrain_test_subset:.4f}')\n",
    "print(\n",
    "    f'JS Divergence between y_val and y_test (Subset between {lower_bound} and {higher_bound}): {js_labels_val_test_subset:.4f}')\n",
    "\n"
   ]
  },
  {
   "cell_type": "markdown",
   "id": "3c8ab202aa38971d",
   "metadata": {},
   "source": [
    "### Analysis of JS Divergence for the Subset between -2.5 and -0.5\n",
    "\n",
    "- **JS Divergence between `y_train` and `y_test` (Subset -2.5 to -0.5): 0.4991**\n",
    "- **JS Divergence between `y_subtrain` and `y_test` (Subset -2.5 to -0.5): 0.5104**\n",
    "- **JS Divergence between `y_val` and `y_test` (Subset -2.5 to -0.5): 0.5238**\n",
    "\n",
    "### Interpretation:\n",
    "\n",
    "- **High JS Divergence**:\n",
    "  - These JS divergence values are quite high, close to or exceeding 0.5, which indicates significant differences in the label distributions between your datasets in the subset range from -2.5 to -0.5.\n",
    "  - **0.4991** for `y_train` vs. `y_test` and **0.5104** for `y_subtrain` vs. `y_test` suggest that the training and subtraining sets differ notably from the test set in this range.\n",
    "  - **0.5238** for `y_val` vs. `y_test` is the highest, indicating that the validation set is particularly different from the test set in this range.\n",
    "\n",
    "### Implications:\n",
    "\n",
    "- **Significant Distributional Shift**: The JS divergence values above 0.5 suggest that there is a substantial shift in label distributions between your datasets in the interval from -2.5 to -0.5. This is a strong indicator that the model trained on these data might not generalize well to the test set, especially in this specific range.\n",
    "- **Model Performance Concerns**:\n",
    "  - The model's performance in the range from -2.5 to -0.5 could be severely affected due to these high divergence values. Predictions in this region might be less accurate, as the training and validation sets do not represent the test set well in this interval.\n",
    "  - The highest divergence in the validation set (**0.5238**) suggests that validation performance may not be a reliable indicator of test performance in this range, potentially leading to over- or under-estimation of the model's capability."
   ]
  },
  {
   "cell_type": "markdown",
   "id": "b3a5f363b467c417",
   "metadata": {},
   "source": [
    "# Debugging of stratified batch sampling"
   ]
  },
  {
   "cell_type": "code",
   "execution_count": 10,
   "id": "a16dd636ba0b88b5",
   "metadata": {
    "ExecuteTime": {
     "end_time": "2024-09-06T18:25:39.902962Z",
     "start_time": "2024-09-06T18:25:39.891462Z"
    }
   },
   "outputs": [],
   "source": [
    "from modules.training.ts_modeling import stratified_groups, stratified_data_generator, stratified_batch_dataset"
   ]
  },
  {
   "cell_type": "code",
   "execution_count": 11,
   "id": "8a4b2337a57870f0",
   "metadata": {
    "ExecuteTime": {
     "end_time": "2024-09-06T18:25:40.592469Z",
     "start_time": "2024-09-06T18:25:40.403470Z"
    }
   },
   "outputs": [],
   "source": [
    "val_groups = stratified_groups(y_val, batch_size=4096)"
   ]
  },
  {
   "cell_type": "code",
   "execution_count": null,
   "id": "99e2312d576d5941",
   "metadata": {
    "ExecuteTime": {
     "end_time": "2024-09-06T18:25:41.746511Z",
     "start_time": "2024-09-06T18:25:41.732012Z"
    }
   },
   "outputs": [],
   "source": [
    "# print the size of the whole groups and each group\n",
    "print(f'Shape of the whole groups: {val_groups.shape}')\n",
    "print(f'Total number of groups: {len(val_groups)}')\n",
    "print(f'Sizes of each group: {[len(group) for group in val_groups]}')"
   ]
  },
  {
   "cell_type": "code",
   "execution_count": null,
   "id": "8ea3f2594b039f63",
   "metadata": {
    "ExecuteTime": {
     "end_time": "2024-09-06T18:25:43.238011Z",
     "start_time": "2024-09-06T18:25:42.449511Z"
    }
   },
   "outputs": [],
   "source": [
    "# print the first 5 elements of each group\n",
    "for i, group in enumerate(val_groups):\n",
    "    print(f'Group {i}: {group[:5]}')"
   ]
  },
  {
   "cell_type": "code",
   "execution_count": null,
   "id": "493c2eafb4a6536d",
   "metadata": {
    "ExecuteTime": {
     "end_time": "2024-09-06T18:25:44.862233Z",
     "start_time": "2024-09-06T18:25:44.321737Z"
    }
   },
   "outputs": [],
   "source": [
    "# print last 5 elements of each group\n",
    "for i, group in enumerate(val_groups):\n",
    "    print(f'Group {i}: {group[-5:]}')"
   ]
  },
  {
   "cell_type": "code",
   "execution_count": 15,
   "id": "e52599778321bae3",
   "metadata": {
    "ExecuteTime": {
     "end_time": "2024-09-06T18:25:46.722020Z",
     "start_time": "2024-09-06T18:25:46.708518Z"
    }
   },
   "outputs": [],
   "source": [
    "# get the first batch of the stratified data generator\n",
    "strat_gen = stratified_data_generator(X_val, y_val, groups=val_groups, debug=True)"
   ]
  },
  {
   "cell_type": "code",
   "execution_count": null,
   "id": "94f4b963d8ead506",
   "metadata": {
    "ExecuteTime": {
     "end_time": "2024-09-06T18:26:51.071801Z",
     "start_time": "2024-09-06T18:26:51.045304Z"
    }
   },
   "outputs": [],
   "source": [
    "X_batch, y_batch = next(strat_gen)"
   ]
  },
  {
   "cell_type": "code",
   "execution_count": null,
   "id": "164ad5382d1c8858",
   "metadata": {
    "ExecuteTime": {
     "end_time": "2024-09-06T18:26:17.656862Z",
     "start_time": "2024-09-06T18:26:17.643364Z"
    }
   },
   "outputs": [],
   "source": [
    "# print min and max y in batch\n",
    "import numpy as np\n",
    "print(f'Min y in batch: {np.min(y_batch)}')\n",
    "print(f'Max y in batch: {np.max(y_batch)}')"
   ]
  },
  {
   "cell_type": "markdown",
   "id": "b35521a265c5cc9c",
   "metadata": {},
   "source": [
    "## checking if the peak delta and peak intensity are correlated"
   ]
  },
  {
   "cell_type": "code",
   "execution_count": 1,
   "id": "bd3ef2049b51cca",
   "metadata": {
    "ExecuteTime": {
     "end_time": "2024-11-13T14:55:45.115333Z",
     "start_time": "2024-11-13T14:55:45.102362Z"
    }
   },
   "outputs": [],
   "source": [
    "root_dir = 'C:/Users/the_3/Documents/github/keras-functional-api/data/electron_cme_data_split_v7/full'"
   ]
  },
  {
   "cell_type": "code",
   "execution_count": 2,
   "id": "ce6fc4780b4252e9",
   "metadata": {
    "ExecuteTime": {
     "end_time": "2024-11-13T14:55:46.610614Z",
     "start_time": "2024-11-13T14:55:46.597135Z"
    }
   },
   "outputs": [],
   "source": [
    "import os\n",
    "import pandas as pd\n",
    "import numpy as np\n",
    "import matplotlib.pyplot as plt"
   ]
  },
  {
   "cell_type": "code",
   "execution_count": 3,
   "id": "fcc1bb320c0c26bb",
   "metadata": {
    "ExecuteTime": {
     "end_time": "2024-11-13T14:55:50.644891Z",
     "start_time": "2024-11-13T14:55:50.629893Z"
    }
   },
   "outputs": [],
   "source": [
    "def get_peak_values(directory_path: str) -> tuple[np.ndarray, np.ndarray, np.ndarray]:\n",
    "    \"\"\"\n",
    "    Extract peak values from proton intensity data files in a directory.\n",
    "    \n",
    "    This function processes CSV files containing proton intensity data and extracts:\n",
    "    - Peak log-transformed proton intensity values\n",
    "    - Peak delta log intensity values \n",
    "    - Event IDs\n",
    "    \n",
    "    Args:\n",
    "        directory_path (str): Path to directory containing proton intensity CSV files\n",
    "        \n",
    "    Returns:\n",
    "        tuple: Contains three numpy arrays (all sorted by event ID):\n",
    "            - peak_log_intensity_array: Array of peak log-transformed proton intensities\n",
    "            - peak_delta_array: Array of peak delta log intensities\n",
    "            - event_indices_array: Array of event IDs\n",
    "    \"\"\"\n",
    "    # Initialize lists to store peak values and event IDs\n",
    "    peak_log_intensity_list = []\n",
    "    peak_delta_list = []\n",
    "    event_indices = []\n",
    "\n",
    "    # Get list of files ending with '_ie_trim.csv'\n",
    "    # These files contain the proton intensity data for each event\n",
    "    file_names = [f for f in os.listdir(directory_path) if f.endswith('_ie_trim.csv')]\n",
    "\n",
    "    for file_name in file_names:\n",
    "        # Construct full file path and read CSV\n",
    "        file_path = os.path.join(directory_path, file_name)\n",
    "        data = pd.read_csv(file_path)\n",
    "\n",
    "        # Extract relevant columns from the data\n",
    "        proton_intensity = data['Proton Intensity']\n",
    "        delta_log_intensity = data['delta_log_Intensity']\n",
    "        \n",
    "        # Get event ID from first row (assumed constant throughout file)\n",
    "        event_id = data['Event ID'].iloc[0]\n",
    "\n",
    "        # Transform proton intensity using log1p (log(1+x))\n",
    "        # This helps handle small values and maintains non-negativity\n",
    "        log_proton_intensity = np.log1p(proton_intensity)\n",
    "\n",
    "        # Calculate peak values for this event\n",
    "        peak_log_intensity = log_proton_intensity.max()\n",
    "        peak_delta = delta_log_intensity.max()\n",
    "\n",
    "        # Store values for this event\n",
    "        peak_log_intensity_list.append(peak_log_intensity)\n",
    "        peak_delta_list.append(peak_delta)\n",
    "        event_indices.append(event_id)\n",
    "\n",
    "    # Convert lists to numpy arrays for efficient processing\n",
    "    peak_log_intensity_array = np.array(peak_log_intensity_list)\n",
    "    peak_delta_array = np.array(peak_delta_list)\n",
    "    event_indices_array = np.array(event_indices)\n",
    "\n",
    "    # Sort all arrays based on event IDs to ensure consistent ordering\n",
    "    sorted_indices = np.argsort(event_indices_array)\n",
    "    peak_log_intensity_array = peak_log_intensity_array[sorted_indices]\n",
    "    peak_delta_array = peak_delta_array[sorted_indices]\n",
    "    event_indices_array = event_indices_array[sorted_indices]\n",
    "\n",
    "    return peak_log_intensity_array, peak_delta_array, event_indices_array"
   ]
  },
  {
   "cell_type": "code",
   "execution_count": 4,
   "id": "676c5c5b16587858",
   "metadata": {
    "ExecuteTime": {
     "end_time": "2024-11-13T14:55:54.523156Z",
     "start_time": "2024-11-13T14:55:54.513051Z"
    }
   },
   "outputs": [],
   "source": [
    "def normalize_array(arr: np.ndarray) -> np.ndarray:\n",
    "    \"\"\"\n",
    "    Normalize an array to the range [0,1] using min-max normalization.\n",
    "    \n",
    "    Args:\n",
    "        arr (np.ndarray): Input array to normalize\n",
    "        \n",
    "    Returns:\n",
    "        np.ndarray: Normalized array with values scaled to [0,1]\n",
    "    \"\"\"\n",
    "    # Calculate min and max once to avoid repeated computation\n",
    "    arr_min = arr.min()\n",
    "    arr_max = arr.max()\n",
    "    \n",
    "    # Normalize using min-max scaling formula: (x - min)/(max - min)\n",
    "    return (arr - arr_min) / (arr_max - arr_min)"
   ]
  },
  {
   "cell_type": "code",
   "execution_count": 10,
   "id": "22c58e7a4b42e843",
   "metadata": {
    "ExecuteTime": {
     "end_time": "2024-11-13T14:55:56.294651Z",
     "start_time": "2024-11-13T14:55:56.283648Z"
    }
   },
   "outputs": [],
   "source": [
    "def plot_peak_values(peak_log_intensity: np.ndarray, \n",
    "                     peak_delta: np.ndarray, \n",
    "                     event_indices: np.ndarray,\n",
    "                     event_color: bool = False,\n",
    "                     norm_axis: bool = True) -> None:\n",
    "    \"\"\"\n",
    "    Create a scatter plot comparing peak log proton intensity vs peak delta values.\n",
    "    \n",
    "    Args:\n",
    "        peak_log_intensity (np.ndarray): Array of peak log proton intensity values\n",
    "        peak_delta (np.ndarray): Array of peak delta values \n",
    "        event_indices (np.ndarray): Array of event indices used for coloring the scatter points\n",
    "        event_color (bool): Whether to color points by event index (default False)\n",
    "        norm_axis (bool): Whether to normalize the axis values to [0,1] range (default True)\n",
    "        \n",
    "    Returns:\n",
    "        None: Displays the plot using plt.show()\n",
    "    \"\"\"\n",
    "    # Normalize arrays if requested\n",
    "    x_values = normalize_array(peak_log_intensity) if norm_axis else peak_log_intensity\n",
    "    y_values = normalize_array(peak_delta) if norm_axis else peak_delta\n",
    "\n",
    "    # Create figure with reasonable size for visualization\n",
    "    plt.figure(figsize=(8, 6))\n",
    "    \n",
    "    # Create scatter plot with optional event index coloring\n",
    "    if event_color:\n",
    "        scatter = plt.scatter(x_values, y_values, \n",
    "                            c=event_indices, cmap='viridis')\n",
    "        # Add colorbar to show event index scale\n",
    "        plt.colorbar(scatter, label='Event Index')\n",
    "    else:\n",
    "        plt.scatter(x_values, y_values)\n",
    "    \n",
    "    # Add diagonal reference line if normalized\n",
    "    if norm_axis:\n",
    "        plt.plot([0,1], [0,1], linestyle='--', color='gray')\n",
    "    \n",
    "    # Label axes and title\n",
    "    x_label = 'Normalized ' if norm_axis else ''\n",
    "    y_label = 'Normalized ' if norm_axis else ''\n",
    "    plt.xlabel(f'{x_label}Peak Log Proton Intensity')\n",
    "    plt.ylabel(f'{y_label}Peak Delta')\n",
    "    plt.title('Peak Log Proton Intensity vs Peak Delta')\n",
    "    \n",
    "    # Add grid for better readability\n",
    "    plt.grid(True)\n",
    "    \n",
    "    # Display the plot\n",
    "    plt.show()"
   ]
  },
  {
   "cell_type": "code",
   "execution_count": 11,
   "id": "ebc32406eb17e4eb",
   "metadata": {
    "ExecuteTime": {
     "end_time": "2024-11-13T14:56:19.561906Z",
     "start_time": "2024-11-13T14:56:17.981469Z"
    }
   },
   "outputs": [
    {
     "name": "stdout",
     "output_type": "stream",
     "text": [
      "\n",
      "Event Index | Peak Log Intensity | Peak Delta\n",
      "---------------------------------------------\n",
      "     1      |      0.8633       |   0.4981  \n",
      "     2      |      1.4888       |   0.8116  \n",
      "     3      |      0.6465       |   0.2038  \n",
      "     4      |      1.1481       |   0.3511  \n",
      "     5      |      3.0664       |   1.0373  \n",
      "     6      |      0.9555       |   0.4715  \n",
      "     7      |      0.9908       |   0.1118  \n",
      "     8      |      0.6270       |   0.4488  \n",
      "     9      |      1.9021       |   0.7260  \n",
      "    10      |      5.4397       |   1.3985  \n",
      "    11      |      4.0879       |   1.0971  \n",
      "    12      |      5.8718       |   1.7164  \n",
      "    13      |      3.7559       |   1.7283  \n",
      "    14      |      1.0618       |   0.3314  \n",
      "    15      |      0.6609       |   0.2836  \n",
      "    16      |      1.2592       |   0.7146  \n",
      "    17      |      0.7221       |   0.3928  \n",
      "    18      |      0.3363       |   0.0724  \n",
      "    19      |      2.3955       |   1.0449  \n",
      "    20      |      2.3292       |   1.4242  \n",
      "    21      |      1.7431       |   0.3543  \n",
      "    22      |      1.4421       |   0.6893  \n",
      "    23      |      0.6804       |   0.2164  \n",
      "    24      |      1.0209       |   0.3607  \n",
      "    25      |      1.8227       |   0.9166  \n",
      "    26      |      1.8280       |   0.4066  \n",
      "    27      |      4.4100       |   1.2491  \n",
      "    28      |      3.0350       |   1.1481  \n",
      "    29      |      0.8763       |   0.3865  \n",
      "    30      |      1.2131       |   0.3284  \n",
      "    31      |      4.5436       |   0.5265  \n",
      "    32      |      0.6686       |   0.6118  \n",
      "    33      |      2.2213       |   0.6870  \n",
      "    34      |      2.1395       |   0.5572  \n",
      "    35      |      3.2696       |   0.9356  \n",
      "    36      |      0.6832       |   0.4337  \n",
      "    37      |      0.5860       |   0.2056  \n",
      "    38      |      4.8735       |   1.2445  \n",
      "    39      |      0.9034       |   0.1361  \n",
      "    40      |      0.4057       |   0.1310  \n",
      "    41      |      1.4526       |   0.7448  \n",
      "    42      |      0.9064       |   0.2677  \n",
      "    43      |      4.1711       |   1.0562  \n",
      "    44      |      4.3794       |   2.3158  \n"
     ]
    },
    {
     "data": {
      "image/png": "[encoded data removed]",
      "text/plain": [
       "<Figure size 800x600 with 1 Axes>"
      ]
     },
     "metadata": {},
     "output_type": "display_data"
    },
    {
     "data": {
      "image/png": "[encoded data removed]",
      "text/plain": [
       "<Figure size 800x600 with 1 Axes>"
      ]
     },
     "metadata": {},
     "output_type": "display_data"
    }
   ],
   "source": [
    "# Usage example\n",
    "directory_path = root_dir\n",
    "peak_log_intensity_array, peak_delta_array, event_indices_array = get_peak_values(directory_path)\n",
    "print(\"\\nEvent Index | Peak Log Intensity | Peak Delta\")\n",
    "print(\"-\" * 45)\n",
    "for i, (intensity, delta, event) in enumerate(zip(peak_log_intensity_array, peak_delta_array, event_indices_array)):\n",
    "    print(f\"{event:^11d} | {intensity:^17.4f} | {delta:^10.4f}\")\n",
    "\n",
    "plot_peak_values(peak_log_intensity_array, peak_delta_array, event_indices_array)\n",
    "\n",
    "# Plot unnormalized version\n",
    "plot_peak_values(peak_log_intensity_array, peak_delta_array, event_indices_array, norm_axis=False)\n",
    "\n"
   ]
  }
 ],
 "metadata": {
  "kernelspec": {
   "display_name": "Python 3",
   "language": "python",
   "name": "python3"
  },
  "language_info": {
   "codemirror_mode": {
    "name": "ipython",
    "version": 3
   },
   "file_extension": ".py",
   "mimetype": "text/x-python",
   "name": "python",
   "nbconvert_exporter": "python",
   "pygments_lexer": "ipython3",
   "version": "3.10.14"
  }
 },
 "nbformat": 4,
 "nbformat_minor": 5
}
