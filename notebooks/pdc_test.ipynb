{
 "cells": [
  {
   "cell_type": "code",
   "id": "initial_id",
   "metadata": {
    "collapsed": true,
    "ExecuteTime": {
     "end_time": "2024-10-31T16:23:31.411369Z",
     "start_time": "2024-10-31T16:23:18.820468Z"
    }
   },
   "source": [
    "import tensorflow as tf\n",
    "\n",
    "from modules.training.cme_modeling import ModelBuilder as MB"
   ],
   "outputs": [
    {
     "name": "stderr",
     "output_type": "stream",
     "text": [
      "C:\\Users\\the_3\\anaconda3\\envs\\tf-gpu\\lib\\site-packages\\tensorflow_addons\\utils\\tfa_eol_msg.py:23: UserWarning: \n",
      "\n",
      "TensorFlow Addons (TFA) has ended development and introduction of new features.\n",
      "TFA has entered a minimal maintenance and release mode until a planned end of life in May 2024.\n",
      "Please modify downstream libraries to take dependencies from other repositories in our TensorFlow community (e.g. Keras, Keras-CV, and Keras-NLP). \n",
      "\n",
      "For more information see: https://github.com/tensorflow/addons/issues/2807 \n",
      "\n",
      "  warnings.warn(\n",
      "C:\\Users\\the_3\\anaconda3\\envs\\tf-gpu\\lib\\site-packages\\tensorflow_addons\\utils\\ensure_tf_install.py:53: UserWarning: Tensorflow Addons supports using Python ops for all Tensorflow versions above or equal to 2.12.0 and strictly below 2.15.0 (nightly versions are not supported). \n",
      " The versions of TensorFlow you are currently using is 2.10.1 and is not supported. \n",
      "Some things might work, some things might not.\n",
      "If you were to encounter a bug, do not file an issue.\n",
      "If you want to make sure you're using a tested and supported configuration, either change the TensorFlow version or the TensorFlow Addons's version. \n",
      "You can find the compatibility matrix in TensorFlow Addon's readme:\n",
      "https://github.com/tensorflow/addons\n",
      "  warnings.warn(\n"
     ]
    }
   ],
   "execution_count": 1
  },
  {
   "metadata": {
    "ExecuteTime": {
     "end_time": "2024-10-31T16:23:34.139543Z",
     "start_time": "2024-10-31T16:23:31.415368Z"
    }
   },
   "cell_type": "code",
   "source": [
    "from modules.training.phase_manager import TrainingPhaseManager\n",
    "\n",
    "# instantiate the model_builder\n",
    "mb = MB()\n",
    "pm = TrainingPhaseManager()  # Training phase manager"
   ],
   "id": "bd582cea5a7c43cc",
   "outputs": [],
   "execution_count": 2
  },
  {
   "metadata": {
    "ExecuteTime": {
     "end_time": "2024-10-31T16:23:34.186551Z",
     "start_time": "2024-10-31T16:23:34.143561Z"
    }
   },
   "cell_type": "code",
   "source": [
    "# y_true = tf.constant([[-1.0],\n",
    "#                       [ 3],\n",
    "#                       [ 1.0]])\n",
    "# \n",
    "# z_pred = tf.constant([[-1.0,  1.0],\n",
    "#                       [ 0.5,  0.0],\n",
    "#                       [ 1.0, -1.0],\n",
    "#                       ])\n",
    "\n",
    "y_true = tf.constant([[1.0],\n",
    "                      [2.0],\n",
    "                      [3.0]])\n",
    "\n",
    "z_pred = tf.constant([[1.0, 1.0],\n",
    "                      [2.0, 2.0],\n",
    "                      [3.0, 3.0],\n",
    "                      ])\n"
   ],
   "id": "22c390a1ffbded78",
   "outputs": [],
   "execution_count": 3
  },
  {
   "metadata": {
    "ExecuteTime": {
     "end_time": "2024-10-31T16:23:34.280431Z",
     "start_time": "2024-10-31T16:23:34.190553Z"
    }
   },
   "cell_type": "code",
   "source": [
    "loss = mb.pdc_loss_vec(y_true, z_pred, pm)\n",
    "print(f\"PDC Loss: {loss.numpy()}\")"
   ],
   "id": "14abe260d2793fa4",
   "outputs": [
    {
     "name": "stdout",
     "output_type": "stream",
     "text": [
      "Dy_mean: 2.0, Dz_mean: 4.0\n",
      "Dy_centered: [[-2. -1.  2.]\n",
      " [-1. -2. -1.]\n",
      " [ 2. -1. -2.]], Dz_centered: [[-4. -2.  4.]\n",
      " [-2. -4. -2.]\n",
      " [ 4. -2. -4.]]\n",
      "tf.Tensor(\n",
      "[[0. 1. 1.]\n",
      " [1. 0. 1.]\n",
      " [1. 1. 0.]], shape=(3, 3), dtype=float32)\n",
      "cov_Dy_Dz: 24.0, var_Dy: 12.0, var_Dz: 48.0\n",
      "pcc: 1.0\n",
      "PDC Loss: 0.0\n"
     ]
    }
   ],
   "execution_count": 4
  },
  {
   "metadata": {
    "ExecuteTime": {
     "end_time": "2024-10-31T16:23:34.357431Z",
     "start_time": "2024-10-31T16:23:34.283435Z"
    }
   },
   "cell_type": "code",
   "source": [
    "loss = mb.pdc_loss_vec_old(y_true, z_pred, pm)\n",
    "print(f\"PDC Loss: {loss.numpy()}\")"
   ],
   "id": "a988c9b84e502028",
   "outputs": [
    {
     "name": "stdout",
     "output_type": "stream",
     "text": [
      "mean_Dy: 2.0, mean_Dz: 4.0\n",
      "Dy_centered: [-1.  2. -1.], Dz_centered: [-2.  4. -2.]\n",
      "cov_Dy_Dz: 12.0, var_Dy: 6.0, var_Dz: 24.0\n",
      "pcc: 1.0\n",
      "PDC Loss: 0.0\n"
     ]
    }
   ],
   "execution_count": 5
  },
  {
   "metadata": {
    "ExecuteTime": {
     "end_time": "2024-10-31T16:23:34.389431Z",
     "start_time": "2024-10-31T16:23:34.362433Z"
    }
   },
   "cell_type": "code",
   "source": [
    "import numpy as np\n",
    "\n",
    "# Parameters\n",
    "num_points = 200  # 201 points for labels from -100 to 100 inclusive\n",
    "\n",
    "# Create evenly spaced labels from -100 to 100\n",
    "labels = np.linspace(-100, 100, num_points)\n",
    "# update the dimension of labels\n",
    "labels = np.expand_dims(labels, axis=1)\n",
    "\n",
    "# Generate points like (0, 0), (1, 1), ..., (200, 200)\n",
    "points = np.array([(i, i) for i in range(num_points)])\n",
    "\n",
    "# convert to tensor float32\n",
    "labels = tf.constant(labels, dtype=tf.float32)\n",
    "points = tf.constant(points, dtype=tf.float32)\n",
    "\n",
    "# Random sample weights between 0 and 1\n",
    "sample_weights = np.random.rand(num_points)"
   ],
   "id": "7d66b1aaaf769677",
   "outputs": [],
   "execution_count": 6
  },
  {
   "metadata": {
    "ExecuteTime": {
     "end_time": "2024-10-31T16:23:34.404431Z",
     "start_time": "2024-10-31T16:23:34.393430Z"
    }
   },
   "cell_type": "code",
   "source": [
    "# # print the labels and points \n",
    "# print(f\"Labels: {labels}\")\n",
    "# print(f\"Points: {points}\")"
   ],
   "id": "530bae6d06ea858d",
   "outputs": [],
   "execution_count": 7
  },
  {
   "metadata": {
    "ExecuteTime": {
     "end_time": "2024-10-31T16:23:34.436012Z",
     "start_time": "2024-10-31T16:23:34.407432Z"
    }
   },
   "cell_type": "code",
   "source": [
    "loss = mb.pdc_loss_vec(labels, points, pm)\n",
    "print(f\"PDC Loss: {loss.numpy()}\")"
   ],
   "id": "17b078d757b37f1c",
   "outputs": [
    {
     "name": "stdout",
     "output_type": "stream",
     "text": [
      "Dy_mean: 6767.50634765625, Dz_mean: 13400.0\n",
      "Dy_centered: [[-6767.5063 -6766.496  -6763.466  ... 32432.518  32831.49   33232.492 ]\n",
      " [-6766.496  -6767.5063 -6766.496  ... 32035.553  32432.514  32831.49  ]\n",
      " [-6763.466  -6766.496  -6767.5063 ... 31640.615  32035.553  32432.518 ]\n",
      " ...\n",
      " [32432.518  32035.553  31640.615  ... -6767.5063 -6766.496  -6763.466 ]\n",
      " [32831.49   32432.514  32035.553  ... -6766.496  -6767.5063 -6766.496 ]\n",
      " [33232.492  32831.49   32432.518  ... -6763.466  -6766.496  -6767.5063]], Dz_centered: [[-13400. -13398. -13392. ...  64218.  65008.  65802.]\n",
      " [-13398. -13400. -13398. ...  63432.  64218.  65008.]\n",
      " [-13392. -13398. -13400. ...  62650.  63432.  64218.]\n",
      " ...\n",
      " [ 64218.  63432.  62650. ... -13400. -13398. -13392.]\n",
      " [ 65008.  64218.  63432. ... -13398. -13400. -13398.]\n",
      " [ 65802.  65008.  64218. ... -13392. -13398. -13400.]]\n",
      "tf.Tensor(\n",
      "[[0. 1. 1. ... 1. 1. 1.]\n",
      " [1. 0. 1. ... 1. 1. 1.]\n",
      " [1. 1. 0. ... 1. 1. 1.]\n",
      " ...\n",
      " [1. 1. 1. ... 0. 1. 1.]\n",
      " [1. 1. 1. ... 1. 0. 1.]\n",
      " [1. 1. 1. ... 1. 1. 0.]], shape=(200, 200), dtype=float32)\n",
      "cov_Dy_Dz: 5009526226944.0, var_Dy: 2529999716352.0, var_Dz: 9919111626752.0\n",
      "pcc: 1.0000001192092896\n",
      "PDC Loss: -1.1920928955078125e-07\n"
     ]
    }
   ],
   "execution_count": 8
  },
  {
   "metadata": {
    "ExecuteTime": {
     "end_time": "2024-10-31T16:23:34.481998Z",
     "start_time": "2024-10-31T16:23:34.438995Z"
    }
   },
   "cell_type": "code",
   "source": [
    "loss = mb.pdc_loss_vec_old(labels, points, pm)\n",
    "print(f\"PDC Loss: {loss.numpy()}\")"
   ],
   "id": "ccc5b4a948677975",
   "outputs": [
    {
     "name": "stdout",
     "output_type": "stream",
     "text": [
      "mean_Dy: 6767.50634765625, mean_Dz: 13400.0\n",
      "Dy_centered: [-6766.496  -6763.466  -6758.4155 ... -6766.496  -6763.466  -6766.496 ], Dz_centered: [-13398. -13392. -13382. ... -13398. -13392. -13398.]\n",
      "cov_Dy_Dz: 2504762851328.0, var_Dy: 1264999989248.0, var_Dz: 4959555813376.0\n",
      "pcc: 0.9999998807907104\n",
      "PDC Loss: 1.1920928955078125e-07\n"
     ]
    }
   ],
   "execution_count": 9
  },
  {
   "metadata": {},
   "cell_type": "code",
   "outputs": [],
   "execution_count": null,
   "source": "",
   "id": "fc1dafe4b37803c4"
  }
 ],
 "metadata": {
  "kernelspec": {
   "display_name": "Python 3",
   "language": "python",
   "name": "python3"
  },
  "language_info": {
   "codemirror_mode": {
    "name": "ipython",
    "version": 2
   },
   "file_extension": ".py",
   "mimetype": "text/x-python",
   "name": "python",
   "nbconvert_exporter": "python",
   "pygments_lexer": "ipython2",
   "version": "2.7.6"
  }
 },
 "nbformat": 4,
 "nbformat_minor": 5
}
