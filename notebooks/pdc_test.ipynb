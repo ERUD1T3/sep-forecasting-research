{
 "cells": [
  {
   "cell_type": "code",
   "id": "initial_id",
   "metadata": {
    "collapsed": true,
    "ExecuteTime": {
     "end_time": "2024-10-28T21:34:39.516490Z",
     "start_time": "2024-10-28T21:34:25.850835Z"
    }
   },
   "source": [
    "import tensorflow as tf \n",
    "import numpy as np\n",
    "from modules.training.cme_modeling import ModelBuilder as MB"
   ],
   "outputs": [
    {
     "name": "stderr",
     "output_type": "stream",
     "text": [
      "C:\\Users\\the_3\\anaconda3\\envs\\tf-gpu\\lib\\site-packages\\tensorflow_addons\\utils\\tfa_eol_msg.py:23: UserWarning: \n",
      "\n",
      "TensorFlow Addons (TFA) has ended development and introduction of new features.\n",
      "TFA has entered a minimal maintenance and release mode until a planned end of life in May 2024.\n",
      "Please modify downstream libraries to take dependencies from other repositories in our TensorFlow community (e.g. Keras, Keras-CV, and Keras-NLP). \n",
      "\n",
      "For more information see: https://github.com/tensorflow/addons/issues/2807 \n",
      "\n",
      "  warnings.warn(\n",
      "C:\\Users\\the_3\\anaconda3\\envs\\tf-gpu\\lib\\site-packages\\tensorflow_addons\\utils\\ensure_tf_install.py:53: UserWarning: Tensorflow Addons supports using Python ops for all Tensorflow versions above or equal to 2.12.0 and strictly below 2.15.0 (nightly versions are not supported). \n",
      " The versions of TensorFlow you are currently using is 2.10.1 and is not supported. \n",
      "Some things might work, some things might not.\n",
      "If you were to encounter a bug, do not file an issue.\n",
      "If you want to make sure you're using a tested and supported configuration, either change the TensorFlow version or the TensorFlow Addons's version. \n",
      "You can find the compatibility matrix in TensorFlow Addon's readme:\n",
      "https://github.com/tensorflow/addons\n",
      "  warnings.warn(\n"
     ]
    }
   ],
   "execution_count": 1
  },
  {
   "metadata": {
    "ExecuteTime": {
     "end_time": "2024-10-28T21:59:21.916604Z",
     "start_time": "2024-10-28T21:59:21.895082Z"
    }
   },
   "cell_type": "code",
   "source": [
    "from modules.training.phase_manager import TrainingPhaseManager\n",
    "\n",
    "# instantiate the model_builder\n",
    "mb = MB()\n",
    "pm = TrainingPhaseManager()  # Training phase manager"
   ],
   "id": "bd582cea5a7c43cc",
   "outputs": [],
   "execution_count": 3
  },
  {
   "metadata": {
    "ExecuteTime": {
     "end_time": "2024-10-28T22:06:13.124932Z",
     "start_time": "2024-10-28T22:06:12.449912Z"
    }
   },
   "cell_type": "code",
   "source": [
    "y_true = tf.constant([[-1.0],\n",
    "                      [ 1.0],\n",
    "                      [ 0.0]])\n",
    "\n",
    "z_pred = tf.constant([[-1.0,  1.0],\n",
    "                      [ 1.0, -1.0],\n",
    "                      [ 0.5,  0.0],\n",
    "                      ])\n"
   ],
   "id": "22c390a1ffbded78",
   "outputs": [],
   "execution_count": 8
  },
  {
   "metadata": {
    "ExecuteTime": {
     "end_time": "2024-10-28T22:06:14.197266Z",
     "start_time": "2024-10-28T22:06:14.082784Z"
    }
   },
   "cell_type": "code",
   "source": [
    "loss = mb.pdc_loss_vec(y_true, z_pred, pm)\n",
    "print(f\"PDC Loss: {loss.numpy()}\")"
   ],
   "id": "14abe260d2793fa4",
   "outputs": [
    {
     "name": "stdout",
     "output_type": "stream",
     "text": [
      "PDC Loss: 0.04249751567840576\n"
     ]
    }
   ],
   "execution_count": 9
  }
 ],
 "metadata": {
  "kernelspec": {
   "display_name": "Python 3",
   "language": "python",
   "name": "python3"
  },
  "language_info": {
   "codemirror_mode": {
    "name": "ipython",
    "version": 2
   },
   "file_extension": ".py",
   "mimetype": "text/x-python",
   "name": "python",
   "nbconvert_exporter": "python",
   "pygments_lexer": "ipython2",
   "version": "2.7.6"
  }
 },
 "nbformat": 4,
 "nbformat_minor": 5
}
