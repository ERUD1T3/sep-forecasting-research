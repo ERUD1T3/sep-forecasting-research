{
 "cells": [
  {
   "cell_type": "code",
   "id": "initial_id",
   "metadata": {
    "collapsed": true,
    "ExecuteTime": {
     "end_time": "2024-10-31T02:17:43.178704Z",
     "start_time": "2024-10-31T02:17:35.039892Z"
    }
   },
   "source": [
    "import tensorflow as tf \n",
    "import numpy as np\n",
    "from modules.training.cme_modeling import ModelBuilder as MB"
   ],
   "outputs": [
    {
     "name": "stderr",
     "output_type": "stream",
     "text": [
      "C:\\Users\\the_3\\anaconda3\\envs\\tf-gpu\\lib\\site-packages\\tensorflow_addons\\utils\\tfa_eol_msg.py:23: UserWarning: \n",
      "\n",
      "TensorFlow Addons (TFA) has ended development and introduction of new features.\n",
      "TFA has entered a minimal maintenance and release mode until a planned end of life in May 2024.\n",
      "Please modify downstream libraries to take dependencies from other repositories in our TensorFlow community (e.g. Keras, Keras-CV, and Keras-NLP). \n",
      "\n",
      "For more information see: https://github.com/tensorflow/addons/issues/2807 \n",
      "\n",
      "  warnings.warn(\n",
      "C:\\Users\\the_3\\anaconda3\\envs\\tf-gpu\\lib\\site-packages\\tensorflow_addons\\utils\\ensure_tf_install.py:53: UserWarning: Tensorflow Addons supports using Python ops for all Tensorflow versions above or equal to 2.12.0 and strictly below 2.15.0 (nightly versions are not supported). \n",
      " The versions of TensorFlow you are currently using is 2.10.1 and is not supported. \n",
      "Some things might work, some things might not.\n",
      "If you were to encounter a bug, do not file an issue.\n",
      "If you want to make sure you're using a tested and supported configuration, either change the TensorFlow version or the TensorFlow Addons's version. \n",
      "You can find the compatibility matrix in TensorFlow Addon's readme:\n",
      "https://github.com/tensorflow/addons\n",
      "  warnings.warn(\n"
     ]
    }
   ],
   "execution_count": 1
  },
  {
   "metadata": {
    "ExecuteTime": {
     "end_time": "2024-10-31T02:17:45.435695Z",
     "start_time": "2024-10-31T02:17:43.182706Z"
    }
   },
   "cell_type": "code",
   "source": [
    "from modules.training.phase_manager import TrainingPhaseManager\n",
    "\n",
    "# instantiate the model_builder\n",
    "mb = MB()\n",
    "pm = TrainingPhaseManager()  # Training phase manager"
   ],
   "id": "bd582cea5a7c43cc",
   "outputs": [],
   "execution_count": 2
  },
  {
   "metadata": {
    "ExecuteTime": {
     "end_time": "2024-10-31T02:18:35.170882Z",
     "start_time": "2024-10-31T02:18:35.154531Z"
    }
   },
   "cell_type": "code",
   "source": [
    "# y_true = tf.constant([[-1.0],\n",
    "#                       [ 3],\n",
    "#                       [ 1.0]])\n",
    "# \n",
    "# z_pred = tf.constant([[-1.0,  1.0],\n",
    "#                       [ 0.5,  0.0],\n",
    "#                       [ 1.0, -1.0],\n",
    "#                       ])\n",
    "\n",
    "y_true = tf.constant([[1.0],\n",
    "                      [2.0],\n",
    "                      [3.0]])\n",
    "\n",
    "z_pred = tf.constant([[1.0, 1.0],\n",
    "                      [ 2.0, 2.0],\n",
    "                      [3.0, 3.0],\n",
    "                      ])\n"
   ],
   "id": "22c390a1ffbded78",
   "outputs": [],
   "execution_count": 5
  },
  {
   "metadata": {
    "ExecuteTime": {
     "end_time": "2024-10-31T02:18:37.516031Z",
     "start_time": "2024-10-31T02:18:37.462018Z"
    }
   },
   "cell_type": "code",
   "source": [
    "loss = mb.pdc_loss_vec(y_true, z_pred, pm)\n",
    "print(f\"PDC Loss: {loss.numpy()}\")"
   ],
   "id": "14abe260d2793fa4",
   "outputs": [
    {
     "name": "stdout",
     "output_type": "stream",
     "text": [
      "PDC Loss: 0.0\n"
     ]
    }
   ],
   "execution_count": 6
  },
  {
   "metadata": {
    "ExecuteTime": {
     "end_time": "2024-10-31T02:06:38.192135Z",
     "start_time": "2024-10-31T02:06:38.154131Z"
    }
   },
   "cell_type": "code",
   "source": [
    "loss = mb.pdc_loss_vec_mem(y_true, z_pred, pm)\n",
    "print(f\"PDC Loss: {loss.numpy()}\")"
   ],
   "id": "a988c9b84e502028",
   "outputs": [
    {
     "name": "stdout",
     "output_type": "stream",
     "text": [
      "PDC Loss: 1.2289680242538452\n"
     ]
    }
   ],
   "execution_count": 5
  },
  {
   "metadata": {},
   "cell_type": "code",
   "outputs": [],
   "execution_count": null,
   "source": "",
   "id": "7d66b1aaaf769677"
  }
 ],
 "metadata": {
  "kernelspec": {
   "display_name": "Python 3",
   "language": "python",
   "name": "python3"
  },
  "language_info": {
   "codemirror_mode": {
    "name": "ipython",
    "version": 2
   },
   "file_extension": ".py",
   "mimetype": "text/x-python",
   "name": "python",
   "nbconvert_exporter": "python",
   "pygments_lexer": "ipython2",
   "version": "2.7.6"
  }
 },
 "nbformat": 4,
 "nbformat_minor": 5
}
