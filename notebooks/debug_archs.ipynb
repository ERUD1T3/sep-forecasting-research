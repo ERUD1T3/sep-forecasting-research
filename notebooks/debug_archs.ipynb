{
 "cells": [
  {
   "metadata": {
    "ExecuteTime": {
     "end_time": "2024-10-23T18:07:34.761674Z",
     "start_time": "2024-10-23T18:07:26.742168Z"
    }
   },
   "cell_type": "code",
   "source": [
    "from modules.training.ts_modeling import create_mlp2\n",
    "from modules.training.visualization import visualize_model"
   ],
   "id": "f94f8de04c860a5f",
   "outputs": [],
   "execution_count": 1
  },
  {
   "cell_type": "code",
   "id": "initial_id",
   "metadata": {
    "collapsed": true,
    "ExecuteTime": {
     "end_time": "2024-10-23T18:08:05.063799Z",
     "start_time": "2024-10-23T18:08:04.016798Z"
    }
   },
   "source": [
    "final_model_sep = create_mlp2(\n",
    "    input_dim=2,\n",
    "    hiddens=[4, 4, 4],\n",
    "    repr_dim=2,\n",
    "    output_dim=1,\n",
    "    skip_repr=True,\n",
    "    dropout=0.1,\n",
    "    activation=None,\n",
    "    norm='batch_norm',\n",
    "    skipped_layers=1,\n",
    "    sam_rho=0.05\n",
    ")\n",
    "final_model_sep.summary()"
   ],
   "outputs": [
    {
     "name": "stdout",
     "output_type": "stream",
     "text": [
      "Model: \"mlp\"\n",
      "__________________________________________________________________________________________________\n",
      " Layer (type)                   Output Shape         Param #     Connected to                     \n",
      "==================================================================================================\n",
      " input_2 (InputLayer)           [(None, 2)]          0           []                               \n",
      "                                                                                                  \n",
      " dense_5 (Dense)                (None, 4)            12          ['input_2[0][0]']                \n",
      "                                                                                                  \n",
      " batch_normalization_4 (BatchNo  (None, 4)           16          ['dense_5[0][0]']                \n",
      " rmalization)                                                                                     \n",
      "                                                                                                  \n",
      " leaky_re_lu_3 (LeakyReLU)      (None, 4)            0           ['batch_normalization_4[0][0]']  \n",
      "                                                                                                  \n",
      " dense_6 (Dense)                (None, 4)            8           ['input_2[0][0]']                \n",
      "                                                                                                  \n",
      " add_3 (Add)                    (None, 4)            0           ['leaky_re_lu_3[0][0]',          \n",
      "                                                                  'dense_6[0][0]']                \n",
      "                                                                                                  \n",
      " dropout_4 (Dropout)            (None, 4)            0           ['add_3[0][0]']                  \n",
      "                                                                                                  \n",
      " dense_7 (Dense)                (None, 4)            20          ['dropout_4[0][0]']              \n",
      "                                                                                                  \n",
      " batch_normalization_5 (BatchNo  (None, 4)           16          ['dense_7[0][0]']                \n",
      " rmalization)                                                                                     \n",
      "                                                                                                  \n",
      " leaky_re_lu_4 (LeakyReLU)      (None, 4)            0           ['batch_normalization_5[0][0]']  \n",
      "                                                                                                  \n",
      " add_4 (Add)                    (None, 4)            0           ['leaky_re_lu_4[0][0]',          \n",
      "                                                                  'dropout_4[0][0]']              \n",
      "                                                                                                  \n",
      " dropout_5 (Dropout)            (None, 4)            0           ['add_4[0][0]']                  \n",
      "                                                                                                  \n",
      " dense_8 (Dense)                (None, 4)            20          ['dropout_5[0][0]']              \n",
      "                                                                                                  \n",
      " batch_normalization_6 (BatchNo  (None, 4)           16          ['dense_8[0][0]']                \n",
      " rmalization)                                                                                     \n",
      "                                                                                                  \n",
      " leaky_re_lu_5 (LeakyReLU)      (None, 4)            0           ['batch_normalization_6[0][0]']  \n",
      "                                                                                                  \n",
      " add_5 (Add)                    (None, 4)            0           ['leaky_re_lu_5[0][0]',          \n",
      "                                                                  'dropout_5[0][0]']              \n",
      "                                                                                                  \n",
      " dropout_6 (Dropout)            (None, 4)            0           ['add_5[0][0]']                  \n",
      "                                                                                                  \n",
      " dense_9 (Dense)                (None, 2)            10          ['dropout_6[0][0]']              \n",
      "                                                                                                  \n",
      " batch_normalization_7 (BatchNo  (None, 2)           8           ['dense_9[0][0]']                \n",
      " rmalization)                                                                                     \n",
      "                                                                                                  \n",
      " leaky_re_lu_6 (LeakyReLU)      (None, 2)            0           ['batch_normalization_7[0][0]']  \n",
      "                                                                                                  \n",
      " dense_10 (Dense)               (None, 2)            8           ['dropout_6[0][0]']              \n",
      "                                                                                                  \n",
      " repr_layer (Add)               (None, 2)            0           ['leaky_re_lu_6[0][0]',          \n",
      "                                                                  'dense_10[0][0]']               \n",
      "                                                                                                  \n",
      " dropout_7 (Dropout)            (None, 2)            0           ['repr_layer[0][0]']             \n",
      "                                                                                                  \n",
      " forecast_head (Dense)          (None, 1)            3           ['dropout_7[0][0]']              \n",
      "                                                                                                  \n",
      "==================================================================================================\n",
      "Total params: 137\n",
      "Trainable params: 109\n",
      "Non-trainable params: 28\n",
      "__________________________________________________________________________________________________\n"
     ]
    }
   ],
   "execution_count": 3
  },
  {
   "metadata": {
    "ExecuteTime": {
     "end_time": "2024-10-23T17:17:09.730480Z",
     "start_time": "2024-10-23T17:17:09.039002Z"
    }
   },
   "cell_type": "code",
   "source": "visualize_model(final_model_sep)",
   "id": "267af6d0b5b7b4e1",
   "outputs": [
    {
     "name": "stdout",
     "output_type": "stream",
     "text": [
      "You must install pydot (`pip install pydot`) and install graphviz (see instructions at https://graphviz.gitlab.io/download/) for plot_model to work.\n",
      "\n",
      "Visualizations saved in model_visualizations:\n",
      "1. model_architecture.png - Basic Keras visualization\n",
      "2. model_summary.txt - Detailed model summary\n",
      "3. model_detailed.png - Detailed Graphviz visualization\n",
      "\n",
      "Visualization features:\n",
      "- Node colors indicate layer types\n",
      "- Dashed blue lines show residual connections\n",
      "- Node shapes vary by layer type\n",
      "- Labels include shape and parameter information\n"
     ]
    }
   ],
   "execution_count": 6
  },
  {
   "metadata": {},
   "cell_type": "code",
   "outputs": [],
   "execution_count": null,
   "source": "",
   "id": "fa80426bc70b1add"
  }
 ],
 "metadata": {
  "kernelspec": {
   "display_name": "Python 3",
   "language": "python",
   "name": "python3"
  },
  "language_info": {
   "codemirror_mode": {
    "name": "ipython",
    "version": 2
   },
   "file_extension": ".py",
   "mimetype": "text/x-python",
   "name": "python",
   "nbconvert_exporter": "python",
   "pygments_lexer": "ipython2",
   "version": "2.7.6"
  }
 },
 "nbformat": 4,
 "nbformat_minor": 5
}
