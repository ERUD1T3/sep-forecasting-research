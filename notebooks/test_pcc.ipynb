{
 "cells": [
  {
   "cell_type": "code",
   "execution_count": 1,
   "id": "initial_id",
   "metadata": {
    "ExecuteTime": {
     "end_time": "2024-08-29T18:52:35.081612Z",
     "start_time": "2024-08-29T18:52:30.614999Z"
    },
    "collapsed": true,
    "jupyter": {
     "outputs_hidden": true
    }
   },
   "outputs": [
    {
     "name": "stderr",
     "output_type": "stream",
     "text": [
      "C:\\Users\\the_3\\anaconda3\\envs\\tf-gpu\\lib\\site-packages\\tensorflow_addons\\utils\\tfa_eol_msg.py:23: UserWarning: \n",
      "\n",
      "TensorFlow Addons (TFA) has ended development and introduction of new features.\n",
      "TFA has entered a minimal maintenance and release mode until a planned end of life in May 2024.\n",
      "Please modify downstream libraries to take dependencies from other repositories in our TensorFlow community (e.g. Keras, Keras-CV, and Keras-NLP). \n",
      "\n",
      "For more information see: https://github.com/tensorflow/addons/issues/2807 \n",
      "\n",
      "  warnings.warn(\n",
      "C:\\Users\\the_3\\anaconda3\\envs\\tf-gpu\\lib\\site-packages\\tensorflow_addons\\utils\\ensure_tf_install.py:53: UserWarning: Tensorflow Addons supports using Python ops for all Tensorflow versions above or equal to 2.12.0 and strictly below 2.15.0 (nightly versions are not supported). \n",
      " The versions of TensorFlow you are currently using is 2.10.1 and is not supported. \n",
      "Some things might work, some things might not.\n",
      "If you were to encounter a bug, do not file an issue.\n",
      "If you want to make sure you're using a tested and supported configuration, either change the TensorFlow version or the TensorFlow Addons's version. \n",
      "You can find the compatibility matrix in TensorFlow Addon's readme:\n",
      "https://github.com/tensorflow/addons\n",
      "  warnings.warn(\n"
     ]
    }
   ],
   "source": [
    "# from modules.training.ts_modeling import pcc_loss\n",
    "import numpy as np\n",
    "import tensorflow as tf"
   ]
  },
  {
   "cell_type": "code",
   "execution_count": 3,
   "id": "e28bbffd12ae396b",
   "metadata": {
    "ExecuteTime": {
     "end_time": "2024-08-29T18:53:08.871803Z",
     "start_time": "2024-08-29T18:53:08.823204Z"
    }
   },
   "outputs": [
    {
     "name": "stdout",
     "output_type": "stream",
     "text": [
      "Is training: 0\n",
      "Y_true: [1. 2. 3.]\n",
      "Y_pred: [1.1 1.9 3. ]\n",
      "Weights: [1. 1. 1.]\n",
      "Computed Loss: 0.004129350185394287\n"
     ]
    }
   ],
   "source": [
    "# Sample input data\n",
    "y_true = tf.constant([1.0, 2.0, 3.0], dtype=tf.float32)\n",
    "y_pred = tf.constant([1.1, 1.9, 3.0], dtype=tf.float32)\n",
    "\n",
    "# Sample weights dictionary\n",
    "train_weight_dict = {1.0: 0.5, 2.0: 1.0, 3.0: 1.5}\n",
    "\n",
    "loss = pcc_loss(y_true, y_pred, train_weight_dict=train_weight_dict)\n",
    "print(f\"Computed Loss: {loss.numpy()}\")"
   ]
  },
  {
   "cell_type": "code",
   "execution_count": 4,
   "id": "7c16234d649e41ac",
   "metadata": {
    "ExecuteTime": {
     "end_time": "2024-08-29T18:53:16.452649Z",
     "start_time": "2024-08-29T18:53:16.427548Z"
    }
   },
   "outputs": [
    {
     "name": "stdout",
     "output_type": "stream",
     "text": [
      "Is training: 0\n",
      "Y_true: [1. 2. 3.]\n",
      "Y_pred: [1.1 1.9 3. ]\n",
      "Weights: [0.5 1.  1.5]\n",
      "Computed Loss: 0.0035965442657470703\n"
     ]
    }
   ],
   "source": [
    "# Sample input data\n",
    "y_true = tf.constant([1.0, 2.0, 3.0], dtype=tf.float32)\n",
    "y_pred = tf.constant([1.1, 1.9, 3.0], dtype=tf.float32)\n",
    "\n",
    "# Sample weights dictionary\n",
    "train_weight_dict = {1.0: 0.5, 2.0: 1.0, 3.0: 1.5}\n",
    "\n",
    "loss = pcc_loss(y_true, y_pred, val_weight_dict=train_weight_dict)\n",
    "print(f\"Computed Loss: {loss.numpy()}\")"
   ]
  },
  {
   "cell_type": "code",
   "execution_count": 3,
   "id": "30d76b5c0f0fa8e7",
   "metadata": {
    "ExecuteTime": {
     "end_time": "2024-08-29T18:11:27.595028Z",
     "start_time": "2024-08-29T18:11:27.566031Z"
    }
   },
   "outputs": [
    {
     "name": "stdout",
     "output_type": "stream",
     "text": [
      "Is training: 0\n",
      "Computed Loss: 1.995870590209961\n"
     ]
    }
   ],
   "source": [
    "# Sample input data\n",
    "y_true = tf.constant([1.0, 2.0, 3.0], dtype=tf.float32)\n",
    "y_pred = tf.constant([3, 1.9, 1.1], dtype=tf.float32)\n",
    "\n",
    "# Sample weights dictionary\n",
    "train_weight_dict = {1.0: 0.5, 2.0: 1.0, 3.0: 1.5}\n",
    "\n",
    "loss = pcc_loss(y_true, y_pred, train_weight_dict=train_weight_dict)\n",
    "print(f\"Computed Loss: {loss.numpy()}\")"
   ]
  },
  {
   "cell_type": "code",
   "execution_count": 4,
   "id": "2473e51da81f12a5",
   "metadata": {
    "ExecuteTime": {
     "end_time": "2024-08-29T18:11:30.785503Z",
     "start_time": "2024-08-29T18:11:30.754493Z"
    }
   },
   "outputs": [
    {
     "name": "stdout",
     "output_type": "stream",
     "text": [
      "Is training: 0\n",
      "Computed Loss: 0.004129350185394287\n"
     ]
    }
   ],
   "source": [
    "# Sample input data\n",
    "y_true = tf.constant([1.0, 2.0, 3.0], dtype=tf.float32)\n",
    "y_pred = tf.constant([1.1, 1.9, 3.0], dtype=tf.float32)\n",
    "\n",
    "# Sample weights dictionary\n",
    "train_weight_dict = {1.0: 1, 2.0: 1, 3.0: 1}\n",
    "\n",
    "loss = pcc_loss(y_true, y_pred, train_weight_dict=train_weight_dict)\n",
    "print(f\"Computed Loss: {loss.numpy()}\")"
   ]
  },
  {
   "cell_type": "code",
   "execution_count": 6,
   "id": "dfce17f650f2892e",
   "metadata": {
    "ExecuteTime": {
     "end_time": "2024-08-29T18:54:21.627049Z",
     "start_time": "2024-08-29T18:54:21.605058Z"
    }
   },
   "outputs": [
    {
     "name": "stdout",
     "output_type": "stream",
     "text": [
      "Is training: 0\n",
      "Y_true: [1. 2. 3.]\n",
      "Y_pred: [1.1 1.9 3. ]\n",
      "Weights: [1. 1. 1.]\n",
      "Computed Loss: 0.004129350185394287\n"
     ]
    }
   ],
   "source": [
    "# Sample input data\n",
    "y_true = tf.constant([1.0, 2.0, 3.0], dtype=tf.float32)\n",
    "y_pred = tf.constant([1.1, 1.9, 3.0], dtype=tf.float32)\n",
    "\n",
    "# Sample weights dictionary\n",
    "train_weight_dict = {1.0: 1, 2.0: 1, 3.0: 1}\n",
    "\n",
    "loss = pcc_loss(y_true, y_pred, val_weight_dict=train_weight_dict)\n",
    "print(f\"Computed Loss: {loss.numpy()}\")"
   ]
  },
  {
   "cell_type": "code",
   "execution_count": 5,
   "id": "36dc9e6bf541261f",
   "metadata": {
    "ExecuteTime": {
     "end_time": "2024-08-29T18:54:16.576372Z",
     "start_time": "2024-08-29T18:54:16.551999Z"
    }
   },
   "outputs": [
    {
     "name": "stdout",
     "output_type": "stream",
     "text": [
      "Is training: 0\n",
      "Y_true: [1. 2. 3.]\n",
      "Y_pred: [1.1 1.9 3. ]\n",
      "Weights: [  10.  100. 1000.]\n",
      "Computed Loss: 0.0005446672439575195\n"
     ]
    }
   ],
   "source": [
    "# Sample input data\n",
    "y_true = tf.constant([1.0, 2.0, 3.0], dtype=tf.float32)\n",
    "y_pred = tf.constant([1.1, 1.9, 3.0], dtype=tf.float32)\n",
    "\n",
    "# Sample weights dictionary\n",
    "train_weight_dict = {1.0: 10, 2.0: 100, 3.0: 1000}\n",
    "\n",
    "loss = pcc_loss(y_true, y_pred, train_weight_dict=train_weight_dict, val_weight_dict=train_weight_dict)\n",
    "print(f\"Computed Loss: {loss.numpy()}\")"
   ]
  },
  {
   "cell_type": "code",
   "execution_count": 1,
   "id": "f707a6aee0081dc4",
   "metadata": {
    "ExecuteTime": {
     "end_time": "2024-09-01T20:44:38.026466Z",
     "start_time": "2024-09-01T20:44:34.347980Z"
    }
   },
   "outputs": [
    {
     "name": "stderr",
     "output_type": "stream",
     "text": [
      "C:\\Users\\the_3\\anaconda3\\envs\\tf-gpu\\lib\\site-packages\\tensorflow_addons\\utils\\tfa_eol_msg.py:23: UserWarning: \n",
      "\n",
      "TensorFlow Addons (TFA) has ended development and introduction of new features.\n",
      "TFA has entered a minimal maintenance and release mode until a planned end of life in May 2024.\n",
      "Please modify downstream libraries to take dependencies from other repositories in our TensorFlow community (e.g. Keras, Keras-CV, and Keras-NLP). \n",
      "\n",
      "For more information see: https://github.com/tensorflow/addons/issues/2807 \n",
      "\n",
      "  warnings.warn(\n",
      "C:\\Users\\the_3\\anaconda3\\envs\\tf-gpu\\lib\\site-packages\\tensorflow_addons\\utils\\ensure_tf_install.py:53: UserWarning: Tensorflow Addons supports using Python ops for all Tensorflow versions above or equal to 2.12.0 and strictly below 2.15.0 (nightly versions are not supported). \n",
      " The versions of TensorFlow you are currently using is 2.10.1 and is not supported. \n",
      "Some things might work, some things might not.\n",
      "If you were to encounter a bug, do not file an issue.\n",
      "If you want to make sure you're using a tested and supported configuration, either change the TensorFlow version or the TensorFlow Addons's version. \n",
      "You can find the compatibility matrix in TensorFlow Addon's readme:\n",
      "https://github.com/tensorflow/addons\n",
      "  warnings.warn(\n"
     ]
    }
   ],
   "source": [
    "import tensorflow as tf\n",
    "import numpy as np\n",
    "from tensorflow.keras.models import Sequential\n",
    "from tensorflow.keras.layers import Dense\n",
    "from tensorflow.keras import backend as K\n",
    "from modules.training.ts_modeling import pcc_loss\n",
    "from modules.training.phase_manager import TrainingPhaseManager, IsTraining"
   ]
  },
  {
   "cell_type": "code",
   "execution_count": 2,
   "id": "65cf17fbed64e743",
   "metadata": {
    "ExecuteTime": {
     "end_time": "2024-09-01T20:44:39.049858Z",
     "start_time": "2024-09-01T20:44:39.012367Z"
    }
   },
   "outputs": [],
   "source": [
    "\n",
    "# Initialize the phase manager\n",
    "phase_manager = TrainingPhaseManager()\n"
   ]
  },
  {
   "cell_type": "code",
   "execution_count": 3,
   "id": "f24f516d440e1303",
   "metadata": {
    "ExecuteTime": {
     "end_time": "2024-09-01T20:44:42.318249Z",
     "start_time": "2024-09-01T20:44:41.111763Z"
    }
   },
   "outputs": [
    {
     "name": "stdout",
     "output_type": "stream",
     "text": [
      "tf.Tensor(\n",
      "[[0.]\n",
      " [0.]], shape=(2, 1), dtype=float32)\n",
      "tf.Tensor(\n",
      "[[0.]\n",
      " [1.]], shape=(2, 1), dtype=float32)\n"
     ]
    }
   ],
   "source": [
    "\n",
    "# Generate synthetic data\n",
    "np.random.seed(42)\n",
    "X_train = np.random.rand(2, 10)\n",
    "y_train = np.random.randint(0, 2, size=(2, 1))  # Use 0 and 1 to match the keys in the weight dict\n",
    "X_val = np.random.rand(2, 10)\n",
    "y_val = np.random.randint(0, 2, size=(2, 1))  # Use 0 and 1 to match the keys in the weight dict\n",
    "\n",
    "# cast to tf 32\n",
    "X_train = tf.constant(X_train, dtype=tf.float32)\n",
    "y_train = tf.constant(y_train, dtype=tf.float32)\n",
    "X_val = tf.constant(X_val, dtype=tf.float32)\n",
    "y_val = tf.constant(y_val, dtype=tf.float32)\n",
    "print(y_train)\n",
    "print(y_val)\n",
    "\n",
    "# Define simple model\n",
    "model = Sequential([\n",
    "    Dense(64, activation='relu', input_shape=(10,)),\n",
    "    Dense(1)\n",
    "])\n",
    "\n",
    "# Compile the model\n",
    "model.compile(optimizer='adam', loss=lambda y_true, y_pred: pcc_loss(\n",
    "    y_true, y_pred, phase_manager,\n",
    "    train_weight_dict={0: 2.0, 1: 0.5},\n",
    "    val_weight_dict={0: 0.8, 1: 0.2}\n",
    "))"
   ]
  },
  {
   "cell_type": "code",
   "execution_count": 5,
   "id": "e023571c55811328",
   "metadata": {
    "ExecuteTime": {
     "end_time": "2024-09-01T20:44:45.417156Z",
     "start_time": "2024-09-01T20:44:43.219158Z"
    }
   },
   "outputs": [
    {
     "name": "stdout",
     "output_type": "stream",
     "text": [
      "Training Phase: True\n",
      "Weights: [[2]]\n",
      "1/2 [==============>...............] - ETA: 2s - loss: 1.0000Training Phase: True\n",
      "Weights: [[2]]\n",
      "Training Phase: False\n",
      "Weights: [[0.8]]\n",
      "Training Phase: False\n",
      "Weights: [[0.2]]\n",
      "2/2 [==============================] - 3s 186ms/step - loss: 1.0000 - val_loss: 1.0000\n"
     ]
    }
   ],
   "source": [
    "# Train the model with validation data\n",
    "history = model.fit(X_train, y_train, validation_data=(X_val, y_val), epochs=1, batch_size=1, verbose=1, \n",
    "                   callbacks=[IsTraining(phase_manager)])\n"
   ]
  },
  {
   "cell_type": "code",
   "execution_count": 6,
   "id": "89abbba3-2ab7-4cfc-988d-80f4b1654f02",
   "metadata": {},
   "outputs": [
    {
     "name": "stdout",
     "output_type": "stream",
     "text": [
      "Training Phase: False\n",
      "Weights: [[0.8]\n",
      " [0.2]]\n",
      "1/1 [==============================] - 0s 186ms/step - loss: 2.0000\n"
     ]
    },
    {
     "data": {
      "text/plain": [
       "1.999997615814209"
      ]
     },
     "execution_count": 6,
     "metadata": {},
     "output_type": "execute_result"
    }
   ],
   "source": [
    "model.evaluate(X_val, y_val)"
   ]
  },
  {
   "cell_type": "code",
   "execution_count": null,
   "id": "fac3ef9f-a5ef-46cb-aa96-4c4990a4848e",
   "metadata": {},
   "outputs": [],
   "source": []
  }
 ],
 "metadata": {
  "kernelspec": {
   "display_name": "Python 3 (ipykernel)",
   "language": "python",
   "name": "python3"
  },
  "language_info": {
   "codemirror_mode": {
    "name": "ipython",
    "version": 3
   },
   "file_extension": ".py",
   "mimetype": "text/x-python",
   "name": "python",
   "nbconvert_exporter": "python",
   "pygments_lexer": "ipython3",
   "version": "3.10.14"
  }
 },
 "nbformat": 4,
 "nbformat_minor": 5
}
