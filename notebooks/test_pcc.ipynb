{
 "cells": [
  {
   "cell_type": "code",
   "execution_count": 1,
   "id": "initial_id",
   "metadata": {
    "ExecuteTime": {
     "end_time": "2024-09-02T16:43:15.787374Z",
     "start_time": "2024-09-02T16:43:15.771368Z"
    },
    "scrolled": true
   },
   "outputs": [
    {
     "name": "stderr",
     "output_type": "stream",
     "text": [
      "C:\\Users\\the_3\\anaconda3\\envs\\tf-gpu\\lib\\site-packages\\tensorflow_addons\\utils\\tfa_eol_msg.py:23: UserWarning: \n",
      "\n",
      "TensorFlow Addons (TFA) has ended development and introduction of new features.\n",
      "TFA has entered a minimal maintenance and release mode until a planned end of life in May 2024.\n",
      "Please modify downstream libraries to take dependencies from other repositories in our TensorFlow community (e.g. Keras, Keras-CV, and Keras-NLP). \n",
      "\n",
      "For more information see: https://github.com/tensorflow/addons/issues/2807 \n",
      "\n",
      "  warnings.warn(\n",
      "C:\\Users\\the_3\\anaconda3\\envs\\tf-gpu\\lib\\site-packages\\tensorflow_addons\\utils\\ensure_tf_install.py:53: UserWarning: Tensorflow Addons supports using Python ops for all Tensorflow versions above or equal to 2.12.0 and strictly below 2.15.0 (nightly versions are not supported). \n",
      " The versions of TensorFlow you are currently using is 2.10.1 and is not supported. \n",
      "Some things might work, some things might not.\n",
      "If you were to encounter a bug, do not file an issue.\n",
      "If you want to make sure you're using a tested and supported configuration, either change the TensorFlow version or the TensorFlow Addons's version. \n",
      "You can find the compatibility matrix in TensorFlow Addon's readme:\n",
      "https://github.com/tensorflow/addons\n",
      "  warnings.warn(\n"
     ]
    }
   ],
   "source": [
    "import time\n",
    "\n",
    "import numpy as np\n",
    "# from modules.training.ts_modeling import pcc_loss\n",
    "import tensorflow as tf\n",
    "\n",
    "from modules.training.phase_manager import TrainingPhaseManager\n",
    "from modules.training.ts_modeling import pcc_loss"
   ]
  },
  {
   "cell_type": "code",
   "execution_count": 2,
   "id": "59af4afa13ee9d04",
   "metadata": {
    "ExecuteTime": {
     "end_time": "2024-09-02T16:43:15.880361Z",
     "start_time": "2024-09-02T16:43:15.868368Z"
    }
   },
   "outputs": [],
   "source": [
    "pm = TrainingPhaseManager()"
   ]
  },
  {
   "cell_type": "code",
   "execution_count": 6,
   "id": "e28bbffd12ae396b",
   "metadata": {
    "ExecuteTime": {
     "end_time": "2024-09-02T16:43:15.942362Z",
     "start_time": "2024-09-02T16:43:15.912362Z"
    }
   },
   "outputs": [
    {
     "name": "stdout",
     "output_type": "stream",
     "text": [
      "Computed Loss: 0.0035965442657470703\n"
     ]
    }
   ],
   "source": [
    "# Sample input data\n",
    "y_true = tf.constant([1.0, 2.0, 3.0], dtype=tf.float32)\n",
    "y_pred = tf.constant([1.1, 1.9, 3.0], dtype=tf.float32)\n",
    "\n",
    "# Sample weights dictionary\n",
    "train_weight_dict = {1.0: 0.5, 2.0: 1.0, 3.0: 1.5}\n",
    "\n",
    "loss = pcc_loss(y_true, y_pred, pm, train_weight_dict=train_weight_dict)\n",
    "print(f\"Computed Loss: {loss.numpy()}\")"
   ]
  },
  {
   "cell_type": "code",
   "execution_count": 34,
   "id": "23daa8e55c980758",
   "metadata": {
    "ExecuteTime": {
     "end_time": "2024-09-02T16:43:17.244360Z",
     "start_time": "2024-09-02T16:43:15.946362Z"
    }
   },
   "outputs": [
    {
     "name": "stdout",
     "output_type": "stream",
     "text": [
      "Computed Loss: 0.002480745315551758\n",
      "Elapsed Time: 0.012001 seconds\n"
     ]
    }
   ],
   "source": [
    "# Generate 1000 synthetic samples\n",
    "np.random.seed(42)\n",
    "n_samples = 4096\n",
    "y_true = tf.constant(np.random.uniform(0, 5, n_samples), dtype=tf.float32)\n",
    "y_pred = y_true + tf.random.normal(shape=[n_samples], mean=0.0, stddev=0.1)\n",
    "\n",
    "# Generate a sample train_weight_dict\n",
    "unique_values = np.unique(y_true.numpy())\n",
    "train_weight_dict = {val: np.random.uniform(0.5, 2.0) for val in unique_values}\n",
    "\n",
    "# Time the pcc_loss computation\n",
    "start_time = time.time()\n",
    "\n",
    "# Compute the loss\n",
    "loss = pcc_loss(y_true, y_pred, pm, train_weight_dict=train_weight_dict)\n",
    "\n",
    "end_time = time.time()\n",
    "elapsed_time = end_time - start_time\n",
    "\n",
    "print(f\"Computed Loss: {loss.numpy()}\")\n",
    "print(f\"Elapsed Time: {elapsed_time:.6f} seconds\")\n"
   ]
  },
  {
   "cell_type": "code",
   "execution_count": 25,
   "id": "7c16234d649e41ac",
   "metadata": {
    "ExecuteTime": {
     "end_time": "2024-09-02T16:43:17.399360Z",
     "start_time": "2024-09-02T16:43:17.246861Z"
    }
   },
   "outputs": [
    {
     "ename": "TypeError",
     "evalue": "pcc_loss() missing 1 required positional argument: 'phase_manager'",
     "output_type": "error",
     "traceback": [
      "\u001b[1;31m---------------------------------------------------------------------------\u001b[0m",
      "\u001b[1;31mTypeError\u001b[0m                                 Traceback (most recent call last)",
      "Cell \u001b[1;32mIn[25], line 8\u001b[0m\n\u001b[0;32m      5\u001b[0m \u001b[38;5;66;03m# Sample weights dictionary\u001b[39;00m\n\u001b[0;32m      6\u001b[0m train_weight_dict \u001b[38;5;241m=\u001b[39m {\u001b[38;5;241m1.0\u001b[39m: \u001b[38;5;241m0.5\u001b[39m, \u001b[38;5;241m2.0\u001b[39m: \u001b[38;5;241m1.0\u001b[39m, \u001b[38;5;241m3.0\u001b[39m: \u001b[38;5;241m1.5\u001b[39m}\n\u001b[1;32m----> 8\u001b[0m loss \u001b[38;5;241m=\u001b[39m \u001b[43mpcc_loss\u001b[49m\u001b[43m(\u001b[49m\u001b[43my_true\u001b[49m\u001b[43m,\u001b[49m\u001b[43m \u001b[49m\u001b[43my_pred\u001b[49m\u001b[43m,\u001b[49m\u001b[43m \u001b[49m\u001b[43mval_weight_dict\u001b[49m\u001b[38;5;241;43m=\u001b[39;49m\u001b[43mtrain_weight_dict\u001b[49m\u001b[43m)\u001b[49m\n\u001b[0;32m      9\u001b[0m \u001b[38;5;28mprint\u001b[39m(\u001b[38;5;124mf\u001b[39m\u001b[38;5;124m\"\u001b[39m\u001b[38;5;124mComputed Loss: \u001b[39m\u001b[38;5;132;01m{\u001b[39;00mloss\u001b[38;5;241m.\u001b[39mnumpy()\u001b[38;5;132;01m}\u001b[39;00m\u001b[38;5;124m\"\u001b[39m)\n",
      "\u001b[1;31mTypeError\u001b[0m: pcc_loss() missing 1 required positional argument: 'phase_manager'"
     ]
    }
   ],
   "source": [
    "# Sample input data\n",
    "y_true = tf.constant([1.0, 2.0, 3.0], dtype=tf.float32)\n",
    "y_pred = tf.constant([1.1, 1.9, 3.0], dtype=tf.float32)\n",
    "\n",
    "# Sample weights dictionary\n",
    "train_weight_dict = {1.0: 0.5, 2.0: 1.0, 3.0: 1.5}\n",
    "\n",
    "loss = pcc_loss(y_true, y_pred, val_weight_dict=train_weight_dict)\n",
    "print(f\"Computed Loss: {loss.numpy()}\")"
   ]
  },
  {
   "cell_type": "code",
   "execution_count": null,
   "id": "30d76b5c0f0fa8e7",
   "metadata": {
    "ExecuteTime": {
     "end_time": "2024-09-02T16:43:17.406861Z",
     "start_time": "2024-09-02T16:43:17.405862Z"
    }
   },
   "outputs": [],
   "source": [
    "# Sample input data\n",
    "y_true = tf.constant([1.0, 2.0, 3.0], dtype=tf.float32)\n",
    "y_pred = tf.constant([3, 1.9, 1.1], dtype=tf.float32)\n",
    "\n",
    "# Sample weights dictionary\n",
    "train_weight_dict = {1.0: 0.5, 2.0: 1.0, 3.0: 1.5}\n",
    "\n",
    "loss = pcc_loss(y_true, y_pred, train_weight_dict=train_weight_dict)\n",
    "print(f\"Computed Loss: {loss.numpy()}\")"
   ]
  },
  {
   "cell_type": "code",
   "execution_count": null,
   "id": "2473e51da81f12a5",
   "metadata": {
    "ExecuteTime": {
     "start_time": "2024-09-02T16:43:17.408862Z"
    }
   },
   "outputs": [],
   "source": [
    "# Sample input data\n",
    "y_true = tf.constant([1.0, 2.0, 3.0], dtype=tf.float32)\n",
    "y_pred = tf.constant([1.1, 1.9, 3.0], dtype=tf.float32)\n",
    "\n",
    "# Sample weights dictionary\n",
    "train_weight_dict = {1.0: 1, 2.0: 1, 3.0: 1}\n",
    "\n",
    "loss = pcc_loss(y_true, y_pred, train_weight_dict=train_weight_dict)\n",
    "print(f\"Computed Loss: {loss.numpy()}\")"
   ]
  },
  {
   "cell_type": "code",
   "execution_count": null,
   "id": "dfce17f650f2892e",
   "metadata": {
    "ExecuteTime": {
     "end_time": "2024-09-02T16:43:17.412860Z",
     "start_time": "2024-09-02T16:43:17.411863Z"
    }
   },
   "outputs": [],
   "source": [
    "# Sample input data\n",
    "y_true = tf.constant([1.0, 2.0, 3.0], dtype=tf.float32)\n",
    "y_pred = tf.constant([1.1, 1.9, 3.0], dtype=tf.float32)\n",
    "\n",
    "# Sample weights dictionary\n",
    "train_weight_dict = {1.0: 1, 2.0: 1, 3.0: 1}\n",
    "\n",
    "loss = pcc_loss(y_true, y_pred, val_weight_dict=train_weight_dict)\n",
    "print(f\"Computed Loss: {loss.numpy()}\")"
   ]
  },
  {
   "cell_type": "code",
   "execution_count": null,
   "id": "36dc9e6bf541261f",
   "metadata": {},
   "outputs": [],
   "source": [
    "# Sample input data\n",
    "y_true = tf.constant([1.0, 2.0, 3.0], dtype=tf.float32)\n",
    "y_pred = tf.constant([1.1, 1.9, 3.0], dtype=tf.float32)\n",
    "\n",
    "# Sample weights dictionary\n",
    "train_weight_dict = {1.0: 10, 2.0: 100, 3.0: 1000}\n",
    "\n",
    "loss = pcc_loss(y_true, y_pred, train_weight_dict=train_weight_dict, val_weight_dict=train_weight_dict)\n",
    "print(f\"Computed Loss: {loss.numpy()}\")"
   ]
  },
  {
   "cell_type": "code",
   "execution_count": null,
   "id": "e30e1eb4de826505",
   "metadata": {},
   "outputs": [],
   "source": [
    "import tensorflow as tf\n",
    "import numpy as np\n",
    "from tensorflow.keras.models import Sequential\n",
    "from tensorflow.keras.layers import Dense\n",
    "from modules.training.ts_modeling import pcc_loss\n",
    "from modules.training.phase_manager import TrainingPhaseManager, IsTraining"
   ]
  },
  {
   "cell_type": "code",
   "execution_count": null,
   "id": "e92f6fe16d45a17d",
   "metadata": {},
   "outputs": [],
   "source": [
    "\n",
    "# Initialize the phase manager\n",
    "phase_manager = TrainingPhaseManager()\n"
   ]
  },
  {
   "cell_type": "code",
   "execution_count": null,
   "id": "46d73a47ac492292",
   "metadata": {},
   "outputs": [],
   "source": [
    "\n",
    "# Generate synthetic data\n",
    "np.random.seed(42)\n",
    "X_train = np.random.rand(2, 10)\n",
    "y_train = np.random.randint(0, 2, size=(2, 1))  # Use 0 and 1 to match the keys in the weight dict\n",
    "X_val = np.random.rand(2, 10)\n",
    "y_val = np.random.randint(0, 2, size=(2, 1))  # Use 0 and 1 to match the keys in the weight dict\n",
    "\n",
    "# cast to tf 32\n",
    "X_train = tf.constant(X_train, dtype=tf.float32)\n",
    "y_train = tf.constant(y_train, dtype=tf.float32)\n",
    "X_val = tf.constant(X_val, dtype=tf.float32)\n",
    "y_val = tf.constant(y_val, dtype=tf.float32)\n",
    "print(y_train)\n",
    "print(y_val)\n",
    "\n",
    "# Define simple model\n",
    "model = Sequential([\n",
    "    Dense(64, activation='relu', input_shape=(10,)),\n",
    "    Dense(1)\n",
    "])\n",
    "\n",
    "# Compile the model\n",
    "model.compile(optimizer='adam', loss=lambda y_true, y_pred: pcc_loss(\n",
    "    y_true, y_pred, phase_manager,\n",
    "    train_weight_dict={0: 2.0, 1: 0.5},\n",
    "    val_weight_dict={0: 0.8, 1: 0.2}\n",
    "))"
   ]
  },
  {
   "cell_type": "code",
   "execution_count": null,
   "id": "c30cab3bcd9ea24c",
   "metadata": {},
   "outputs": [],
   "source": [
    "# Train the model with validation data\n",
    "history = model.fit(X_train, y_train, validation_data=(X_val, y_val), epochs=1, batch_size=1, verbose=1,\n",
    "                    callbacks=[IsTraining(phase_manager)])\n"
   ]
  },
  {
   "cell_type": "code",
   "execution_count": null,
   "id": "1614f8b5fc3d58f4",
   "metadata": {},
   "outputs": [],
   "source": [
    "model.evaluate(X_val, y_val)"
   ]
  },
  {
   "cell_type": "code",
   "execution_count": null,
   "id": "22afbb81c3c5d4bd",
   "metadata": {},
   "outputs": [],
   "source": []
  }
 ],
 "metadata": {
  "kernelspec": {
   "display_name": "Python 3 (ipykernel)",
   "language": "python",
   "name": "python3"
  },
  "language_info": {
   "codemirror_mode": {
    "name": "ipython",
    "version": 3
   },
   "file_extension": ".py",
   "mimetype": "text/x-python",
   "name": "python",
   "nbconvert_exporter": "python",
   "pygments_lexer": "ipython3",
   "version": "3.10.14"
  }
 },
 "nbformat": 4,
 "nbformat_minor": 5
}
