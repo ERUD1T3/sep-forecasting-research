{
 "cells": [
  {
   "cell_type": "code",
   "id": "initial_id",
   "metadata": {
    "collapsed": true,
    "ExecuteTime": {
     "end_time": "2024-08-29T18:52:35.081612Z",
     "start_time": "2024-08-29T18:52:30.614999Z"
    }
   },
   "source": [
    "from modules.training.ts_modeling import pcc_loss\n",
    "import numpy as np\n",
    "import tensorflow as tf"
   ],
   "outputs": [
    {
     "name": "stderr",
     "output_type": "stream",
     "text": [
      "C:\\Users\\the_3\\anaconda3\\envs\\tf-gpu\\lib\\site-packages\\tensorflow_addons\\utils\\tfa_eol_msg.py:23: UserWarning: \n",
      "\n",
      "TensorFlow Addons (TFA) has ended development and introduction of new features.\n",
      "TFA has entered a minimal maintenance and release mode until a planned end of life in May 2024.\n",
      "Please modify downstream libraries to take dependencies from other repositories in our TensorFlow community (e.g. Keras, Keras-CV, and Keras-NLP). \n",
      "\n",
      "For more information see: https://github.com/tensorflow/addons/issues/2807 \n",
      "\n",
      "  warnings.warn(\n",
      "C:\\Users\\the_3\\anaconda3\\envs\\tf-gpu\\lib\\site-packages\\tensorflow_addons\\utils\\ensure_tf_install.py:53: UserWarning: Tensorflow Addons supports using Python ops for all Tensorflow versions above or equal to 2.12.0 and strictly below 2.15.0 (nightly versions are not supported). \n",
      " The versions of TensorFlow you are currently using is 2.10.1 and is not supported. \n",
      "Some things might work, some things might not.\n",
      "If you were to encounter a bug, do not file an issue.\n",
      "If you want to make sure you're using a tested and supported configuration, either change the TensorFlow version or the TensorFlow Addons's version. \n",
      "You can find the compatibility matrix in TensorFlow Addon's readme:\n",
      "https://github.com/tensorflow/addons\n",
      "  warnings.warn(\n"
     ]
    }
   ],
   "execution_count": 1
  },
  {
   "metadata": {
    "ExecuteTime": {
     "end_time": "2024-08-29T18:53:08.871803Z",
     "start_time": "2024-08-29T18:53:08.823204Z"
    }
   },
   "cell_type": "code",
   "source": [
    "# Sample input data\n",
    "y_true = tf.constant([1.0, 2.0, 3.0], dtype=tf.float32)\n",
    "y_pred = tf.constant([1.1, 1.9, 3.0], dtype=tf.float32)\n",
    "\n",
    "# Sample weights dictionary\n",
    "train_weight_dict = {1.0: 0.5, 2.0: 1.0, 3.0: 1.5}\n",
    "\n",
    "loss = pcc_loss(y_true, y_pred, train_weight_dict=train_weight_dict)\n",
    "print(f\"Computed Loss: {loss.numpy()}\")"
   ],
   "id": "e28bbffd12ae396b",
   "outputs": [
    {
     "name": "stdout",
     "output_type": "stream",
     "text": [
      "Is training: 0\n",
      "Y_true: [1. 2. 3.]\n",
      "Y_pred: [1.1 1.9 3. ]\n",
      "Weights: [1. 1. 1.]\n",
      "Computed Loss: 0.004129350185394287\n"
     ]
    }
   ],
   "execution_count": 3
  },
  {
   "metadata": {
    "ExecuteTime": {
     "end_time": "2024-08-29T20:03:42.049115Z",
     "start_time": "2024-08-29T20:03:41.978949Z"
    }
   },
   "cell_type": "code",
   "source": [
    "# Sample input data\n",
    "y_true = tf.constant([1.0, 2.0, 3.0], dtype=tf.float32)\n",
    "y_pred = tf.constant([1.1, 1.9, 3.0], dtype=tf.float32)\n",
    "\n",
    "# Sample weights dictionary\n",
    "train_weight_dict = {1.0: 0.5, 2.0: 1.0, 3.0: 1.5}\n",
    "\n",
    "loss = pcc_loss(y_true, y_pred, val_weight_dict=train_weight_dict)\n",
    "print(f\"Computed Loss: {loss.numpy()}\")"
   ],
   "id": "7c16234d649e41ac",
   "outputs": [
    {
     "name": "stdout",
     "output_type": "stream",
     "text": [
      "Is training: 0\n",
      "Y_true: [1. 2. 3.]\n",
      "Y_pred: [1.1 1.9 3. ]\n",
      "Weights: [0.5 1.  1.5]\n",
      "Computed Loss: 0.0035965442657470703\n"
     ]
    }
   ],
   "execution_count": 7
  },
  {
   "metadata": {
    "ExecuteTime": {
     "end_time": "2024-08-29T20:04:26.353599Z",
     "start_time": "2024-08-29T20:04:26.319619Z"
    }
   },
   "cell_type": "code",
   "source": [
    "# Sample input data\n",
    "y_true = tf.constant([1.0, 2.0, 3.0], dtype=tf.float32)\n",
    "y_pred = tf.constant([3, 1.9, 1.1], dtype=tf.float32)\n",
    "\n",
    "# Sample weights dictionary\n",
    "train_weight_dict = {1.0: 0.5, 2.0: 1.0, 3.0: 1.5}\n",
    "\n",
    "loss = pcc_loss(y_true, y_pred, train_weight_dict=train_weight_dict)\n",
    "print(f\"Computed Loss: {loss.numpy()}\")"
   ],
   "id": "30d76b5c0f0fa8e7",
   "outputs": [
    {
     "name": "stdout",
     "output_type": "stream",
     "text": [
      "Is training: 0\n",
      "Y_true: [1. 2. 3.]\n",
      "Y_pred: [3.  1.9 1.1]\n",
      "Weights: [1. 1. 1.]\n",
      "Computed Loss: 1.995870590209961\n"
     ]
    }
   ],
   "execution_count": 8
  },
  {
   "metadata": {
    "ExecuteTime": {
     "end_time": "2024-08-29T18:11:30.785503Z",
     "start_time": "2024-08-29T18:11:30.754493Z"
    }
   },
   "cell_type": "code",
   "source": [
    "# Sample input data\n",
    "y_true = tf.constant([1.0, 2.0, 3.0], dtype=tf.float32)\n",
    "y_pred = tf.constant([1.1, 1.9, 3.0], dtype=tf.float32)\n",
    "\n",
    "# Sample weights dictionary\n",
    "train_weight_dict = {1.0: 1, 2.0: 1, 3.0: 1}\n",
    "\n",
    "loss = pcc_loss(y_true, y_pred, train_weight_dict=train_weight_dict)\n",
    "print(f\"Computed Loss: {loss.numpy()}\")"
   ],
   "id": "2473e51da81f12a5",
   "outputs": [
    {
     "name": "stdout",
     "output_type": "stream",
     "text": [
      "Is training: 0\n",
      "Computed Loss: 0.004129350185394287\n"
     ]
    }
   ],
   "execution_count": 4
  },
  {
   "metadata": {
    "ExecuteTime": {
     "end_time": "2024-08-29T18:54:21.627049Z",
     "start_time": "2024-08-29T18:54:21.605058Z"
    }
   },
   "cell_type": "code",
   "source": [
    "# Sample input data\n",
    "y_true = tf.constant([1.0, 2.0, 3.0], dtype=tf.float32)\n",
    "y_pred = tf.constant([1.1, 1.9, 3.0], dtype=tf.float32)\n",
    "\n",
    "# Sample weights dictionary\n",
    "train_weight_dict = {1.0: 1, 2.0: 1, 3.0: 1}\n",
    "\n",
    "loss = pcc_loss(y_true, y_pred, val_weight_dict=train_weight_dict)\n",
    "print(f\"Computed Loss: {loss.numpy()}\")"
   ],
   "id": "dfce17f650f2892e",
   "outputs": [
    {
     "name": "stdout",
     "output_type": "stream",
     "text": [
      "Is training: 0\n",
      "Y_true: [1. 2. 3.]\n",
      "Y_pred: [1.1 1.9 3. ]\n",
      "Weights: [1. 1. 1.]\n",
      "Computed Loss: 0.004129350185394287\n"
     ]
    }
   ],
   "execution_count": 6
  },
  {
   "metadata": {
    "ExecuteTime": {
     "end_time": "2024-08-29T18:54:16.576372Z",
     "start_time": "2024-08-29T18:54:16.551999Z"
    }
   },
   "cell_type": "code",
   "source": [
    "# Sample input data\n",
    "y_true = tf.constant([1.0, 2.0, 3.0], dtype=tf.float32)\n",
    "y_pred = tf.constant([1.1, 1.9, 3.0], dtype=tf.float32)\n",
    "\n",
    "# Sample weights dictionary\n",
    "train_weight_dict = {1.0: 10, 2.0: 100, 3.0: 1000}\n",
    "\n",
    "loss = pcc_loss(y_true, y_pred, train_weight_dict=train_weight_dict, val_weight_dict=train_weight_dict)\n",
    "print(f\"Computed Loss: {loss.numpy()}\")"
   ],
   "id": "36dc9e6bf541261f",
   "outputs": [
    {
     "name": "stdout",
     "output_type": "stream",
     "text": [
      "Is training: 0\n",
      "Y_true: [1. 2. 3.]\n",
      "Y_pred: [1.1 1.9 3. ]\n",
      "Weights: [  10.  100. 1000.]\n",
      "Computed Loss: 0.0005446672439575195\n"
     ]
    }
   ],
   "execution_count": 5
  },
  {
   "metadata": {
    "ExecuteTime": {
     "end_time": "2024-08-29T18:48:04.231764Z",
     "start_time": "2024-08-29T18:48:04.219761Z"
    }
   },
   "cell_type": "code",
   "source": "",
   "id": "2c2109980d7c0739",
   "outputs": [],
   "execution_count": 2
  },
  {
   "metadata": {},
   "cell_type": "code",
   "outputs": [],
   "execution_count": null,
   "source": "",
   "id": "bcf67319410f4e51"
  }
 ],
 "metadata": {
  "kernelspec": {
   "display_name": "Python 3",
   "language": "python",
   "name": "python3"
  },
  "language_info": {
   "codemirror_mode": {
    "name": "ipython",
    "version": 2
   },
   "file_extension": ".py",
   "mimetype": "text/x-python",
   "name": "python",
   "nbconvert_exporter": "python",
   "pygments_lexer": "ipython2",
   "version": "2.7.6"
  }
 },
 "nbformat": 4,
 "nbformat_minor": 5
}
