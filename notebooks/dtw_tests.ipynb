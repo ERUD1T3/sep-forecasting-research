{
 "cells": [
  {
   "cell_type": "code",
   "execution_count": 1,
   "id": "9a0109a448ffa46e",
   "metadata": {
    "ExecuteTime": {
     "end_time": "2024-12-05T15:54:08.642676Z",
     "start_time": "2024-12-05T15:54:07.947722Z"
    }
   },
   "outputs": [
    {
     "name": "stdout",
     "output_type": "stream",
     "text": [
      "Importing the dtw module. When using in academic works please cite:\n",
      "  T. Giorgino. Computing and Visualizing Dynamic Time Warping Alignments in R: The dtw Package.\n",
      "  J. Stat. Soft., doi:10.18637/jss.v031.i07.\n",
      "\n"
     ]
    }
   ],
   "source": [
    "import numpy as np\n",
    "from dtw import dtw"
   ]
  },
  {
   "cell_type": "code",
   "execution_count": 2,
   "id": "c590ccaad0e00afe",
   "metadata": {
    "ExecuteTime": {
     "end_time": "2024-12-05T15:54:24.503032Z",
     "start_time": "2024-12-05T15:54:24.489031Z"
    }
   },
   "outputs": [],
   "source": [
    "def normalized_dtw_distance(series1: np.ndarray, series2: np.ndarray) -> float:\n",
    "    \"\"\"\n",
    "    Computes the normalized DTW distance between two time series.\n",
    "\n",
    "    This function calculates the DTW distance between two input time series\n",
    "    and normalizes it by the length of the longer series to provide a\n",
    "    length-invariant measure of similarity.\n",
    "\n",
    "    Parameters:\n",
    "    series1 (np.ndarray): The first time series.\n",
    "    series2 (np.ndarray): The second time series.\n",
    "\n",
    "    Returns:\n",
    "    float: The normalized DTW distance.\n",
    "    \"\"\"\n",
    "    # Compute DTW distance using the dtw package\n",
    "    alignment = dtw(series1, series2, keep_internals=True)\n",
    "    dtw_distance = alignment.distance\n",
    "\n",
    "    # Determine the length of the longer time series\n",
    "    max_length = max(len(series1), len(series2))\n",
    "\n",
    "    # Normalize the DTW distance by the length of the longer series\n",
    "    normalized_distance = dtw_distance / max_length\n",
    "\n",
    "    return normalized_distance\n"
   ]
  },
  {
   "cell_type": "code",
   "execution_count": 3,
   "id": "59ede6576e23f325",
   "metadata": {
    "ExecuteTime": {
     "end_time": "2024-12-05T15:54:28.218220Z",
     "start_time": "2024-12-05T15:54:28.195070Z"
    }
   },
   "outputs": [
    {
     "name": "stdout",
     "output_type": "stream",
     "text": [
      "Normalized DTW Distance: 0.4\n"
     ]
    }
   ],
   "source": [
    "# Example time series data\n",
    "ts1 = np.array([1, 2, 3, 4, 5])\n",
    "ts2 = np.array([2, 3, 4])\n",
    "\n",
    "# Compute normalized DTW distance\n",
    "distance = normalized_dtw_distance(ts1, ts2)\n",
    "print(f\"Normalized DTW Distance: {distance}\")\n"
   ]
  },
  {
   "cell_type": "code",
   "execution_count": 4,
   "id": "226148d36742b842",
   "metadata": {
    "ExecuteTime": {
     "end_time": "2024-12-05T15:54:46.947386Z",
     "start_time": "2024-12-05T15:54:46.929365Z"
    }
   },
   "outputs": [
    {
     "name": "stdout",
     "output_type": "stream",
     "text": [
      "Normalized DTW Distance: 2.0\n"
     ]
    }
   ],
   "source": [
    "# Example time series data\n",
    "ts1 = np.array([1, 2, 3, 4, 5])\n",
    "ts2 = np.array([2, 10, 4])\n",
    "\n",
    "# Compute normalized DTW distance\n",
    "distance = normalized_dtw_distance(ts1, ts2)\n",
    "print(f\"Normalized DTW Distance: {distance}\")"
   ]
  },
  {
   "cell_type": "markdown",
   "id": "111d110e9996768",
   "metadata": {},
   "source": [
    "# Load the data and compute the normalized DTW distance from event with largest peak intensity to other events"
   ]
  },
  {
   "cell_type": "code",
   "execution_count": 5,
   "id": "b6bc0bfd6570b186",
   "metadata": {
    "ExecuteTime": {
     "end_time": "2024-12-05T19:11:56.895344Z",
     "start_time": "2024-12-05T19:11:56.857342Z"
    }
   },
   "outputs": [],
   "source": [
    "path_to_data = 'C:/Users/the_3/Documents/github/keras-functional-api/data/electron_cme_data_split_v8/full'\n"
   ]
  },
  {
   "cell_type": "code",
   "id": "f5b408b2",
   "metadata": {
    "ExecuteTime": {
     "end_time": "2024-12-05T19:15:23.622359Z",
     "start_time": "2024-12-05T19:15:19.186935Z"
    }
   },
   "source": [
    "import pandas as pd\n",
    "import os\n",
    "\n",
    "# Read all files to get event IDs and extract time series\n",
    "event_data = []\n",
    "for file_name in os.listdir(path_to_data):\n",
    "    if file_name.endswith('_ie_trim.csv'):\n",
    "        event_id = int(file_name.split('_')[2])  # Extract event number\n",
    "        file_path = os.path.join(path_to_data, file_name)\n",
    "        df = pd.read_csv(file_path)\n",
    "        \n",
    "        # Get proton intensity time series after log transform\n",
    "        log_proton_series = np.log1p(df['Proton Intensity'])\n",
    "        \n",
    "        # Get peak values\n",
    "        peak_intensity = np.max(df['Proton Intensity'])\n",
    "        log_peak_intensity = np.log1p(peak_intensity)\n",
    "        peak_delta = np.max(df['delta_log_Intensity'])\n",
    "        \n",
    "        event_data.append({\n",
    "            'event_id': event_id,\n",
    "            'time_series': log_proton_series,\n",
    "            'peak_intensity': peak_intensity,\n",
    "            'log_peak_intensity': log_peak_intensity,\n",
    "            'peak_delta': peak_delta\n",
    "        })\n",
    "\n",
    "# Use event 12 as anchor\n",
    "anchor_event = next(event for event in event_data if event['event_id'] == 12)\n",
    "anchor_series = anchor_event['time_series']\n",
    "\n",
    "# Calculate distances\n",
    "distances = []\n",
    "for event in event_data:\n",
    "    distance = normalized_dtw_distance(anchor_series, event['time_series'])\n",
    "    distances.append({\n",
    "        'event_id': event['event_id'],\n",
    "        'distance': distance,\n",
    "        'peak_intensity': event['peak_intensity'],\n",
    "        'log_peak_intensity': event['log_peak_intensity'], \n",
    "        'peak_delta': event['peak_delta']\n",
    "    })\n",
    "\n",
    "# Create DataFrame and sort by distance\n",
    "results_df = pd.DataFrame(distances)\n",
    "results_df = results_df.sort_values('distance')\n",
    "\n",
    "# Display the results\n",
    "print(\"\\nResults table (sorted by distance from Event 12):\")\n",
    "print(results_df.to_string(index=False, float_format=lambda x: '{:.4f}'.format(x)))\n"
   ],
   "outputs": [
    {
     "name": "stdout",
     "output_type": "stream",
     "text": [
      "\n",
      "Results table (sorted by distance from Event 12):\n",
      " event_id  distance  peak_intensity  log_peak_intensity  peak_delta\n",
      "       12    0.0000        353.9040              5.8718      1.7164\n",
      "       10    0.1807        229.3620              5.4397      1.3985\n",
      "       31    0.2302         93.0270              4.5436      0.5265\n",
      "       44    0.2386         78.7868              4.3794      2.3158\n",
      "       27    0.2488         81.2694              4.4100      1.2491\n",
      "       38    0.2677        129.7824              4.8735      1.2445\n",
      "       13    0.3746         41.7726              3.7559      1.7283\n",
      "       11    0.3801         58.6158              4.0879      1.0971\n",
      "       35    0.4717         25.2998              3.2696      0.9356\n",
      "       43    0.4924         63.7880              4.1711      1.0562\n",
      "       28    0.5651         19.8000              3.0350      1.1481\n",
      "        5    0.5766         20.4640              3.0664      1.0373\n",
      "       19    0.8202          9.9734              2.3955      1.0449\n",
      "       33    0.8807          8.2192              2.2213      0.6870\n",
      "       34    0.9367          7.4951              2.1395      0.5572\n",
      "       20    1.0240          9.2696              2.3292      1.4242\n",
      "        9    1.0956          5.7000              1.9021      0.7260\n",
      "       26    1.1920          5.2216              1.8280      0.4066\n",
      "       25    1.2352          5.1887              1.8227      0.9166\n",
      "       21    1.3440          4.7150              1.7431      0.3543\n",
      "       41    1.4068          3.2741              1.4526      0.7448\n",
      "       22    1.5400          3.2297              1.4421      0.6893\n",
      "       16    1.5632          2.5224              1.2592      0.7146\n",
      "        2    1.5748          3.4319              1.4888      0.8116\n",
      "       30    1.7009          2.3638              1.2131      0.3284\n",
      "       24    1.7653          1.7757              1.0209      0.3607\n",
      "        4    1.7816          2.1523              1.1481      0.3511\n",
      "       14    1.8311          1.8916              1.0618      0.3314\n",
      "        6    1.8564          1.6000              0.9555      0.4715\n",
      "        1    1.8893          1.3711              0.8633      0.4981\n",
      "        7    1.9170          1.6933              0.9908      0.1118\n",
      "       39    1.9263          1.4680              0.9034      0.1361\n",
      "       42    1.9294          1.4753              0.9064      0.2677\n",
      "       29    1.9423          1.4019              0.8763      0.3865\n",
      "       32    2.0690          0.9515              0.6686      0.6118\n",
      "       23    2.0753          0.9747              0.6804      0.2164\n",
      "       15    2.0781          0.9365              0.6609      0.2836\n",
      "       36    2.0897          0.9802              0.6832      0.4337\n",
      "        3    2.0945          0.9088              0.6465      0.2038\n",
      "       17    2.1229          1.0588              0.7221      0.3928\n",
      "       37    2.1885          0.7969              0.5860      0.2056\n",
      "        8    2.3206          0.8719              0.6270      0.4488\n",
      "       40    2.3241          0.5003              0.4057      0.1310\n",
      "       18    2.3701          0.3998              0.3363      0.0724\n"
     ]
    }
   ],
   "execution_count": 8
  }
 ],
 "metadata": {
  "kernelspec": {
   "display_name": "Python 3",
   "language": "python",
   "name": "python3"
  },
  "language_info": {
   "codemirror_mode": {
    "name": "ipython",
    "version": 2
   },
   "file_extension": ".py",
   "mimetype": "text/x-python",
   "name": "python",
   "nbconvert_exporter": "python",
   "pygments_lexer": "ipython2",
   "version": "2.7.6"
  }
 },
 "nbformat": 4,
 "nbformat_minor": 5
}
