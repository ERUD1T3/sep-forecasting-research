{
 "cells": [
  {
   "metadata": {
    "ExecuteTime": {
     "end_time": "2024-12-05T15:54:08.642676Z",
     "start_time": "2024-12-05T15:54:07.947722Z"
    }
   },
   "cell_type": "code",
   "source": [
    "import numpy as np\n",
    "from dtw import dtw"
   ],
   "id": "9a0109a448ffa46e",
   "outputs": [
    {
     "name": "stdout",
     "output_type": "stream",
     "text": [
      "Importing the dtw module. When using in academic works please cite:\n",
      "  T. Giorgino. Computing and Visualizing Dynamic Time Warping Alignments in R: The dtw Package.\n",
      "  J. Stat. Soft., doi:10.18637/jss.v031.i07.\n",
      "\n"
     ]
    }
   ],
   "execution_count": 1
  },
  {
   "metadata": {
    "ExecuteTime": {
     "end_time": "2024-12-05T15:54:24.503032Z",
     "start_time": "2024-12-05T15:54:24.489031Z"
    }
   },
   "cell_type": "code",
   "source": [
    "def normalized_dtw_distance(series1: np.ndarray, series2: np.ndarray) -> float:\n",
    "    \"\"\"\n",
    "    Computes the normalized DTW distance between two time series.\n",
    "\n",
    "    This function calculates the DTW distance between two input time series\n",
    "    and normalizes it by the length of the longer series to provide a\n",
    "    length-invariant measure of similarity.\n",
    "\n",
    "    Parameters:\n",
    "    series1 (np.ndarray): The first time series.\n",
    "    series2 (np.ndarray): The second time series.\n",
    "\n",
    "    Returns:\n",
    "    float: The normalized DTW distance.\n",
    "    \"\"\"\n",
    "    # Compute DTW distance using the dtw package\n",
    "    alignment = dtw(series1, series2, keep_internals=True)\n",
    "    dtw_distance = alignment.distance\n",
    "\n",
    "    # Determine the length of the longer time series\n",
    "    max_length = max(len(series1), len(series2))\n",
    "\n",
    "    # Normalize the DTW distance by the length of the longer series\n",
    "    normalized_distance = dtw_distance / max_length\n",
    "\n",
    "    return normalized_distance\n"
   ],
   "id": "c590ccaad0e00afe",
   "outputs": [],
   "execution_count": 2
  },
  {
   "metadata": {
    "ExecuteTime": {
     "end_time": "2024-12-05T15:54:28.218220Z",
     "start_time": "2024-12-05T15:54:28.195070Z"
    }
   },
   "cell_type": "code",
   "source": [
    "# Example time series data\n",
    "ts1 = np.array([1, 2, 3, 4, 5])\n",
    "ts2 = np.array([2, 3, 4])\n",
    "\n",
    "# Compute normalized DTW distance\n",
    "distance = normalized_dtw_distance(ts1, ts2)\n",
    "print(f\"Normalized DTW Distance: {distance}\")\n"
   ],
   "id": "59ede6576e23f325",
   "outputs": [
    {
     "name": "stdout",
     "output_type": "stream",
     "text": [
      "Normalized DTW Distance: 0.4\n"
     ]
    }
   ],
   "execution_count": 3
  },
  {
   "metadata": {
    "ExecuteTime": {
     "end_time": "2024-12-05T15:54:46.947386Z",
     "start_time": "2024-12-05T15:54:46.929365Z"
    }
   },
   "cell_type": "code",
   "source": [
    "# Example time series data\n",
    "ts1 = np.array([1, 2, 3, 4, 5])\n",
    "ts2 = np.array([2, 10, 4])\n",
    "\n",
    "# Compute normalized DTW distance\n",
    "distance = normalized_dtw_distance(ts1, ts2)\n",
    "print(f\"Normalized DTW Distance: {distance}\")"
   ],
   "id": "226148d36742b842",
   "outputs": [
    {
     "name": "stdout",
     "output_type": "stream",
     "text": [
      "Normalized DTW Distance: 2.0\n"
     ]
    }
   ],
   "execution_count": 4
  }
 ],
 "metadata": {
  "kernelspec": {
   "display_name": "Python 3",
   "language": "python",
   "name": "python3"
  },
  "language_info": {
   "codemirror_mode": {
    "name": "ipython",
    "version": 2
   },
   "file_extension": ".py",
   "mimetype": "text/x-python",
   "name": "python",
   "nbconvert_exporter": "python",
   "pygments_lexer": "ipython2",
   "version": "2.7.6"
  }
 },
 "nbformat": 4,
 "nbformat_minor": 5
}
